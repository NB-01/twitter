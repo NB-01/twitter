{
 "cells": [
  {
   "cell_type": "markdown",
   "id": "905cc8a9-d04d-4560-9d76-27247aad9f3b",
   "metadata": {},
   "source": [
    "# Twitter vs Stocks Change Data Analysis"
   ]
  },
  {
   "cell_type": "markdown",
   "id": "26a7c815-7599-4d56-9e45-01429cd893fa",
   "metadata": {},
   "source": [
    "## Data Cleaning Notebook"
   ]
  },
  {
   "cell_type": "code",
   "execution_count": 323,
   "id": "43b56dad-7f3f-44f1-afe2-543696ee3345",
   "metadata": {},
   "outputs": [],
   "source": [
    "# Packages:\n",
    "import pandas as pd\n",
    "import matplotlib.pyplot as plt\n",
    "import plotly.express as px\n",
    "import plotly.graph_objects as go\n",
    "from urllib.request import urlopen\n",
    "import json\n",
    "import datetime\n",
    "import numpy as np\n",
    "import warnings\n",
    "warnings.filterwarnings('ignore')"
   ]
  },
  {
   "cell_type": "code",
   "execution_count": 324,
   "id": "0156e0bf-c92c-4593-9a2a-b40106106c74",
   "metadata": {},
   "outputs": [
    {
     "ename": "FileNotFoundError",
     "evalue": "[Errno 2] No such file or directory: 'data/branson.csv'",
     "output_type": "error",
     "traceback": [
      "\u001b[0;31m---------------------------------------------------------------------------\u001b[0m",
      "\u001b[0;31mFileNotFoundError\u001b[0m                         Traceback (most recent call last)",
      "\u001b[0;32m<ipython-input-324-1c52c7ec48f7>\u001b[0m in \u001b[0;36m<module>\u001b[0;34m\u001b[0m\n\u001b[1;32m      2\u001b[0m \u001b[0mcolumns_chosed\u001b[0m \u001b[0;34m=\u001b[0m \u001b[0;34m[\u001b[0m\u001b[0;34m'created_at'\u001b[0m\u001b[0;34m,\u001b[0m\u001b[0;34m'full_text'\u001b[0m\u001b[0;34m,\u001b[0m\u001b[0;34m'id'\u001b[0m\u001b[0;34m,\u001b[0m\u001b[0;34m'source'\u001b[0m\u001b[0;34m,\u001b[0m\u001b[0;34m'favorite_count'\u001b[0m\u001b[0;34m,\u001b[0m\u001b[0;34m'retweet_count'\u001b[0m\u001b[0;34m]\u001b[0m\u001b[0;34m\u001b[0m\u001b[0;34m\u001b[0m\u001b[0m\n\u001b[1;32m      3\u001b[0m \u001b[0;34m\u001b[0m\u001b[0m\n\u001b[0;32m----> 4\u001b[0;31m \u001b[0mceo_tweets\u001b[0m \u001b[0;34m=\u001b[0m \u001b[0mpd\u001b[0m\u001b[0;34m.\u001b[0m\u001b[0mread_csv\u001b[0m\u001b[0;34m(\u001b[0m\u001b[0;34m\"data/branson.csv\"\u001b[0m\u001b[0;34m)\u001b[0m\u001b[0;34m\u001b[0m\u001b[0;34m\u001b[0m\u001b[0m\n\u001b[0m\u001b[1;32m      5\u001b[0m \u001b[0mceo_tweets\u001b[0m \u001b[0;34m=\u001b[0m \u001b[0mceo_tweets\u001b[0m\u001b[0;34m[\u001b[0m\u001b[0mcolumns_chosed\u001b[0m\u001b[0;34m]\u001b[0m\u001b[0;34m\u001b[0m\u001b[0;34m\u001b[0m\u001b[0m\n",
      "\u001b[0;32m~/anaconda3/envs/TWT/lib/python3.8/site-packages/pandas/util/_decorators.py\u001b[0m in \u001b[0;36mwrapper\u001b[0;34m(*args, **kwargs)\u001b[0m\n\u001b[1;32m    309\u001b[0m                     \u001b[0mstacklevel\u001b[0m\u001b[0;34m=\u001b[0m\u001b[0mstacklevel\u001b[0m\u001b[0;34m,\u001b[0m\u001b[0;34m\u001b[0m\u001b[0;34m\u001b[0m\u001b[0m\n\u001b[1;32m    310\u001b[0m                 )\n\u001b[0;32m--> 311\u001b[0;31m             \u001b[0;32mreturn\u001b[0m \u001b[0mfunc\u001b[0m\u001b[0;34m(\u001b[0m\u001b[0;34m*\u001b[0m\u001b[0margs\u001b[0m\u001b[0;34m,\u001b[0m \u001b[0;34m**\u001b[0m\u001b[0mkwargs\u001b[0m\u001b[0;34m)\u001b[0m\u001b[0;34m\u001b[0m\u001b[0;34m\u001b[0m\u001b[0m\n\u001b[0m\u001b[1;32m    312\u001b[0m \u001b[0;34m\u001b[0m\u001b[0m\n\u001b[1;32m    313\u001b[0m         \u001b[0;32mreturn\u001b[0m \u001b[0mwrapper\u001b[0m\u001b[0;34m\u001b[0m\u001b[0;34m\u001b[0m\u001b[0m\n",
      "\u001b[0;32m~/anaconda3/envs/TWT/lib/python3.8/site-packages/pandas/io/parsers/readers.py\u001b[0m in \u001b[0;36mread_csv\u001b[0;34m(filepath_or_buffer, sep, delimiter, header, names, index_col, usecols, squeeze, prefix, mangle_dupe_cols, dtype, engine, converters, true_values, false_values, skipinitialspace, skiprows, skipfooter, nrows, na_values, keep_default_na, na_filter, verbose, skip_blank_lines, parse_dates, infer_datetime_format, keep_date_col, date_parser, dayfirst, cache_dates, iterator, chunksize, compression, thousands, decimal, lineterminator, quotechar, quoting, doublequote, escapechar, comment, encoding, encoding_errors, dialect, error_bad_lines, warn_bad_lines, on_bad_lines, delim_whitespace, low_memory, memory_map, float_precision, storage_options)\u001b[0m\n\u001b[1;32m    584\u001b[0m     \u001b[0mkwds\u001b[0m\u001b[0;34m.\u001b[0m\u001b[0mupdate\u001b[0m\u001b[0;34m(\u001b[0m\u001b[0mkwds_defaults\u001b[0m\u001b[0;34m)\u001b[0m\u001b[0;34m\u001b[0m\u001b[0;34m\u001b[0m\u001b[0m\n\u001b[1;32m    585\u001b[0m \u001b[0;34m\u001b[0m\u001b[0m\n\u001b[0;32m--> 586\u001b[0;31m     \u001b[0;32mreturn\u001b[0m \u001b[0m_read\u001b[0m\u001b[0;34m(\u001b[0m\u001b[0mfilepath_or_buffer\u001b[0m\u001b[0;34m,\u001b[0m \u001b[0mkwds\u001b[0m\u001b[0;34m)\u001b[0m\u001b[0;34m\u001b[0m\u001b[0;34m\u001b[0m\u001b[0m\n\u001b[0m\u001b[1;32m    587\u001b[0m \u001b[0;34m\u001b[0m\u001b[0m\n\u001b[1;32m    588\u001b[0m \u001b[0;34m\u001b[0m\u001b[0m\n",
      "\u001b[0;32m~/anaconda3/envs/TWT/lib/python3.8/site-packages/pandas/io/parsers/readers.py\u001b[0m in \u001b[0;36m_read\u001b[0;34m(filepath_or_buffer, kwds)\u001b[0m\n\u001b[1;32m    480\u001b[0m \u001b[0;34m\u001b[0m\u001b[0m\n\u001b[1;32m    481\u001b[0m     \u001b[0;31m# Create the parser.\u001b[0m\u001b[0;34m\u001b[0m\u001b[0;34m\u001b[0m\u001b[0;34m\u001b[0m\u001b[0m\n\u001b[0;32m--> 482\u001b[0;31m     \u001b[0mparser\u001b[0m \u001b[0;34m=\u001b[0m \u001b[0mTextFileReader\u001b[0m\u001b[0;34m(\u001b[0m\u001b[0mfilepath_or_buffer\u001b[0m\u001b[0;34m,\u001b[0m \u001b[0;34m**\u001b[0m\u001b[0mkwds\u001b[0m\u001b[0;34m)\u001b[0m\u001b[0;34m\u001b[0m\u001b[0;34m\u001b[0m\u001b[0m\n\u001b[0m\u001b[1;32m    483\u001b[0m \u001b[0;34m\u001b[0m\u001b[0m\n\u001b[1;32m    484\u001b[0m     \u001b[0;32mif\u001b[0m \u001b[0mchunksize\u001b[0m \u001b[0;32mor\u001b[0m \u001b[0miterator\u001b[0m\u001b[0;34m:\u001b[0m\u001b[0;34m\u001b[0m\u001b[0;34m\u001b[0m\u001b[0m\n",
      "\u001b[0;32m~/anaconda3/envs/TWT/lib/python3.8/site-packages/pandas/io/parsers/readers.py\u001b[0m in \u001b[0;36m__init__\u001b[0;34m(self, f, engine, **kwds)\u001b[0m\n\u001b[1;32m    809\u001b[0m             \u001b[0mself\u001b[0m\u001b[0;34m.\u001b[0m\u001b[0moptions\u001b[0m\u001b[0;34m[\u001b[0m\u001b[0;34m\"has_index_names\"\u001b[0m\u001b[0;34m]\u001b[0m \u001b[0;34m=\u001b[0m \u001b[0mkwds\u001b[0m\u001b[0;34m[\u001b[0m\u001b[0;34m\"has_index_names\"\u001b[0m\u001b[0;34m]\u001b[0m\u001b[0;34m\u001b[0m\u001b[0;34m\u001b[0m\u001b[0m\n\u001b[1;32m    810\u001b[0m \u001b[0;34m\u001b[0m\u001b[0m\n\u001b[0;32m--> 811\u001b[0;31m         \u001b[0mself\u001b[0m\u001b[0;34m.\u001b[0m\u001b[0m_engine\u001b[0m \u001b[0;34m=\u001b[0m \u001b[0mself\u001b[0m\u001b[0;34m.\u001b[0m\u001b[0m_make_engine\u001b[0m\u001b[0;34m(\u001b[0m\u001b[0mself\u001b[0m\u001b[0;34m.\u001b[0m\u001b[0mengine\u001b[0m\u001b[0;34m)\u001b[0m\u001b[0;34m\u001b[0m\u001b[0;34m\u001b[0m\u001b[0m\n\u001b[0m\u001b[1;32m    812\u001b[0m \u001b[0;34m\u001b[0m\u001b[0m\n\u001b[1;32m    813\u001b[0m     \u001b[0;32mdef\u001b[0m \u001b[0mclose\u001b[0m\u001b[0;34m(\u001b[0m\u001b[0mself\u001b[0m\u001b[0;34m)\u001b[0m\u001b[0;34m:\u001b[0m\u001b[0;34m\u001b[0m\u001b[0;34m\u001b[0m\u001b[0m\n",
      "\u001b[0;32m~/anaconda3/envs/TWT/lib/python3.8/site-packages/pandas/io/parsers/readers.py\u001b[0m in \u001b[0;36m_make_engine\u001b[0;34m(self, engine)\u001b[0m\n\u001b[1;32m   1038\u001b[0m             )\n\u001b[1;32m   1039\u001b[0m         \u001b[0;31m# error: Too many arguments for \"ParserBase\"\u001b[0m\u001b[0;34m\u001b[0m\u001b[0;34m\u001b[0m\u001b[0;34m\u001b[0m\u001b[0m\n\u001b[0;32m-> 1040\u001b[0;31m         \u001b[0;32mreturn\u001b[0m \u001b[0mmapping\u001b[0m\u001b[0;34m[\u001b[0m\u001b[0mengine\u001b[0m\u001b[0;34m]\u001b[0m\u001b[0;34m(\u001b[0m\u001b[0mself\u001b[0m\u001b[0;34m.\u001b[0m\u001b[0mf\u001b[0m\u001b[0;34m,\u001b[0m \u001b[0;34m**\u001b[0m\u001b[0mself\u001b[0m\u001b[0;34m.\u001b[0m\u001b[0moptions\u001b[0m\u001b[0;34m)\u001b[0m  \u001b[0;31m# type: ignore[call-arg]\u001b[0m\u001b[0;34m\u001b[0m\u001b[0;34m\u001b[0m\u001b[0m\n\u001b[0m\u001b[1;32m   1041\u001b[0m \u001b[0;34m\u001b[0m\u001b[0m\n\u001b[1;32m   1042\u001b[0m     \u001b[0;32mdef\u001b[0m \u001b[0m_failover_to_python\u001b[0m\u001b[0;34m(\u001b[0m\u001b[0mself\u001b[0m\u001b[0;34m)\u001b[0m\u001b[0;34m:\u001b[0m\u001b[0;34m\u001b[0m\u001b[0;34m\u001b[0m\u001b[0m\n",
      "\u001b[0;32m~/anaconda3/envs/TWT/lib/python3.8/site-packages/pandas/io/parsers/c_parser_wrapper.py\u001b[0m in \u001b[0;36m__init__\u001b[0;34m(self, src, **kwds)\u001b[0m\n\u001b[1;32m     49\u001b[0m \u001b[0;34m\u001b[0m\u001b[0m\n\u001b[1;32m     50\u001b[0m         \u001b[0;31m# open handles\u001b[0m\u001b[0;34m\u001b[0m\u001b[0;34m\u001b[0m\u001b[0;34m\u001b[0m\u001b[0m\n\u001b[0;32m---> 51\u001b[0;31m         \u001b[0mself\u001b[0m\u001b[0;34m.\u001b[0m\u001b[0m_open_handles\u001b[0m\u001b[0;34m(\u001b[0m\u001b[0msrc\u001b[0m\u001b[0;34m,\u001b[0m \u001b[0mkwds\u001b[0m\u001b[0;34m)\u001b[0m\u001b[0;34m\u001b[0m\u001b[0;34m\u001b[0m\u001b[0m\n\u001b[0m\u001b[1;32m     52\u001b[0m         \u001b[0;32massert\u001b[0m \u001b[0mself\u001b[0m\u001b[0;34m.\u001b[0m\u001b[0mhandles\u001b[0m \u001b[0;32mis\u001b[0m \u001b[0;32mnot\u001b[0m \u001b[0;32mNone\u001b[0m\u001b[0;34m\u001b[0m\u001b[0;34m\u001b[0m\u001b[0m\n\u001b[1;32m     53\u001b[0m \u001b[0;34m\u001b[0m\u001b[0m\n",
      "\u001b[0;32m~/anaconda3/envs/TWT/lib/python3.8/site-packages/pandas/io/parsers/base_parser.py\u001b[0m in \u001b[0;36m_open_handles\u001b[0;34m(self, src, kwds)\u001b[0m\n\u001b[1;32m    220\u001b[0m         \u001b[0mLet\u001b[0m \u001b[0mthe\u001b[0m \u001b[0mreaders\u001b[0m \u001b[0mopen\u001b[0m \u001b[0mIOHandles\u001b[0m \u001b[0mafter\u001b[0m \u001b[0mthey\u001b[0m \u001b[0mare\u001b[0m \u001b[0mdone\u001b[0m \u001b[0;32mwith\u001b[0m \u001b[0mtheir\u001b[0m \u001b[0mpotential\u001b[0m \u001b[0mraises\u001b[0m\u001b[0;34m.\u001b[0m\u001b[0;34m\u001b[0m\u001b[0;34m\u001b[0m\u001b[0m\n\u001b[1;32m    221\u001b[0m         \"\"\"\n\u001b[0;32m--> 222\u001b[0;31m         self.handles = get_handle(\n\u001b[0m\u001b[1;32m    223\u001b[0m             \u001b[0msrc\u001b[0m\u001b[0;34m,\u001b[0m\u001b[0;34m\u001b[0m\u001b[0;34m\u001b[0m\u001b[0m\n\u001b[1;32m    224\u001b[0m             \u001b[0;34m\"r\"\u001b[0m\u001b[0;34m,\u001b[0m\u001b[0;34m\u001b[0m\u001b[0;34m\u001b[0m\u001b[0m\n",
      "\u001b[0;32m~/anaconda3/envs/TWT/lib/python3.8/site-packages/pandas/io/common.py\u001b[0m in \u001b[0;36mget_handle\u001b[0;34m(path_or_buf, mode, encoding, compression, memory_map, is_text, errors, storage_options)\u001b[0m\n\u001b[1;32m    700\u001b[0m         \u001b[0;32mif\u001b[0m \u001b[0mioargs\u001b[0m\u001b[0;34m.\u001b[0m\u001b[0mencoding\u001b[0m \u001b[0;32mand\u001b[0m \u001b[0;34m\"b\"\u001b[0m \u001b[0;32mnot\u001b[0m \u001b[0;32min\u001b[0m \u001b[0mioargs\u001b[0m\u001b[0;34m.\u001b[0m\u001b[0mmode\u001b[0m\u001b[0;34m:\u001b[0m\u001b[0;34m\u001b[0m\u001b[0;34m\u001b[0m\u001b[0m\n\u001b[1;32m    701\u001b[0m             \u001b[0;31m# Encoding\u001b[0m\u001b[0;34m\u001b[0m\u001b[0;34m\u001b[0m\u001b[0;34m\u001b[0m\u001b[0m\n\u001b[0;32m--> 702\u001b[0;31m             handle = open(\n\u001b[0m\u001b[1;32m    703\u001b[0m                 \u001b[0mhandle\u001b[0m\u001b[0;34m,\u001b[0m\u001b[0;34m\u001b[0m\u001b[0;34m\u001b[0m\u001b[0m\n\u001b[1;32m    704\u001b[0m                 \u001b[0mioargs\u001b[0m\u001b[0;34m.\u001b[0m\u001b[0mmode\u001b[0m\u001b[0;34m,\u001b[0m\u001b[0;34m\u001b[0m\u001b[0;34m\u001b[0m\u001b[0m\n",
      "\u001b[0;31mFileNotFoundError\u001b[0m: [Errno 2] No such file or directory: 'data/branson.csv'"
     ]
    }
   ],
   "source": [
    "# Pulling CSV with Twitter information. Check ceo_name.ipynb for data extraction\n",
    "columns_chosed = ['created_at','full_text','id','source','favorite_count','retweet_count']\n",
    "\n",
    "ceo_tweets = pd.read_csv(\"data/branson.csv\")\n",
    "ceo_tweets = ceo_tweets[columns_chosed]"
   ]
  },
  {
   "cell_type": "code",
   "execution_count": null,
   "id": "26e728ef-c52f-4a3a-bad4-699d1b67e245",
   "metadata": {},
   "outputs": [],
   "source": [
    "# Filtering Dataframe for tweets since 2019\n",
    "ceo_tweets[\"created_at\"] = pd.to_datetime(ceo_tweets[\"created_at\"]).dt.date\n",
    "ceo_tweets[\"created_at\"] = pd.to_datetime(ceo_tweets[\"created_at\"])\n",
    "ceo_tweets = ceo_tweets[ceo_tweets[\"created_at\"]>='2019-01-01']"
   ]
  },
  {
   "cell_type": "markdown",
   "id": "9cfb88d6-525e-4999-a05a-bb8044b0d5c3",
   "metadata": {},
   "source": [
    "### Tweets DF and Sentimental Analysis"
   ]
  },
  {
   "cell_type": "code",
   "execution_count": null,
   "id": "b7764911-3333-429c-b41d-1294a924aa7c",
   "metadata": {},
   "outputs": [],
   "source": [
    "import re\n",
    "\n",
    "# Clean The Data\n",
    "def cleantext(text):\n",
    "    text = re.sub(r\"@[A-Za-z0-9]+\", \"\", text) # Remove Mentions\n",
    "    text = re.sub(r\"#\", \"\", text) # Remove Hashtags Symbol\n",
    "    text = re.sub(r\"RT[\\s]+\", \"\", text) # Remove Retweets\n",
    "    text = re.sub(r\"https?:\\/\\/\\S+\", \"\", text) # Remove The Hyper Link\n",
    "    \n",
    "    return text"
   ]
  },
  {
   "cell_type": "code",
   "execution_count": null,
   "id": "0fd55cd1-2e1e-441e-aa79-ca25fe65d418",
   "metadata": {},
   "outputs": [],
   "source": [
    "# Clean The Text\n",
    "ceo_tweets['full_text'] = ceo_tweets['full_text'].apply(cleantext)"
   ]
  },
  {
   "cell_type": "code",
   "execution_count": null,
   "id": "7cd27455-0c86-40c9-91c9-b3a7410e7930",
   "metadata": {},
   "outputs": [],
   "source": [
    "# Checking weekends:\n",
    "ceo_tweets[\"Day of Week\"] = ceo_tweets['created_at'].dt.dayofweek"
   ]
  },
  {
   "cell_type": "code",
   "execution_count": null,
   "id": "11b95740-e53f-4d8e-b2f9-93f8678d10ad",
   "metadata": {},
   "outputs": [],
   "source": [
    "ceo_tweets['orig_date'] = ceo_tweets['created_at']\n",
    "\n",
    "for i in range(ceo_tweets.shape[0]):\n",
    "    if ceo_tweets['Day of Week'].loc[i] == 5:\n",
    "        ceo_tweets['created_at'].loc[i] = ceo_tweets['created_at'].loc[i]+ datetime.timedelta(days=2)\n",
    "    if ceo_tweets['Day of Week'].loc[i] == 6:\n",
    "        ceo_tweets['created_at'].loc[i] = ceo_tweets['created_at'].loc[i]+ datetime.timedelta(days=1)\n",
    "# stock_tweets_df = ceo_tweets.merge(stock_df,how='outer', on='date')\n",
    "# stock_tweets_df"
   ]
  },
  {
   "cell_type": "code",
   "execution_count": null,
   "id": "a36e6a44-1456-4898-9c24-e4deb864fd94",
   "metadata": {},
   "outputs": [],
   "source": [
    "from textblob import TextBlob\n",
    "\n",
    "# Get The Subjectivity\n",
    "def sentiment_analysis(ds):\n",
    "    sentiment = TextBlob(ds['full_text']).sentiment\n",
    "    return pd.Series([sentiment.subjectivity, sentiment.polarity])\n",
    "\n",
    "# Adding Subjectivity & Polarity\n",
    "ceo_tweets[[\"subjectivity\", \"polarity\"]] = ceo_tweets.apply(sentiment_analysis, axis=1)"
   ]
  },
  {
   "cell_type": "code",
   "execution_count": null,
   "id": "4ea7ef94-cc21-47d8-9e95-2b2ddf367f4b",
   "metadata": {},
   "outputs": [],
   "source": [
    "ceo_tweets = (    \n",
    "    ceo_tweets.groupby([\"created_at\"])\n",
    "    .agg(\n",
    "        Tweets=(\"full_text\", \"sum\"),\n",
    "        Agg_count=(\"full_text\", \"count\"),\n",
    "        Agg_retweet=(\"retweet_count\", \"sum\"),\n",
    "        Agg_favorite=(\"favorite_count\", \"sum\"),\n",
    "        Subjectivity_mean=(\"subjectivity\", \"mean\"),\n",
    "        Polarity_mean=(\"polarity\", \"mean\"),\n",
    "    )\n",
    "    .reset_index()\n",
    ")\n",
    "ceo_tweets = ceo_tweets.rename(columns={\"created_at\":'Date'})"
   ]
  },
  {
   "cell_type": "code",
   "execution_count": null,
   "id": "27951cbb-0df4-4bb6-8fa8-48ebcf4e8b3a",
   "metadata": {},
   "outputs": [],
   "source": [
    "#Polarity Change\n",
    "ceo_tweets[\"Polarity_chg\"] = np.log(ceo_tweets[\"Polarity_mean\"]/ceo_tweets[\"Polarity_mean\"].shift())\n",
    "ceo_tweets[\"Polarity_chg\"] = ceo_tweets[\"Polarity_chg\"].fillna(0)"
   ]
  },
  {
   "cell_type": "markdown",
   "id": "ad33b964-410c-42ee-9a11-e329a9887328",
   "metadata": {},
   "source": [
    "### Stock Data Cleaning"
   ]
  },
  {
   "cell_type": "code",
   "execution_count": null,
   "id": "1f9ab6f0-3997-4f47-b2db-6212a443f1c9",
   "metadata": {},
   "outputs": [],
   "source": [
    "# Getting Data Stock prices. Source: Yahoo Finance.\n",
    "stock = pd.read_csv(\"data/SPCE.csv\")\n",
    "stock_df = stock[['Date','Close']]\n",
    "\n",
    "# Calculating Stock Price Variation\n",
    "stock_df['Return'] = stock_df['Close']\n",
    "stock_df['Return']= np.log(stock_df['Close']/stock_df['Close'].shift())\n",
    "\n",
    "stock_df[\"Date\"] = pd.to_datetime(stock_df[\"Date\"]).dt.date\n",
    "stock_df[\"Date\"] = pd.to_datetime(stock_df[\"Date\"])"
   ]
  },
  {
   "cell_type": "markdown",
   "id": "3b4a2e75-6163-45c5-b6c3-91fdede53a4a",
   "metadata": {},
   "source": [
    "### Mergin Stocks and Tweets DFs"
   ]
  },
  {
   "cell_type": "code",
   "execution_count": null,
   "id": "ee825b98-d59e-41bd-a0e0-2021cad9e33f",
   "metadata": {},
   "outputs": [],
   "source": [
    "df_stock_tweets = stock_df.merge(ceo_tweets, how='left', on='Date')"
   ]
  },
  {
   "cell_type": "code",
   "execution_count": null,
   "id": "037eec6e-b9ee-490b-9d95-f6010c752ce0",
   "metadata": {},
   "outputs": [],
   "source": [
    "colnan = ['Agg_count','Agg_retweet','Agg_favorite','Subjectivity_mean','Polarity_mean','Polarity_chg']\n",
    "for col in colnan:\n",
    "    df_stock_tweets[col] = df_stock_tweets[col].fillna(0)\n",
    "\n",
    "df_stock_tweets['Tweets'] = df_stock_tweets['Tweets'].fillna('')"
   ]
  },
  {
   "cell_type": "code",
   "execution_count": null,
   "id": "22ea88ff-f6b9-47fb-b1f3-6c9132b3e529",
   "metadata": {},
   "outputs": [],
   "source": [
    "df_stock_tweets.to_csv('data/branson_cleaned.csv', index=False)"
   ]
  },
  {
   "cell_type": "markdown",
   "id": "c341d374-ca5f-4bcf-b123-3249b3894913",
   "metadata": {},
   "source": [
    "### Plots to be Updated!"
   ]
  },
  {
   "cell_type": "code",
   "execution_count": null,
   "id": "7b3a41a5-60d5-433b-9ea6-b1395eb21d97",
   "metadata": {},
   "outputs": [],
   "source": [
    "fig = go.Figure()\n",
    "_ = fig.add_trace(go.Scatter(\n",
    "    x= df_stock_tweets['Agg_count'],\n",
    "    y= df_stock_tweets['Return'],\n",
    "    mode=\"markers\",\n",
    "    marker={\"size\": df_stock_tweets['Agg_favorite'], \"sizemode\": \"area\",\n",
    "                                    \"sizeref\": 2*max(df_stock_tweets['Agg_favorite']/1000)},\n",
    "    hovertemplate= \"Number of Tweets per Day: %{x:.1f}<br>\" +\n",
    "    \"Stock Price Change: %{y:.1f}<br>\" +\n",
    "    \"Number of Likes: %{marker.size:,}\" +\n",
    "    \"<extra></extra>\"\n",
    "))\n",
    "fig.update_layout(\n",
    "    plot_bgcolor=\"white\",\n",
    "    yaxis={\"title\": {\"text\": \"Stock Price Change\", \"font\": {\"size\": 16}}},\n",
    "    xaxis={\"title\": {\"text\": \"# of Tweets per Day\", \"font\": {\"size\": 16}}},\n",
    "    # hovermode=\"x\",\n",
    "    title={'text': \"CEO's # Tweets vs Stock Price Change\", \"font\": {\"size\": 16}}\n",
    ")\n",
    "fig.show()"
   ]
  },
  {
   "cell_type": "code",
   "execution_count": null,
   "id": "e332c6b8-b4bb-4164-a94c-f8873d559681",
   "metadata": {},
   "outputs": [],
   "source": [
    "fig = go.Figure()\n",
    "_ = fig.add_trace(go.Scatter(\n",
    "    x= branson_df['favorite_count'],\n",
    "    y= apple_stock_df['var'],\n",
    "    mode=\"markers\",\n",
    "    marker={\"size\": branson_df['tweet_count'], \"sizemode\": \"area\",\n",
    "                                    \"sizeref\": 2*max(branson_df['tweet_count']/1000)},\n",
    "    hovertemplate= \"Number of Tweets Liked per Day: %{x:.1f}<br>\" +\n",
    "    \"Stock Price Change: %{y:.1f}<br>\" +\n",
    "    \"Number of Tweets: %{marker.size:,}\" +\n",
    "    \"<extra></extra>\"\n",
    "))\n",
    "fig.update_layout(\n",
    "    plot_bgcolor=\"white\",\n",
    "    yaxis={\"title\": {\"text\": \"Stock Price Change\", \"font\": {\"size\": 16}}},\n",
    "    xaxis={\"title\": {\"text\": \"# of Tweets Liked per Day\", \"font\": {\"size\": 16}}},\n",
    "    # hovermode=\"x\",\n",
    "    title={'text': \"Richard Branson's # Tweets Liked vs Stock Price Change\", \"font\": {\"size\": 16}}\n",
    ")\n",
    "fig.show()"
   ]
  },
  {
   "cell_type": "code",
   "execution_count": null,
   "id": "2584cb12-2672-4dc1-ae36-6ce08050458c",
   "metadata": {},
   "outputs": [],
   "source": [
    "fig = go.Figure()\n",
    "_ = fig.add_trace(go.Scatter(\n",
    "    x= branson[\"polarity_chg\"],\n",
    "    y= apple_stock_df['var'],\n",
    "    mode=\"markers\",\n",
    "    marker={\"size\": branson_df['favorite_count'], \"sizemode\": \"area\",\n",
    "                                    \"sizeref\": 2*max(branson_df['favorite_count']/1000)},\n",
    "    hovertemplate= \"Polarity of Tweets: %{x:.1f}<br>\" +\n",
    "    \"Stock Price Change: %{y:.1f}<br>\" +\n",
    "    \"Number of Likes: %{marker.size:,}\" +\n",
    "    \"<extra></extra>\"\n",
    "))\n",
    "fig.update_layout(\n",
    "    plot_bgcolor=\"white\",\n",
    "    # hovermode=\"x\",\n",
    "    xaxis={\"title\": {\"text\": \"Sentiment Change\", \"font\": {\"size\": 16}}},\n",
    "    yaxis={\"title\": {\"text\": \"Stock Price Change\", \"font\": {\"size\": 16}}},\n",
    "    title={'text': \"Richard Branson's Tweets Sentiment Change vs Virgin Galactic's Stock Price Change\", \"font\": {\"size\": 16}}\n",
    ")\n",
    "fig.show()"
   ]
  },
  {
   "cell_type": "markdown",
   "id": "81e6d5c1-e592-41ba-ad8c-58d4829b8dca",
   "metadata": {},
   "source": [
    "## Word Clound"
   ]
  },
  {
   "cell_type": "code",
   "execution_count": null,
   "id": "de5e7213-b937-483c-80e2-4c13201bcadb",
   "metadata": {},
   "outputs": [],
   "source": [
    "import matplotlib.pyplot as plt\n",
    "from wordcloud import WordCloud\n",
    "allwords = \" \".join([twts for twts in branson['full_text']])\n",
    "wordCloud = WordCloud(width = 1000, height = 1000, random_state = 21, max_font_size = 119).generate(allwords)\n",
    "plt.figure(figsize=(20, 20), dpi=80)\n",
    "plt.imshow(wordCloud, interpolation = \"bilinear\")\n",
    "plt.axis(\"off\")\n",
    "plt.show()"
   ]
  }
 ],
 "metadata": {
  "kernelspec": {
   "display_name": "TWT",
   "language": "python",
   "name": "twt"
  },
  "language_info": {
   "codemirror_mode": {
    "name": "ipython",
    "version": 3
   },
   "file_extension": ".py",
   "mimetype": "text/x-python",
   "name": "python",
   "nbconvert_exporter": "python",
   "pygments_lexer": "ipython3",
   "version": "3.8.5"
  }
 },
 "nbformat": 4,
 "nbformat_minor": 5
}
