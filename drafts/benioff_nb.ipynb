{
 "cells": [
  {
   "cell_type": "code",
   "execution_count": 283,
   "id": "21a6c1e8-1c9a-4d71-9bf3-f25db758d9cc",
   "metadata": {},
   "outputs": [],
   "source": [
    "import pandas as pd\n",
    "import matplotlib.pyplot as plt\n",
    "import numpy as np\n",
    "import plotly.express as px\n",
    "import plotly.graph_objects as go\n",
    "import warnings; warnings.filterwarnings('ignore')"
   ]
  },
  {
   "cell_type": "code",
   "execution_count": 274,
   "id": "c34f525e-307e-412a-b4ee-0ef96a8ebdae",
   "metadata": {},
   "outputs": [],
   "source": [
    "b_df = pd.read_csv('data/processed/benioff_cleaned.csv')\n",
    "dfs = pd.read_csv('data/raw/CRM.csv')"
   ]
  },
  {
   "cell_type": "code",
   "execution_count": 272,
   "id": "bd4191a8-aefd-4940-9478-e6153603b491",
   "metadata": {
    "collapsed": true,
    "jupyter": {
     "outputs_hidden": true
    },
    "tags": []
   },
   "outputs": [
    {
     "ename": "KeyError",
     "evalue": "'Date'",
     "output_type": "error",
     "traceback": [
      "\u001b[0;31m---------------------------------------------------------------------------\u001b[0m",
      "\u001b[0;31mKeyError\u001b[0m                                  Traceback (most recent call last)",
      "\u001b[0;32m/opt/anaconda3/envs/twitter/lib/python3.9/site-packages/pandas/core/indexes/base.py\u001b[0m in \u001b[0;36mget_loc\u001b[0;34m(self, key, method, tolerance)\u001b[0m\n\u001b[1;32m   3360\u001b[0m             \u001b[0;32mtry\u001b[0m\u001b[0;34m:\u001b[0m\u001b[0;34m\u001b[0m\u001b[0;34m\u001b[0m\u001b[0m\n\u001b[0;32m-> 3361\u001b[0;31m                 \u001b[0;32mreturn\u001b[0m \u001b[0mself\u001b[0m\u001b[0;34m.\u001b[0m\u001b[0m_engine\u001b[0m\u001b[0;34m.\u001b[0m\u001b[0mget_loc\u001b[0m\u001b[0;34m(\u001b[0m\u001b[0mcasted_key\u001b[0m\u001b[0;34m)\u001b[0m\u001b[0;34m\u001b[0m\u001b[0;34m\u001b[0m\u001b[0m\n\u001b[0m\u001b[1;32m   3362\u001b[0m             \u001b[0;32mexcept\u001b[0m \u001b[0mKeyError\u001b[0m \u001b[0;32mas\u001b[0m \u001b[0merr\u001b[0m\u001b[0;34m:\u001b[0m\u001b[0;34m\u001b[0m\u001b[0;34m\u001b[0m\u001b[0m\n",
      "\u001b[0;32m/opt/anaconda3/envs/twitter/lib/python3.9/site-packages/pandas/_libs/index.pyx\u001b[0m in \u001b[0;36mpandas._libs.index.IndexEngine.get_loc\u001b[0;34m()\u001b[0m\n",
      "\u001b[0;32m/opt/anaconda3/envs/twitter/lib/python3.9/site-packages/pandas/_libs/index.pyx\u001b[0m in \u001b[0;36mpandas._libs.index.IndexEngine.get_loc\u001b[0;34m()\u001b[0m\n",
      "\u001b[0;32mpandas/_libs/hashtable_class_helper.pxi\u001b[0m in \u001b[0;36mpandas._libs.hashtable.PyObjectHashTable.get_item\u001b[0;34m()\u001b[0m\n",
      "\u001b[0;32mpandas/_libs/hashtable_class_helper.pxi\u001b[0m in \u001b[0;36mpandas._libs.hashtable.PyObjectHashTable.get_item\u001b[0;34m()\u001b[0m\n",
      "\u001b[0;31mKeyError\u001b[0m: 'Date'",
      "\nThe above exception was the direct cause of the following exception:\n",
      "\u001b[0;31mKeyError\u001b[0m                                  Traceback (most recent call last)",
      "\u001b[0;32m/var/folders/fy/7mfyb97n7q12tbfy_b8cwnwr0000gn/T/ipykernel_851/1674625112.py\u001b[0m in \u001b[0;36m<module>\u001b[0;34m\u001b[0m\n\u001b[0;32m----> 1\u001b[0;31m \u001b[0mb_df\u001b[0m\u001b[0;34m[\u001b[0m\u001b[0;34m'Date'\u001b[0m\u001b[0;34m]\u001b[0m \u001b[0;34m=\u001b[0m \u001b[0mpd\u001b[0m\u001b[0;34m.\u001b[0m\u001b[0mto_datetime\u001b[0m\u001b[0;34m(\u001b[0m\u001b[0mdfs\u001b[0m\u001b[0;34m[\u001b[0m\u001b[0;34m'Date'\u001b[0m\u001b[0;34m]\u001b[0m\u001b[0;34m)\u001b[0m\u001b[0;34m\u001b[0m\u001b[0;34m\u001b[0m\u001b[0m\n\u001b[0m\u001b[1;32m      2\u001b[0m \u001b[0mdfs\u001b[0m\u001b[0;34m.\u001b[0m\u001b[0mrename\u001b[0m\u001b[0;34m(\u001b[0m\u001b[0mcolumns\u001b[0m\u001b[0;34m=\u001b[0m\u001b[0;34m{\u001b[0m\u001b[0;34m'Date'\u001b[0m\u001b[0;34m:\u001b[0m\u001b[0;34m'date'\u001b[0m\u001b[0;34m}\u001b[0m\u001b[0;34m,\u001b[0m \u001b[0minplace\u001b[0m\u001b[0;34m=\u001b[0m\u001b[0;32mTrue\u001b[0m\u001b[0;34m)\u001b[0m\u001b[0;34m\u001b[0m\u001b[0;34m\u001b[0m\u001b[0m\n",
      "\u001b[0;32m/opt/anaconda3/envs/twitter/lib/python3.9/site-packages/pandas/core/frame.py\u001b[0m in \u001b[0;36m__getitem__\u001b[0;34m(self, key)\u001b[0m\n\u001b[1;32m   3456\u001b[0m             \u001b[0;32mif\u001b[0m \u001b[0mself\u001b[0m\u001b[0;34m.\u001b[0m\u001b[0mcolumns\u001b[0m\u001b[0;34m.\u001b[0m\u001b[0mnlevels\u001b[0m \u001b[0;34m>\u001b[0m \u001b[0;36m1\u001b[0m\u001b[0;34m:\u001b[0m\u001b[0;34m\u001b[0m\u001b[0;34m\u001b[0m\u001b[0m\n\u001b[1;32m   3457\u001b[0m                 \u001b[0;32mreturn\u001b[0m \u001b[0mself\u001b[0m\u001b[0;34m.\u001b[0m\u001b[0m_getitem_multilevel\u001b[0m\u001b[0;34m(\u001b[0m\u001b[0mkey\u001b[0m\u001b[0;34m)\u001b[0m\u001b[0;34m\u001b[0m\u001b[0;34m\u001b[0m\u001b[0m\n\u001b[0;32m-> 3458\u001b[0;31m             \u001b[0mindexer\u001b[0m \u001b[0;34m=\u001b[0m \u001b[0mself\u001b[0m\u001b[0;34m.\u001b[0m\u001b[0mcolumns\u001b[0m\u001b[0;34m.\u001b[0m\u001b[0mget_loc\u001b[0m\u001b[0;34m(\u001b[0m\u001b[0mkey\u001b[0m\u001b[0;34m)\u001b[0m\u001b[0;34m\u001b[0m\u001b[0;34m\u001b[0m\u001b[0m\n\u001b[0m\u001b[1;32m   3459\u001b[0m             \u001b[0;32mif\u001b[0m \u001b[0mis_integer\u001b[0m\u001b[0;34m(\u001b[0m\u001b[0mindexer\u001b[0m\u001b[0;34m)\u001b[0m\u001b[0;34m:\u001b[0m\u001b[0;34m\u001b[0m\u001b[0;34m\u001b[0m\u001b[0m\n\u001b[1;32m   3460\u001b[0m                 \u001b[0mindexer\u001b[0m \u001b[0;34m=\u001b[0m \u001b[0;34m[\u001b[0m\u001b[0mindexer\u001b[0m\u001b[0;34m]\u001b[0m\u001b[0;34m\u001b[0m\u001b[0;34m\u001b[0m\u001b[0m\n",
      "\u001b[0;32m/opt/anaconda3/envs/twitter/lib/python3.9/site-packages/pandas/core/indexes/base.py\u001b[0m in \u001b[0;36mget_loc\u001b[0;34m(self, key, method, tolerance)\u001b[0m\n\u001b[1;32m   3361\u001b[0m                 \u001b[0;32mreturn\u001b[0m \u001b[0mself\u001b[0m\u001b[0;34m.\u001b[0m\u001b[0m_engine\u001b[0m\u001b[0;34m.\u001b[0m\u001b[0mget_loc\u001b[0m\u001b[0;34m(\u001b[0m\u001b[0mcasted_key\u001b[0m\u001b[0;34m)\u001b[0m\u001b[0;34m\u001b[0m\u001b[0;34m\u001b[0m\u001b[0m\n\u001b[1;32m   3362\u001b[0m             \u001b[0;32mexcept\u001b[0m \u001b[0mKeyError\u001b[0m \u001b[0;32mas\u001b[0m \u001b[0merr\u001b[0m\u001b[0;34m:\u001b[0m\u001b[0;34m\u001b[0m\u001b[0;34m\u001b[0m\u001b[0m\n\u001b[0;32m-> 3363\u001b[0;31m                 \u001b[0;32mraise\u001b[0m \u001b[0mKeyError\u001b[0m\u001b[0;34m(\u001b[0m\u001b[0mkey\u001b[0m\u001b[0;34m)\u001b[0m \u001b[0;32mfrom\u001b[0m \u001b[0merr\u001b[0m\u001b[0;34m\u001b[0m\u001b[0;34m\u001b[0m\u001b[0m\n\u001b[0m\u001b[1;32m   3364\u001b[0m \u001b[0;34m\u001b[0m\u001b[0m\n\u001b[1;32m   3365\u001b[0m         \u001b[0;32mif\u001b[0m \u001b[0mis_scalar\u001b[0m\u001b[0;34m(\u001b[0m\u001b[0mkey\u001b[0m\u001b[0;34m)\u001b[0m \u001b[0;32mand\u001b[0m \u001b[0misna\u001b[0m\u001b[0;34m(\u001b[0m\u001b[0mkey\u001b[0m\u001b[0;34m)\u001b[0m \u001b[0;32mand\u001b[0m \u001b[0;32mnot\u001b[0m \u001b[0mself\u001b[0m\u001b[0;34m.\u001b[0m\u001b[0mhasnans\u001b[0m\u001b[0;34m:\u001b[0m\u001b[0;34m\u001b[0m\u001b[0;34m\u001b[0m\u001b[0m\n",
      "\u001b[0;31mKeyError\u001b[0m: 'Date'"
     ]
    }
   ],
   "source": [
    "b_df['Date'] = pd.to_datetime(b_df['Date'])\n",
    "dfs.rename(columns={'Date':'date'}, inplace=True)"
   ]
  },
  {
   "cell_type": "code",
   "execution_count": 275,
   "id": "410d882b-a50c-44ee-a77e-2f1224230695",
   "metadata": {},
   "outputs": [
    {
     "data": {
      "text/html": [
       "<div>\n",
       "<style scoped>\n",
       "    .dataframe tbody tr th:only-of-type {\n",
       "        vertical-align: middle;\n",
       "    }\n",
       "\n",
       "    .dataframe tbody tr th {\n",
       "        vertical-align: top;\n",
       "    }\n",
       "\n",
       "    .dataframe thead th {\n",
       "        text-align: right;\n",
       "    }\n",
       "</style>\n",
       "<table border=\"1\" class=\"dataframe\">\n",
       "  <thead>\n",
       "    <tr style=\"text-align: right;\">\n",
       "      <th></th>\n",
       "      <th>Date</th>\n",
       "      <th>Close</th>\n",
       "      <th>Return</th>\n",
       "      <th>Tweets</th>\n",
       "      <th>Agg_count</th>\n",
       "      <th>Agg_retweet</th>\n",
       "      <th>Agg_favorite</th>\n",
       "      <th>Subjectivity_mean</th>\n",
       "      <th>Polarity_mean</th>\n",
       "      <th>Polarity_chg</th>\n",
       "    </tr>\n",
       "  </thead>\n",
       "  <tbody>\n",
       "    <tr>\n",
       "      <th>0</th>\n",
       "      <td>2021-02-01</td>\n",
       "      <td>228.460007</td>\n",
       "      <td>NaN</td>\n",
       "      <td>NaN</td>\n",
       "      <td>0.0</td>\n",
       "      <td>0.0</td>\n",
       "      <td>0.0</td>\n",
       "      <td>0.000000</td>\n",
       "      <td>0.000000</td>\n",
       "      <td>0.000000</td>\n",
       "    </tr>\n",
       "    <tr>\n",
       "      <th>1</th>\n",
       "      <td>2021-02-02</td>\n",
       "      <td>234.199997</td>\n",
       "      <td>0.024814</td>\n",
       "      <td>NaN</td>\n",
       "      <td>0.0</td>\n",
       "      <td>0.0</td>\n",
       "      <td>0.0</td>\n",
       "      <td>0.000000</td>\n",
       "      <td>0.000000</td>\n",
       "      <td>0.000000</td>\n",
       "    </tr>\n",
       "    <tr>\n",
       "      <th>2</th>\n",
       "      <td>2021-02-03</td>\n",
       "      <td>234.820007</td>\n",
       "      <td>0.002644</td>\n",
       "      <td>NaN</td>\n",
       "      <td>0.0</td>\n",
       "      <td>0.0</td>\n",
       "      <td>0.0</td>\n",
       "      <td>0.000000</td>\n",
       "      <td>0.000000</td>\n",
       "      <td>0.000000</td>\n",
       "    </tr>\n",
       "    <tr>\n",
       "      <th>3</th>\n",
       "      <td>2021-02-04</td>\n",
       "      <td>237.979996</td>\n",
       "      <td>0.013367</td>\n",
       "      <td>NaN</td>\n",
       "      <td>0.0</td>\n",
       "      <td>0.0</td>\n",
       "      <td>0.0</td>\n",
       "      <td>0.000000</td>\n",
       "      <td>0.000000</td>\n",
       "      <td>0.000000</td>\n",
       "    </tr>\n",
       "    <tr>\n",
       "      <th>4</th>\n",
       "      <td>2021-02-05</td>\n",
       "      <td>238.889999</td>\n",
       "      <td>0.003817</td>\n",
       "      <td>NaN</td>\n",
       "      <td>0.0</td>\n",
       "      <td>0.0</td>\n",
       "      <td>0.0</td>\n",
       "      <td>0.000000</td>\n",
       "      <td>0.000000</td>\n",
       "      <td>0.000000</td>\n",
       "    </tr>\n",
       "    <tr>\n",
       "      <th>5</th>\n",
       "      <td>2021-02-08</td>\n",
       "      <td>238.929993</td>\n",
       "      <td>0.000167</td>\n",
       "      <td>NaN</td>\n",
       "      <td>0.0</td>\n",
       "      <td>0.0</td>\n",
       "      <td>0.0</td>\n",
       "      <td>0.000000</td>\n",
       "      <td>0.000000</td>\n",
       "      <td>0.000000</td>\n",
       "    </tr>\n",
       "    <tr>\n",
       "      <th>6</th>\n",
       "      <td>2021-02-09</td>\n",
       "      <td>236.699997</td>\n",
       "      <td>-0.009377</td>\n",
       "      <td>NaN</td>\n",
       "      <td>0.0</td>\n",
       "      <td>0.0</td>\n",
       "      <td>0.0</td>\n",
       "      <td>0.000000</td>\n",
       "      <td>0.000000</td>\n",
       "      <td>0.000000</td>\n",
       "    </tr>\n",
       "    <tr>\n",
       "      <th>7</th>\n",
       "      <td>2021-02-10</td>\n",
       "      <td>236.720001</td>\n",
       "      <td>0.000085</td>\n",
       "      <td>NaN</td>\n",
       "      <td>0.0</td>\n",
       "      <td>0.0</td>\n",
       "      <td>0.0</td>\n",
       "      <td>0.000000</td>\n",
       "      <td>0.000000</td>\n",
       "      <td>0.000000</td>\n",
       "    </tr>\n",
       "    <tr>\n",
       "      <th>8</th>\n",
       "      <td>2021-02-11</td>\n",
       "      <td>241.240005</td>\n",
       "      <td>0.018914</td>\n",
       "      <td>NaN</td>\n",
       "      <td>0.0</td>\n",
       "      <td>0.0</td>\n",
       "      <td>0.0</td>\n",
       "      <td>0.000000</td>\n",
       "      <td>0.000000</td>\n",
       "      <td>0.000000</td>\n",
       "    </tr>\n",
       "    <tr>\n",
       "      <th>9</th>\n",
       "      <td>2021-02-12</td>\n",
       "      <td>240.369995</td>\n",
       "      <td>-0.003613</td>\n",
       "      <td>NaN</td>\n",
       "      <td>0.0</td>\n",
       "      <td>0.0</td>\n",
       "      <td>0.0</td>\n",
       "      <td>0.000000</td>\n",
       "      <td>0.000000</td>\n",
       "      <td>0.000000</td>\n",
       "    </tr>\n",
       "    <tr>\n",
       "      <th>10</th>\n",
       "      <td>2021-02-16</td>\n",
       "      <td>248.589996</td>\n",
       "      <td>0.033626</td>\n",
       "      <td>NaN</td>\n",
       "      <td>0.0</td>\n",
       "      <td>0.0</td>\n",
       "      <td>0.0</td>\n",
       "      <td>0.000000</td>\n",
       "      <td>0.000000</td>\n",
       "      <td>0.000000</td>\n",
       "    </tr>\n",
       "    <tr>\n",
       "      <th>11</th>\n",
       "      <td>2021-02-17</td>\n",
       "      <td>247.660004</td>\n",
       "      <td>-0.003748</td>\n",
       "      <td>_Manuel: And boy did our friend  find the righ...</td>\n",
       "      <td>19.0</td>\n",
       "      <td>21024.0</td>\n",
       "      <td>0.0</td>\n",
       "      <td>0.514302</td>\n",
       "      <td>0.282753</td>\n",
       "      <td>0.000000</td>\n",
       "    </tr>\n",
       "    <tr>\n",
       "      <th>12</th>\n",
       "      <td>2021-02-18</td>\n",
       "      <td>247.009995</td>\n",
       "      <td>-0.002628</td>\n",
       "      <td>: to congratulate Ayana! She’s doing great aft...</td>\n",
       "      <td>23.0</td>\n",
       "      <td>33214.0</td>\n",
       "      <td>0.0</td>\n",
       "      <td>0.256551</td>\n",
       "      <td>0.089891</td>\n",
       "      <td>-1.145977</td>\n",
       "    </tr>\n",
       "    <tr>\n",
       "      <th>13</th>\n",
       "      <td>2021-02-19</td>\n",
       "      <td>246.559998</td>\n",
       "      <td>-0.001823</td>\n",
       "      <td>: Seen “Kiss the Ground” on Netflix yet?\\n\\n: ...</td>\n",
       "      <td>12.0</td>\n",
       "      <td>571.0</td>\n",
       "      <td>628.0</td>\n",
       "      <td>0.274722</td>\n",
       "      <td>0.056389</td>\n",
       "      <td>-0.466324</td>\n",
       "    </tr>\n",
       "    <tr>\n",
       "      <th>14</th>\n",
       "      <td>2021-02-22</td>\n",
       "      <td>240.949997</td>\n",
       "      <td>-0.023016</td>\n",
       "      <td>2021  NEXT 100 2021  NEXT 100 : Trusted storie...</td>\n",
       "      <td>14.0</td>\n",
       "      <td>4208.0</td>\n",
       "      <td>209.0</td>\n",
       "      <td>0.253436</td>\n",
       "      <td>0.058962</td>\n",
       "      <td>0.044628</td>\n",
       "    </tr>\n",
       "    <tr>\n",
       "      <th>15</th>\n",
       "      <td>2021-02-23</td>\n",
       "      <td>235.639999</td>\n",
       "      <td>-0.022284</td>\n",
       "      <td>: Inspiring interview. “How do we use business...</td>\n",
       "      <td>14.0</td>\n",
       "      <td>3881.0</td>\n",
       "      <td>251.0</td>\n",
       "      <td>0.408248</td>\n",
       "      <td>0.136737</td>\n",
       "      <td>0.841157</td>\n",
       "    </tr>\n",
       "    <tr>\n",
       "      <th>16</th>\n",
       "      <td>2021-02-24</td>\n",
       "      <td>240.470001</td>\n",
       "      <td>0.020290</td>\n",
       "      <td>I’m at the San Fancisco Salesforce Ohana Floor...</td>\n",
       "      <td>2.0</td>\n",
       "      <td>258.0</td>\n",
       "      <td>3592.0</td>\n",
       "      <td>0.000000</td>\n",
       "      <td>0.000000</td>\n",
       "      <td>-inf</td>\n",
       "    </tr>\n",
       "    <tr>\n",
       "      <th>17</th>\n",
       "      <td>2021-02-25</td>\n",
       "      <td>231.080002</td>\n",
       "      <td>-0.039831</td>\n",
       "      <td>Salesforce Growth:\\n\\n2022 $25.75B (guidance)\\...</td>\n",
       "      <td>4.0</td>\n",
       "      <td>692.0</td>\n",
       "      <td>4689.0</td>\n",
       "      <td>0.012500</td>\n",
       "      <td>0.000000</td>\n",
       "      <td>0.000000</td>\n",
       "    </tr>\n",
       "    <tr>\n",
       "      <th>18</th>\n",
       "      <td>2021-02-26</td>\n",
       "      <td>216.500000</td>\n",
       "      <td>-0.065173</td>\n",
       "      <td>: Backable reveals the hidden step in innovati...</td>\n",
       "      <td>11.0</td>\n",
       "      <td>1986.0</td>\n",
       "      <td>334.0</td>\n",
       "      <td>0.285282</td>\n",
       "      <td>0.065138</td>\n",
       "      <td>inf</td>\n",
       "    </tr>\n",
       "    <tr>\n",
       "      <th>19</th>\n",
       "      <td>2021-03-01</td>\n",
       "      <td>217.539993</td>\n",
       "      <td>0.004792</td>\n",
       "      <td>: Salesforce will replace your failed Microsof...</td>\n",
       "      <td>35.0</td>\n",
       "      <td>23630.0</td>\n",
       "      <td>6830.0</td>\n",
       "      <td>0.494020</td>\n",
       "      <td>0.254422</td>\n",
       "      <td>1.362491</td>\n",
       "    </tr>\n",
       "  </tbody>\n",
       "</table>\n",
       "</div>"
      ],
      "text/plain": [
       "          Date       Close    Return  \\\n",
       "0   2021-02-01  228.460007       NaN   \n",
       "1   2021-02-02  234.199997  0.024814   \n",
       "2   2021-02-03  234.820007  0.002644   \n",
       "3   2021-02-04  237.979996  0.013367   \n",
       "4   2021-02-05  238.889999  0.003817   \n",
       "5   2021-02-08  238.929993  0.000167   \n",
       "6   2021-02-09  236.699997 -0.009377   \n",
       "7   2021-02-10  236.720001  0.000085   \n",
       "8   2021-02-11  241.240005  0.018914   \n",
       "9   2021-02-12  240.369995 -0.003613   \n",
       "10  2021-02-16  248.589996  0.033626   \n",
       "11  2021-02-17  247.660004 -0.003748   \n",
       "12  2021-02-18  247.009995 -0.002628   \n",
       "13  2021-02-19  246.559998 -0.001823   \n",
       "14  2021-02-22  240.949997 -0.023016   \n",
       "15  2021-02-23  235.639999 -0.022284   \n",
       "16  2021-02-24  240.470001  0.020290   \n",
       "17  2021-02-25  231.080002 -0.039831   \n",
       "18  2021-02-26  216.500000 -0.065173   \n",
       "19  2021-03-01  217.539993  0.004792   \n",
       "\n",
       "                                               Tweets  Agg_count  Agg_retweet  \\\n",
       "0                                                 NaN        0.0          0.0   \n",
       "1                                                 NaN        0.0          0.0   \n",
       "2                                                 NaN        0.0          0.0   \n",
       "3                                                 NaN        0.0          0.0   \n",
       "4                                                 NaN        0.0          0.0   \n",
       "5                                                 NaN        0.0          0.0   \n",
       "6                                                 NaN        0.0          0.0   \n",
       "7                                                 NaN        0.0          0.0   \n",
       "8                                                 NaN        0.0          0.0   \n",
       "9                                                 NaN        0.0          0.0   \n",
       "10                                                NaN        0.0          0.0   \n",
       "11  _Manuel: And boy did our friend  find the righ...       19.0      21024.0   \n",
       "12  : to congratulate Ayana! She’s doing great aft...       23.0      33214.0   \n",
       "13  : Seen “Kiss the Ground” on Netflix yet?\\n\\n: ...       12.0        571.0   \n",
       "14  2021  NEXT 100 2021  NEXT 100 : Trusted storie...       14.0       4208.0   \n",
       "15  : Inspiring interview. “How do we use business...       14.0       3881.0   \n",
       "16  I’m at the San Fancisco Salesforce Ohana Floor...        2.0        258.0   \n",
       "17  Salesforce Growth:\\n\\n2022 $25.75B (guidance)\\...        4.0        692.0   \n",
       "18  : Backable reveals the hidden step in innovati...       11.0       1986.0   \n",
       "19  : Salesforce will replace your failed Microsof...       35.0      23630.0   \n",
       "\n",
       "    Agg_favorite  Subjectivity_mean  Polarity_mean  Polarity_chg  \n",
       "0            0.0           0.000000       0.000000      0.000000  \n",
       "1            0.0           0.000000       0.000000      0.000000  \n",
       "2            0.0           0.000000       0.000000      0.000000  \n",
       "3            0.0           0.000000       0.000000      0.000000  \n",
       "4            0.0           0.000000       0.000000      0.000000  \n",
       "5            0.0           0.000000       0.000000      0.000000  \n",
       "6            0.0           0.000000       0.000000      0.000000  \n",
       "7            0.0           0.000000       0.000000      0.000000  \n",
       "8            0.0           0.000000       0.000000      0.000000  \n",
       "9            0.0           0.000000       0.000000      0.000000  \n",
       "10           0.0           0.000000       0.000000      0.000000  \n",
       "11           0.0           0.514302       0.282753      0.000000  \n",
       "12           0.0           0.256551       0.089891     -1.145977  \n",
       "13         628.0           0.274722       0.056389     -0.466324  \n",
       "14         209.0           0.253436       0.058962      0.044628  \n",
       "15         251.0           0.408248       0.136737      0.841157  \n",
       "16        3592.0           0.000000       0.000000          -inf  \n",
       "17        4689.0           0.012500       0.000000      0.000000  \n",
       "18         334.0           0.285282       0.065138           inf  \n",
       "19        6830.0           0.494020       0.254422      1.362491  "
      ]
     },
     "execution_count": 275,
     "metadata": {},
     "output_type": "execute_result"
    }
   ],
   "source": [
    "b_df.head(20)"
   ]
  },
  {
   "cell_type": "code",
   "execution_count": 276,
   "id": "5e9f3171-ba51-464d-bede-5819efe529b6",
   "metadata": {},
   "outputs": [
    {
     "data": {
      "text/plain": [
       "27.740858204641615"
      ]
     },
     "execution_count": 276,
     "metadata": {},
     "output_type": "execute_result"
    }
   ],
   "source": [
    "b_df['Close'].std() # Calculating standard deviation (volatility) of Salesforce.com stock price"
   ]
  },
  {
   "cell_type": "code",
   "execution_count": 277,
   "id": "fb9762f9-bf1a-4473-836b-9da3be74ebcc",
   "metadata": {},
   "outputs": [
    {
     "data": {
      "text/plain": [
       "155"
      ]
     },
     "execution_count": 277,
     "metadata": {},
     "output_type": "execute_result"
    }
   ],
   "source": [
    "b_df['Tweets'].count() # Total count of Tweets for Benioff"
   ]
  },
  {
   "cell_type": "code",
   "execution_count": 278,
   "id": "9ca1ca9f-99b7-412f-bc3a-a5e261d40b93",
   "metadata": {},
   "outputs": [
    {
     "data": {
      "text/plain": [
       "count    211.000000\n",
       "mean       0.123792\n",
       "std        0.106936\n",
       "min       -0.062500\n",
       "25%        0.000000\n",
       "50%        0.119271\n",
       "75%        0.205141\n",
       "max        0.441970\n",
       "Name: Polarity_mean, dtype: float64"
      ]
     },
     "execution_count": 278,
     "metadata": {},
     "output_type": "execute_result"
    }
   ],
   "source": [
    "b_df['Polarity_mean'].describe()"
   ]
  },
  {
   "cell_type": "code",
   "execution_count": 279,
   "id": "df8be106-b421-4106-bf7d-6b72de785401",
   "metadata": {},
   "outputs": [],
   "source": [
    "b_df['Return'][0] = 0"
   ]
  },
  {
   "cell_type": "code",
   "execution_count": 280,
   "id": "abe6f36a-3fe4-40ae-a4e4-6f70b1067aab",
   "metadata": {},
   "outputs": [
    {
     "data": {
      "text/html": [
       "<div>\n",
       "<style scoped>\n",
       "    .dataframe tbody tr th:only-of-type {\n",
       "        vertical-align: middle;\n",
       "    }\n",
       "\n",
       "    .dataframe tbody tr th {\n",
       "        vertical-align: top;\n",
       "    }\n",
       "\n",
       "    .dataframe thead th {\n",
       "        text-align: right;\n",
       "    }\n",
       "</style>\n",
       "<table border=\"1\" class=\"dataframe\">\n",
       "  <thead>\n",
       "    <tr style=\"text-align: right;\">\n",
       "      <th></th>\n",
       "      <th>Date</th>\n",
       "      <th>Close</th>\n",
       "      <th>Return</th>\n",
       "      <th>Tweets</th>\n",
       "      <th>Agg_count</th>\n",
       "      <th>Agg_retweet</th>\n",
       "      <th>Agg_favorite</th>\n",
       "      <th>Subjectivity_mean</th>\n",
       "      <th>Polarity_mean</th>\n",
       "      <th>Polarity_chg</th>\n",
       "    </tr>\n",
       "  </thead>\n",
       "  <tbody>\n",
       "    <tr>\n",
       "      <th>0</th>\n",
       "      <td>2021-02-01</td>\n",
       "      <td>228.460007</td>\n",
       "      <td>0.000000</td>\n",
       "      <td>NaN</td>\n",
       "      <td>0.0</td>\n",
       "      <td>0.0</td>\n",
       "      <td>0.0</td>\n",
       "      <td>0.000000</td>\n",
       "      <td>0.000000</td>\n",
       "      <td>0.000000</td>\n",
       "    </tr>\n",
       "    <tr>\n",
       "      <th>1</th>\n",
       "      <td>2021-02-02</td>\n",
       "      <td>234.199997</td>\n",
       "      <td>0.024814</td>\n",
       "      <td>NaN</td>\n",
       "      <td>0.0</td>\n",
       "      <td>0.0</td>\n",
       "      <td>0.0</td>\n",
       "      <td>0.000000</td>\n",
       "      <td>0.000000</td>\n",
       "      <td>0.000000</td>\n",
       "    </tr>\n",
       "    <tr>\n",
       "      <th>2</th>\n",
       "      <td>2021-02-03</td>\n",
       "      <td>234.820007</td>\n",
       "      <td>0.002644</td>\n",
       "      <td>NaN</td>\n",
       "      <td>0.0</td>\n",
       "      <td>0.0</td>\n",
       "      <td>0.0</td>\n",
       "      <td>0.000000</td>\n",
       "      <td>0.000000</td>\n",
       "      <td>0.000000</td>\n",
       "    </tr>\n",
       "    <tr>\n",
       "      <th>3</th>\n",
       "      <td>2021-02-04</td>\n",
       "      <td>237.979996</td>\n",
       "      <td>0.013367</td>\n",
       "      <td>NaN</td>\n",
       "      <td>0.0</td>\n",
       "      <td>0.0</td>\n",
       "      <td>0.0</td>\n",
       "      <td>0.000000</td>\n",
       "      <td>0.000000</td>\n",
       "      <td>0.000000</td>\n",
       "    </tr>\n",
       "    <tr>\n",
       "      <th>4</th>\n",
       "      <td>2021-02-05</td>\n",
       "      <td>238.889999</td>\n",
       "      <td>0.003817</td>\n",
       "      <td>NaN</td>\n",
       "      <td>0.0</td>\n",
       "      <td>0.0</td>\n",
       "      <td>0.0</td>\n",
       "      <td>0.000000</td>\n",
       "      <td>0.000000</td>\n",
       "      <td>0.000000</td>\n",
       "    </tr>\n",
       "    <tr>\n",
       "      <th>...</th>\n",
       "      <td>...</td>\n",
       "      <td>...</td>\n",
       "      <td>...</td>\n",
       "      <td>...</td>\n",
       "      <td>...</td>\n",
       "      <td>...</td>\n",
       "      <td>...</td>\n",
       "      <td>...</td>\n",
       "      <td>...</td>\n",
       "      <td>...</td>\n",
       "    </tr>\n",
       "    <tr>\n",
       "      <th>206</th>\n",
       "      <td>2021-11-23</td>\n",
       "      <td>291.420013</td>\n",
       "      <td>-0.018428</td>\n",
       "      <td>Congrats Ray Vara, ceo of Hawaii Pacific Healt...</td>\n",
       "      <td>7.0</td>\n",
       "      <td>1172.0</td>\n",
       "      <td>197.0</td>\n",
       "      <td>0.521602</td>\n",
       "      <td>0.257665</td>\n",
       "      <td>0.140775</td>\n",
       "    </tr>\n",
       "    <tr>\n",
       "      <th>207</th>\n",
       "      <td>2021-11-24</td>\n",
       "      <td>289.170013</td>\n",
       "      <td>-0.007751</td>\n",
       "      <td>Im thankful for my family, friends, mentors &amp;a...</td>\n",
       "      <td>11.0</td>\n",
       "      <td>61174.0</td>\n",
       "      <td>1001.0</td>\n",
       "      <td>0.291667</td>\n",
       "      <td>0.203030</td>\n",
       "      <td>-0.238305</td>\n",
       "    </tr>\n",
       "    <tr>\n",
       "      <th>208</th>\n",
       "      <td>2021-11-26</td>\n",
       "      <td>284.209991</td>\n",
       "      <td>-0.017301</td>\n",
       "      <td>NaN</td>\n",
       "      <td>0.0</td>\n",
       "      <td>0.0</td>\n",
       "      <td>0.0</td>\n",
       "      <td>0.000000</td>\n",
       "      <td>0.000000</td>\n",
       "      <td>0.000000</td>\n",
       "    </tr>\n",
       "    <tr>\n",
       "      <th>209</th>\n",
       "      <td>2021-11-29</td>\n",
       "      <td>296.739990</td>\n",
       "      <td>0.043143</td>\n",
       "      <td>: 🇺🇸 : Dancing with the feet and heart!! Congr...</td>\n",
       "      <td>4.0</td>\n",
       "      <td>3420.0</td>\n",
       "      <td>0.0</td>\n",
       "      <td>0.187500</td>\n",
       "      <td>0.200000</td>\n",
       "      <td>0.056290</td>\n",
       "    </tr>\n",
       "    <tr>\n",
       "      <th>210</th>\n",
       "      <td>2021-11-30</td>\n",
       "      <td>284.959991</td>\n",
       "      <td>-0.040508</td>\n",
       "      <td>Congrats to Salesforce’s New Board Members Lau...</td>\n",
       "      <td>7.0</td>\n",
       "      <td>555.0</td>\n",
       "      <td>2863.0</td>\n",
       "      <td>0.457857</td>\n",
       "      <td>0.323799</td>\n",
       "      <td>0.481805</td>\n",
       "    </tr>\n",
       "  </tbody>\n",
       "</table>\n",
       "<p>211 rows × 10 columns</p>\n",
       "</div>"
      ],
      "text/plain": [
       "          Date       Close    Return  \\\n",
       "0   2021-02-01  228.460007  0.000000   \n",
       "1   2021-02-02  234.199997  0.024814   \n",
       "2   2021-02-03  234.820007  0.002644   \n",
       "3   2021-02-04  237.979996  0.013367   \n",
       "4   2021-02-05  238.889999  0.003817   \n",
       "..         ...         ...       ...   \n",
       "206 2021-11-23  291.420013 -0.018428   \n",
       "207 2021-11-24  289.170013 -0.007751   \n",
       "208 2021-11-26  284.209991 -0.017301   \n",
       "209 2021-11-29  296.739990  0.043143   \n",
       "210 2021-11-30  284.959991 -0.040508   \n",
       "\n",
       "                                                Tweets  Agg_count  \\\n",
       "0                                                  NaN        0.0   \n",
       "1                                                  NaN        0.0   \n",
       "2                                                  NaN        0.0   \n",
       "3                                                  NaN        0.0   \n",
       "4                                                  NaN        0.0   \n",
       "..                                                 ...        ...   \n",
       "206  Congrats Ray Vara, ceo of Hawaii Pacific Healt...        7.0   \n",
       "207  Im thankful for my family, friends, mentors &a...       11.0   \n",
       "208                                                NaN        0.0   \n",
       "209  : 🇺🇸 : Dancing with the feet and heart!! Congr...        4.0   \n",
       "210  Congrats to Salesforce’s New Board Members Lau...        7.0   \n",
       "\n",
       "     Agg_retweet  Agg_favorite  Subjectivity_mean  Polarity_mean  Polarity_chg  \n",
       "0            0.0           0.0           0.000000       0.000000      0.000000  \n",
       "1            0.0           0.0           0.000000       0.000000      0.000000  \n",
       "2            0.0           0.0           0.000000       0.000000      0.000000  \n",
       "3            0.0           0.0           0.000000       0.000000      0.000000  \n",
       "4            0.0           0.0           0.000000       0.000000      0.000000  \n",
       "..           ...           ...                ...            ...           ...  \n",
       "206       1172.0         197.0           0.521602       0.257665      0.140775  \n",
       "207      61174.0        1001.0           0.291667       0.203030     -0.238305  \n",
       "208          0.0           0.0           0.000000       0.000000      0.000000  \n",
       "209       3420.0           0.0           0.187500       0.200000      0.056290  \n",
       "210        555.0        2863.0           0.457857       0.323799      0.481805  \n",
       "\n",
       "[211 rows x 10 columns]"
      ]
     },
     "execution_count": 280,
     "metadata": {},
     "output_type": "execute_result"
    }
   ],
   "source": [
    "df"
   ]
  },
  {
   "cell_type": "code",
   "execution_count": 297,
   "id": "cd8b56d9-fbb5-40bf-8e6c-41c7794b1f34",
   "metadata": {},
   "outputs": [
    {
     "data": {
      "application/vnd.plotly.v1+json": {
       "config": {
        "plotlyServerURL": "https://plot.ly"
       },
       "data": [
        {
         "alignmentgroup": "True",
         "hovertemplate": "Date=%{x}<br>Return=%{y}<br>Polarity_chg=%{marker.color}<extra></extra>",
         "legendgroup": "",
         "marker": {
          "color": [
           0,
           0,
           0,
           0,
           0,
           0,
           0,
           0,
           0,
           0,
           0,
           0,
           -1.145977412633981,
           -0.4663238427872089,
           0.0446276795384786,
           0.8411568279264208,
           null,
           0,
           null,
           1.3624908962923528,
           -0.1174350474316125,
           0.1424357607123108,
           0,
           -1.8935574856771331,
           1.7893084427773942,
           -0.0369069804023656,
           -0.8141179350180261,
           0.7541341156195625,
           0.2377415664951404,
           -0.8383048179762408,
           -0.4979748953301901,
           1.0159811201710411,
           -0.4952780288725741,
           0.7227918147650864,
           0.2281289411138269,
           -1.0378252895541618,
           0.8219610869674193,
           -0.0464071314390569,
           0.0840507535221483,
           -0.3326783033691354,
           -0.4725307305069529,
           -1.842758552493408,
           2.0668855839012306,
           -0.3373459456113444,
           -0.657936494043163,
           0.992422056416089,
           -0.3978002392175937,
           0.3056019563878625,
           -0.6754916551875025,
           0.3762047781913887,
           0.1398903306213911,
           -0.0768864001190393,
           0.2165356492441911,
           -0.8188088291927105,
           0.698529460539838,
           -0.7006501942523251,
           0.7356512219907232,
           -0.3617614670531683,
           0.029352920536508,
           -0.1789942676896682,
           0.6758201708072109,
           -0.3199889467116325,
           -0.4860997637075699,
           0.138870713795091,
           0.5531832671786013,
           -0.8650815099571235,
           0.2591642617368203,
           -0.7167142381988254,
           0.4458780408511292,
           -0.0486864809597434,
           0,
           0,
           -0.4117189620736255,
           -0.7307145849227241,
           0.994646542986645,
           0.6504865186366977,
           -0.3367905655397161,
           0.092161932679961,
           -0.1117628333382452,
           -0.4676780018208569,
           0.6273152996914096,
           -0.3295261503032846,
           0.1472563185390834,
           0,
           0,
           0,
           0,
           0,
           0,
           0,
           0,
           0,
           0,
           0,
           0,
           0,
           0,
           0,
           0,
           0,
           0,
           0,
           0,
           0,
           0,
           0,
           0,
           0,
           0,
           0,
           0,
           0,
           0,
           0,
           0,
           0,
           0,
           0,
           0,
           0,
           0,
           0,
           0,
           0,
           0,
           0,
           -2.2945914453133,
           1.736563319312645,
           0.1299840316857242,
           -0.9882439801803764,
           0.4480029242154847,
           -0.2390675688952009,
           0.045417183076989,
           -0.0323574170961435,
           -0.6834773518727232,
           1.1015438868588914,
           -0.3605028590730893,
           0.0168552193950655,
           1.0521797390774488,
           -0.9061460711345984,
           -0.253207281061771,
           -1.1143353524442778,
           0.9212357499688278,
           -0.5604748714535861,
           0.4648487574437651,
           -0.4772482256463028,
           0.8839759516548789,
           -1.063752483803661,
           0.8177451028762004,
           0.121153439192831,
           0.790613185434702,
           0,
           0,
           0.3247132910277606,
           -0.4590739857039586,
           0.7115939620243849,
           -0.8366101197640445,
           1.3878294620885288,
           -0.1730899630980057,
           -0.0915892945338256,
           -0.1738432340768009,
           0.0208445397165075,
           -0.3675866297961581,
           -0.3349121862111596,
           0.0270854936307462,
           0.4919883338626101,
           0.0587879543150593,
           0.356321618257113,
           0.4003622510150484,
           -1.2973287605001544,
           0.6960345643028681,
           -0.5582878874723367,
           0.4477911056568153,
           -0.3464597776823981,
           0.4334898557963584,
           -0.94304629472561,
           0.2376875805262573,
           0.9324400632165886,
           -0.6421044813372195,
           0.6146941178220434,
           -0.2766436965193158,
           0.4599376594188113,
           -0.8568285807444721,
           0.6872067058133766,
           -1.176233101236783,
           0.8254986320446192,
           0.5527898228650229,
           -1.5643907345435026,
           0.9589410107734712,
           -0.3401932201166511,
           0.344795220612546,
           -0.1549205581962476,
           0.1956324130241455,
           -0.453436143438653,
           0.0190514619411424,
           -0.0234769553229534,
           -0.1547741376239305,
           0.3107447440119997,
           0.2226430090496503,
           0,
           0,
           2.053628345455545,
           0.2916180788650248,
           0.3411995111171743,
           -0.0767826127480782,
           -0.4526833587937258,
           0.1407748195087357,
           -0.238305215689514,
           0,
           0.0562898072306979,
           0.4818046638743024
          ],
          "coloraxis": "coloraxis",
          "pattern": {
           "shape": ""
          }
         },
         "name": "",
         "offsetgroup": "",
         "orientation": "v",
         "showlegend": false,
         "textposition": "auto",
         "type": "bar",
         "x": [
          "2021-02-01",
          "2021-02-02",
          "2021-02-03",
          "2021-02-04",
          "2021-02-05",
          "2021-02-08",
          "2021-02-09",
          "2021-02-10",
          "2021-02-11",
          "2021-02-12",
          "2021-02-16",
          "2021-02-17",
          "2021-02-18",
          "2021-02-19",
          "2021-02-22",
          "2021-02-23",
          "2021-02-24",
          "2021-02-25",
          "2021-02-26",
          "2021-03-01",
          "2021-03-02",
          "2021-03-03",
          "2021-03-04",
          "2021-03-05",
          "2021-03-08",
          "2021-03-09",
          "2021-03-10",
          "2021-03-11",
          "2021-03-12",
          "2021-03-15",
          "2021-03-16",
          "2021-03-17",
          "2021-03-18",
          "2021-03-19",
          "2021-03-22",
          "2021-03-23",
          "2021-03-24",
          "2021-03-25",
          "2021-03-26",
          "2021-03-29",
          "2021-03-30",
          "2021-03-31",
          "2021-04-01",
          "2021-04-05",
          "2021-04-06",
          "2021-04-07",
          "2021-04-08",
          "2021-04-09",
          "2021-04-12",
          "2021-04-13",
          "2021-04-14",
          "2021-04-15",
          "2021-04-16",
          "2021-04-19",
          "2021-04-20",
          "2021-04-21",
          "2021-04-22",
          "2021-04-23",
          "2021-04-26",
          "2021-04-27",
          "2021-04-28",
          "2021-04-29",
          "2021-04-30",
          "2021-05-03",
          "2021-05-04",
          "2021-05-05",
          "2021-05-06",
          "2021-05-07",
          "2021-05-10",
          "2021-05-11",
          "2021-05-12",
          "2021-05-13",
          "2021-05-14",
          "2021-05-17",
          "2021-05-18",
          "2021-05-19",
          "2021-05-20",
          "2021-05-21",
          "2021-05-24",
          "2021-05-25",
          "2021-05-26",
          "2021-05-27",
          "2021-05-28",
          "2021-06-01",
          "2021-06-02",
          "2021-06-03",
          "2021-06-04",
          "2021-06-07",
          "2021-06-08",
          "2021-06-09",
          "2021-06-10",
          "2021-06-11",
          "2021-06-14",
          "2021-06-15",
          "2021-06-16",
          "2021-06-17",
          "2021-06-18",
          "2021-06-21",
          "2021-06-22",
          "2021-06-23",
          "2021-06-24",
          "2021-06-25",
          "2021-06-28",
          "2021-06-29",
          "2021-06-30",
          "2021-07-01",
          "2021-07-02",
          "2021-07-06",
          "2021-07-07",
          "2021-07-08",
          "2021-07-09",
          "2021-07-12",
          "2021-07-13",
          "2021-07-14",
          "2021-07-15",
          "2021-07-16",
          "2021-07-19",
          "2021-07-20",
          "2021-07-21",
          "2021-07-22",
          "2021-07-23",
          "2021-07-26",
          "2021-07-27",
          "2021-07-28",
          "2021-07-29",
          "2021-07-30",
          "2021-08-02",
          "2021-08-03",
          "2021-08-04",
          "2021-08-05",
          "2021-08-06",
          "2021-08-09",
          "2021-08-10",
          "2021-08-11",
          "2021-08-12",
          "2021-08-13",
          "2021-08-16",
          "2021-08-17",
          "2021-08-18",
          "2021-08-19",
          "2021-08-20",
          "2021-08-23",
          "2021-08-24",
          "2021-08-25",
          "2021-08-26",
          "2021-08-27",
          "2021-08-30",
          "2021-08-31",
          "2021-09-01",
          "2021-09-02",
          "2021-09-03",
          "2021-09-07",
          "2021-09-08",
          "2021-09-09",
          "2021-09-10",
          "2021-09-13",
          "2021-09-14",
          "2021-09-15",
          "2021-09-16",
          "2021-09-17",
          "2021-09-20",
          "2021-09-21",
          "2021-09-22",
          "2021-09-23",
          "2021-09-24",
          "2021-09-27",
          "2021-09-28",
          "2021-09-29",
          "2021-09-30",
          "2021-10-01",
          "2021-10-04",
          "2021-10-05",
          "2021-10-06",
          "2021-10-07",
          "2021-10-08",
          "2021-10-11",
          "2021-10-12",
          "2021-10-13",
          "2021-10-14",
          "2021-10-15",
          "2021-10-18",
          "2021-10-19",
          "2021-10-20",
          "2021-10-21",
          "2021-10-22",
          "2021-10-25",
          "2021-10-26",
          "2021-10-27",
          "2021-10-28",
          "2021-10-29",
          "2021-11-01",
          "2021-11-02",
          "2021-11-03",
          "2021-11-04",
          "2021-11-05",
          "2021-11-08",
          "2021-11-09",
          "2021-11-10",
          "2021-11-11",
          "2021-11-12",
          "2021-11-15",
          "2021-11-16",
          "2021-11-17",
          "2021-11-18",
          "2021-11-19",
          "2021-11-22",
          "2021-11-23",
          "2021-11-24",
          "2021-11-26",
          "2021-11-29",
          "2021-11-30"
         ],
         "xaxis": "x",
         "y": [
          0,
          0.024814267408315,
          0.0026438546580801,
          0.0133673267067394,
          0.0038165710325638,
          0.000167401953719,
          -0.0093770888594882,
          8.450847068744822e-05,
          0.0189142969926791,
          -0.0036129272497282,
          0.0336255548560318,
          -0.0037480829772097,
          -0.0026280525418153,
          -0.0018234379361221,
          -0.023015932824564,
          -0.0222842182259008,
          0.0202901333891772,
          -0.0398313662308261,
          -0.0651734321255314,
          0.004792162045169,
          -0.0188863972302065,
          -0.0356201434679259,
          -0.0032577180817559,
          0.0261015709095929,
          -0.0145289978271269,
          0.018175803881306,
          0.0020307829780628,
          0.0186492748649456,
          -0.0174705021054547,
          0.0027763881560829,
          0.0078637037127124,
          -0.006361111386883,
          -0.0172271135746779,
          0.0129009617258915,
          0.013899192028107,
          -0.0007903759427208,
          -0.0257711056992324,
          -0.0197128921916316,
          0.0176107319160149,
          0.0080027483741747,
          -0.0036599798095198,
          0.0088653247193532,
          0.0318195221108731,
          0.0071524508076384,
          0.0036250119896149,
          -0.0013578485270319,
          0.0164409600440188,
          0.029976141522392,
          -0.01095569619418,
          0.0140639744761627,
          -0.0173040097184155,
          0.0216050916178061,
          -0.0046890709505126,
          -0.0060985201784847,
          -0.0110806567627633,
          0.0113409179027404,
          0.0034206177110589,
          0.0092931400442853,
          0.0083161960470668,
          -0.0053228986910748,
          0.0113355262130531,
          -0.0106953059575418,
          -0.0173887222471102,
          -0.0288956501480834,
          -0.029847555990909,
          -0.0082297336902904,
          0.012227671179953,
          -0.0071338606045431,
          -0.0121286879404779,
          0.00777742428507,
          -0.0235636582117973,
          0.0062500583131088,
          0.0270085467567528,
          -0.0120171809825511,
          -0.0034001569822039,
          0.0321830700844483,
          0.0109634591460061,
          -0.0053768253800881,
          0.0196193891442,
          0.003166934606415,
          0.0086140850541949,
          -0.0169044926501903,
          0.0529082660068807,
          -0.0080118876301517,
          -0.0067117282956432,
          -0.0162423502517716,
          0.0283585800442046,
          0.0027753392648674,
          -0.0072488559611087,
          -0.0013968045452792,
          0.0172172138152038,
          0.0004994630696964,
          0.0244581198586505,
          -0.0150563069355438,
          -0.000783566032248,
          0.0083809456239148,
          -0.0067732613664018,
          0.0069778102661967,
          -0.0056194696922387,
          -0.0052376859933189,
          0.007948840271554,
          -0.007824803139402,
          0.011101224065988,
          0.005057276521043,
          -0.0062846843882917,
          0.0029023709694427,
          0.0130583024518043,
          0.0082255575118498,
          -0.0072590424539943,
          -0.0106831664043564,
          -0.0030151389769452,
          -0.008812049526897,
          0.0045591847061503,
          -0.0065372255001357,
          -0.0202085627595407,
          0.0035713195619831,
          -0.003697596579743,
          0.0107190155755928,
          0.0082950166296515,
          0.0251649650506465,
          -0.0001208345924593,
          -0.0026217378822079,
          -0.0166565761349178,
          0.0018463172133273,
          0.0003278114783453,
          -0.0086837184181225,
          -0.0044325431975832,
          0.001120371895193,
          0.0125284679367288,
          0.025833709004273,
          0.0001197166532775,
          -0.0050808814565784,
          -0.0240721490505661,
          -0.0045710129811604,
          0.0249060095887919,
          0.0126814341508306,
          -0.0094257468501383,
          -0.0089079046525959,
          0.0169811830175031,
          0.0073371047212575,
          0.0120189896468259,
          0.0169944438471887,
          -0.0033064931180866,
          0.0045724541332591,
          0.0262575723986885,
          -0.0047163209939332,
          -0.0058701880702753,
          0.0011315179453251,
          0.0114321904132193,
          -0.0156632232671934,
          0.0110310894191547,
          -0.0070262592590347,
          -0.0098138296641344,
          -0.007184397509693,
          -0.0136696648624883,
          -0.012086790947902,
          0.0010226322557552,
          0.0070123845360299,
          0.0162629662280035,
          0.00065278278047,
          -0.008906075252879,
          -0.0009686356519047,
          0.004640964231693,
          0.0696330685376657,
          0.02757994873418,
          -0.0210512170323072,
          -0.0268151225315055,
          -0.0065588466205244,
          0.0026582050603069,
          0.0147858385338314,
          -0.0161141150326135,
          0.0033540530258422,
          0.0127963143454963,
          -0.002509784094978,
          -0.007677352840109,
          0.0046500238463977,
          0.018996500690655,
          0.0192050912977861,
          0.019532975072178,
          0.0056389058086886,
          0.0001371640118122,
          0.0021915767666177,
          -0.0077262889061614,
          -0.0009656769258697,
          0.0094442380585042,
          0.0046378986916157,
          0.0040404516677333,
          0.0001355639937813,
          0.0108841773538056,
          0.0043807550276088,
          0.0101918317309623,
          0.0006273695310655,
          -0.0001980621864594,
          0.016859921072999,
          -0.0025679254418895,
          0.0087814794136001,
          -0.0008068811490813,
          -0.0329544341174435,
          0.010984920442984,
          0.0120401794695081,
          -0.0037900003883243,
          0.0052238390905509,
          0.0030238290104136,
          -0.0164649115583241,
          -0.0060248361234942,
          -0.0144816729098739,
          -0.0184276894317972,
          -0.0077507747746231,
          -0.0173014255546065,
          0.0431429309574789,
          -0.0405075128651411
         ],
         "yaxis": "y"
        }
       ],
       "layout": {
        "autosize": true,
        "barmode": "relative",
        "coloraxis": {
         "colorbar": {
          "title": {
           "text": "Polarity_chg"
          }
         },
         "colorscale": [
          [
           0,
           "#0d0887"
          ],
          [
           0.1111111111111111,
           "#46039f"
          ],
          [
           0.2222222222222222,
           "#7201a8"
          ],
          [
           0.3333333333333333,
           "#9c179e"
          ],
          [
           0.4444444444444444,
           "#bd3786"
          ],
          [
           0.5555555555555556,
           "#d8576b"
          ],
          [
           0.6666666666666666,
           "#ed7953"
          ],
          [
           0.7777777777777778,
           "#fb9f3a"
          ],
          [
           0.8888888888888888,
           "#fdca26"
          ],
          [
           1,
           "#f0f921"
          ]
         ]
        },
        "legend": {
         "tracegroupgap": 0
        },
        "margin": {
         "t": 60
        },
        "template": {
         "data": {
          "bar": [
           {
            "error_x": {
             "color": "#2a3f5f"
            },
            "error_y": {
             "color": "#2a3f5f"
            },
            "marker": {
             "line": {
              "color": "#E5ECF6",
              "width": 0.5
             },
             "pattern": {
              "fillmode": "overlay",
              "size": 10,
              "solidity": 0.2
             }
            },
            "type": "bar"
           }
          ],
          "barpolar": [
           {
            "marker": {
             "line": {
              "color": "#E5ECF6",
              "width": 0.5
             },
             "pattern": {
              "fillmode": "overlay",
              "size": 10,
              "solidity": 0.2
             }
            },
            "type": "barpolar"
           }
          ],
          "carpet": [
           {
            "aaxis": {
             "endlinecolor": "#2a3f5f",
             "gridcolor": "white",
             "linecolor": "white",
             "minorgridcolor": "white",
             "startlinecolor": "#2a3f5f"
            },
            "baxis": {
             "endlinecolor": "#2a3f5f",
             "gridcolor": "white",
             "linecolor": "white",
             "minorgridcolor": "white",
             "startlinecolor": "#2a3f5f"
            },
            "type": "carpet"
           }
          ],
          "choropleth": [
           {
            "colorbar": {
             "outlinewidth": 0,
             "ticks": ""
            },
            "type": "choropleth"
           }
          ],
          "contour": [
           {
            "colorbar": {
             "outlinewidth": 0,
             "ticks": ""
            },
            "colorscale": [
             [
              0,
              "#0d0887"
             ],
             [
              0.1111111111111111,
              "#46039f"
             ],
             [
              0.2222222222222222,
              "#7201a8"
             ],
             [
              0.3333333333333333,
              "#9c179e"
             ],
             [
              0.4444444444444444,
              "#bd3786"
             ],
             [
              0.5555555555555556,
              "#d8576b"
             ],
             [
              0.6666666666666666,
              "#ed7953"
             ],
             [
              0.7777777777777778,
              "#fb9f3a"
             ],
             [
              0.8888888888888888,
              "#fdca26"
             ],
             [
              1,
              "#f0f921"
             ]
            ],
            "type": "contour"
           }
          ],
          "contourcarpet": [
           {
            "colorbar": {
             "outlinewidth": 0,
             "ticks": ""
            },
            "type": "contourcarpet"
           }
          ],
          "heatmap": [
           {
            "colorbar": {
             "outlinewidth": 0,
             "ticks": ""
            },
            "colorscale": [
             [
              0,
              "#0d0887"
             ],
             [
              0.1111111111111111,
              "#46039f"
             ],
             [
              0.2222222222222222,
              "#7201a8"
             ],
             [
              0.3333333333333333,
              "#9c179e"
             ],
             [
              0.4444444444444444,
              "#bd3786"
             ],
             [
              0.5555555555555556,
              "#d8576b"
             ],
             [
              0.6666666666666666,
              "#ed7953"
             ],
             [
              0.7777777777777778,
              "#fb9f3a"
             ],
             [
              0.8888888888888888,
              "#fdca26"
             ],
             [
              1,
              "#f0f921"
             ]
            ],
            "type": "heatmap"
           }
          ],
          "heatmapgl": [
           {
            "colorbar": {
             "outlinewidth": 0,
             "ticks": ""
            },
            "colorscale": [
             [
              0,
              "#0d0887"
             ],
             [
              0.1111111111111111,
              "#46039f"
             ],
             [
              0.2222222222222222,
              "#7201a8"
             ],
             [
              0.3333333333333333,
              "#9c179e"
             ],
             [
              0.4444444444444444,
              "#bd3786"
             ],
             [
              0.5555555555555556,
              "#d8576b"
             ],
             [
              0.6666666666666666,
              "#ed7953"
             ],
             [
              0.7777777777777778,
              "#fb9f3a"
             ],
             [
              0.8888888888888888,
              "#fdca26"
             ],
             [
              1,
              "#f0f921"
             ]
            ],
            "type": "heatmapgl"
           }
          ],
          "histogram": [
           {
            "marker": {
             "pattern": {
              "fillmode": "overlay",
              "size": 10,
              "solidity": 0.2
             }
            },
            "type": "histogram"
           }
          ],
          "histogram2d": [
           {
            "colorbar": {
             "outlinewidth": 0,
             "ticks": ""
            },
            "colorscale": [
             [
              0,
              "#0d0887"
             ],
             [
              0.1111111111111111,
              "#46039f"
             ],
             [
              0.2222222222222222,
              "#7201a8"
             ],
             [
              0.3333333333333333,
              "#9c179e"
             ],
             [
              0.4444444444444444,
              "#bd3786"
             ],
             [
              0.5555555555555556,
              "#d8576b"
             ],
             [
              0.6666666666666666,
              "#ed7953"
             ],
             [
              0.7777777777777778,
              "#fb9f3a"
             ],
             [
              0.8888888888888888,
              "#fdca26"
             ],
             [
              1,
              "#f0f921"
             ]
            ],
            "type": "histogram2d"
           }
          ],
          "histogram2dcontour": [
           {
            "colorbar": {
             "outlinewidth": 0,
             "ticks": ""
            },
            "colorscale": [
             [
              0,
              "#0d0887"
             ],
             [
              0.1111111111111111,
              "#46039f"
             ],
             [
              0.2222222222222222,
              "#7201a8"
             ],
             [
              0.3333333333333333,
              "#9c179e"
             ],
             [
              0.4444444444444444,
              "#bd3786"
             ],
             [
              0.5555555555555556,
              "#d8576b"
             ],
             [
              0.6666666666666666,
              "#ed7953"
             ],
             [
              0.7777777777777778,
              "#fb9f3a"
             ],
             [
              0.8888888888888888,
              "#fdca26"
             ],
             [
              1,
              "#f0f921"
             ]
            ],
            "type": "histogram2dcontour"
           }
          ],
          "mesh3d": [
           {
            "colorbar": {
             "outlinewidth": 0,
             "ticks": ""
            },
            "type": "mesh3d"
           }
          ],
          "parcoords": [
           {
            "line": {
             "colorbar": {
              "outlinewidth": 0,
              "ticks": ""
             }
            },
            "type": "parcoords"
           }
          ],
          "pie": [
           {
            "automargin": true,
            "type": "pie"
           }
          ],
          "scatter": [
           {
            "marker": {
             "colorbar": {
              "outlinewidth": 0,
              "ticks": ""
             }
            },
            "type": "scatter"
           }
          ],
          "scatter3d": [
           {
            "line": {
             "colorbar": {
              "outlinewidth": 0,
              "ticks": ""
             }
            },
            "marker": {
             "colorbar": {
              "outlinewidth": 0,
              "ticks": ""
             }
            },
            "type": "scatter3d"
           }
          ],
          "scattercarpet": [
           {
            "marker": {
             "colorbar": {
              "outlinewidth": 0,
              "ticks": ""
             }
            },
            "type": "scattercarpet"
           }
          ],
          "scattergeo": [
           {
            "marker": {
             "colorbar": {
              "outlinewidth": 0,
              "ticks": ""
             }
            },
            "type": "scattergeo"
           }
          ],
          "scattergl": [
           {
            "marker": {
             "colorbar": {
              "outlinewidth": 0,
              "ticks": ""
             }
            },
            "type": "scattergl"
           }
          ],
          "scattermapbox": [
           {
            "marker": {
             "colorbar": {
              "outlinewidth": 0,
              "ticks": ""
             }
            },
            "type": "scattermapbox"
           }
          ],
          "scatterpolar": [
           {
            "marker": {
             "colorbar": {
              "outlinewidth": 0,
              "ticks": ""
             }
            },
            "type": "scatterpolar"
           }
          ],
          "scatterpolargl": [
           {
            "marker": {
             "colorbar": {
              "outlinewidth": 0,
              "ticks": ""
             }
            },
            "type": "scatterpolargl"
           }
          ],
          "scatterternary": [
           {
            "marker": {
             "colorbar": {
              "outlinewidth": 0,
              "ticks": ""
             }
            },
            "type": "scatterternary"
           }
          ],
          "surface": [
           {
            "colorbar": {
             "outlinewidth": 0,
             "ticks": ""
            },
            "colorscale": [
             [
              0,
              "#0d0887"
             ],
             [
              0.1111111111111111,
              "#46039f"
             ],
             [
              0.2222222222222222,
              "#7201a8"
             ],
             [
              0.3333333333333333,
              "#9c179e"
             ],
             [
              0.4444444444444444,
              "#bd3786"
             ],
             [
              0.5555555555555556,
              "#d8576b"
             ],
             [
              0.6666666666666666,
              "#ed7953"
             ],
             [
              0.7777777777777778,
              "#fb9f3a"
             ],
             [
              0.8888888888888888,
              "#fdca26"
             ],
             [
              1,
              "#f0f921"
             ]
            ],
            "type": "surface"
           }
          ],
          "table": [
           {
            "cells": {
             "fill": {
              "color": "#EBF0F8"
             },
             "line": {
              "color": "white"
             }
            },
            "header": {
             "fill": {
              "color": "#C8D4E3"
             },
             "line": {
              "color": "white"
             }
            },
            "type": "table"
           }
          ]
         },
         "layout": {
          "annotationdefaults": {
           "arrowcolor": "#2a3f5f",
           "arrowhead": 0,
           "arrowwidth": 1
          },
          "autotypenumbers": "strict",
          "coloraxis": {
           "colorbar": {
            "outlinewidth": 0,
            "ticks": ""
           }
          },
          "colorscale": {
           "diverging": [
            [
             0,
             "#8e0152"
            ],
            [
             0.1,
             "#c51b7d"
            ],
            [
             0.2,
             "#de77ae"
            ],
            [
             0.3,
             "#f1b6da"
            ],
            [
             0.4,
             "#fde0ef"
            ],
            [
             0.5,
             "#f7f7f7"
            ],
            [
             0.6,
             "#e6f5d0"
            ],
            [
             0.7,
             "#b8e186"
            ],
            [
             0.8,
             "#7fbc41"
            ],
            [
             0.9,
             "#4d9221"
            ],
            [
             1,
             "#276419"
            ]
           ],
           "sequential": [
            [
             0,
             "#0d0887"
            ],
            [
             0.1111111111111111,
             "#46039f"
            ],
            [
             0.2222222222222222,
             "#7201a8"
            ],
            [
             0.3333333333333333,
             "#9c179e"
            ],
            [
             0.4444444444444444,
             "#bd3786"
            ],
            [
             0.5555555555555556,
             "#d8576b"
            ],
            [
             0.6666666666666666,
             "#ed7953"
            ],
            [
             0.7777777777777778,
             "#fb9f3a"
            ],
            [
             0.8888888888888888,
             "#fdca26"
            ],
            [
             1,
             "#f0f921"
            ]
           ],
           "sequentialminus": [
            [
             0,
             "#0d0887"
            ],
            [
             0.1111111111111111,
             "#46039f"
            ],
            [
             0.2222222222222222,
             "#7201a8"
            ],
            [
             0.3333333333333333,
             "#9c179e"
            ],
            [
             0.4444444444444444,
             "#bd3786"
            ],
            [
             0.5555555555555556,
             "#d8576b"
            ],
            [
             0.6666666666666666,
             "#ed7953"
            ],
            [
             0.7777777777777778,
             "#fb9f3a"
            ],
            [
             0.8888888888888888,
             "#fdca26"
            ],
            [
             1,
             "#f0f921"
            ]
           ]
          },
          "colorway": [
           "#636efa",
           "#EF553B",
           "#00cc96",
           "#ab63fa",
           "#FFA15A",
           "#19d3f3",
           "#FF6692",
           "#B6E880",
           "#FF97FF",
           "#FECB52"
          ],
          "font": {
           "color": "#2a3f5f"
          },
          "geo": {
           "bgcolor": "white",
           "lakecolor": "white",
           "landcolor": "#E5ECF6",
           "showlakes": true,
           "showland": true,
           "subunitcolor": "white"
          },
          "hoverlabel": {
           "align": "left"
          },
          "hovermode": "closest",
          "mapbox": {
           "style": "light"
          },
          "paper_bgcolor": "white",
          "plot_bgcolor": "#E5ECF6",
          "polar": {
           "angularaxis": {
            "gridcolor": "white",
            "linecolor": "white",
            "ticks": ""
           },
           "bgcolor": "#E5ECF6",
           "radialaxis": {
            "gridcolor": "white",
            "linecolor": "white",
            "ticks": ""
           }
          },
          "scene": {
           "xaxis": {
            "backgroundcolor": "#E5ECF6",
            "gridcolor": "white",
            "gridwidth": 2,
            "linecolor": "white",
            "showbackground": true,
            "ticks": "",
            "zerolinecolor": "white"
           },
           "yaxis": {
            "backgroundcolor": "#E5ECF6",
            "gridcolor": "white",
            "gridwidth": 2,
            "linecolor": "white",
            "showbackground": true,
            "ticks": "",
            "zerolinecolor": "white"
           },
           "zaxis": {
            "backgroundcolor": "#E5ECF6",
            "gridcolor": "white",
            "gridwidth": 2,
            "linecolor": "white",
            "showbackground": true,
            "ticks": "",
            "zerolinecolor": "white"
           }
          },
          "shapedefaults": {
           "line": {
            "color": "#2a3f5f"
           }
          },
          "ternary": {
           "aaxis": {
            "gridcolor": "white",
            "linecolor": "white",
            "ticks": ""
           },
           "baxis": {
            "gridcolor": "white",
            "linecolor": "white",
            "ticks": ""
           },
           "bgcolor": "#E5ECF6",
           "caxis": {
            "gridcolor": "white",
            "linecolor": "white",
            "ticks": ""
           }
          },
          "title": {
           "x": 0.05
          },
          "xaxis": {
           "automargin": true,
           "gridcolor": "white",
           "linecolor": "white",
           "ticks": "",
           "title": {
            "standoff": 15
           },
           "zerolinecolor": "white",
           "zerolinewidth": 2
          },
          "yaxis": {
           "automargin": true,
           "gridcolor": "white",
           "linecolor": "white",
           "ticks": "",
           "title": {
            "standoff": 15
           },
           "zerolinecolor": "white",
           "zerolinewidth": 2
          }
         }
        },
        "xaxis": {
         "anchor": "y",
         "autorange": true,
         "domain": [
          0,
          1
         ],
         "range": [
          "2021-01-31 12:00",
          "2021-11-30 12:00"
         ],
         "title": {
          "text": "Date"
         },
         "type": "date"
        },
        "yaxis": {
         "anchor": "x",
         "autorange": true,
         "domain": [
          0,
          1
         ],
         "range": [
          -0.07266268216237567,
          0.07712231857450998
         ],
         "title": {
          "text": "Return"
         },
         "type": "linear"
        }
       }
      },
      "image/png": "[encoded data removed]",
      "text/html": [
       "<div>                            <div id=\"e46b29bd-35b5-4b6b-8c38-8cd746a76be3\" class=\"plotly-graph-div\" style=\"height:525px; width:100%;\"></div>            <script type=\"text/javascript\">                require([\"plotly\"], function(Plotly) {                    window.PLOTLYENV=window.PLOTLYENV || {};                                    if (document.getElementById(\"e46b29bd-35b5-4b6b-8c38-8cd746a76be3\")) {                    Plotly.newPlot(                        \"e46b29bd-35b5-4b6b-8c38-8cd746a76be3\",                        [{\"alignmentgroup\":\"True\",\"hovertemplate\":\"Date=%{x}<br>Return=%{y}<br>Polarity_chg=%{marker.color}<extra></extra>\",\"legendgroup\":\"\",\"marker\":{\"color\":[0.0,0.0,0.0,0.0,0.0,0.0,0.0,0.0,0.0,0.0,0.0,0.0,-1.145977412633981,-0.4663238427872089,0.0446276795384786,0.8411568279264208,null,0.0,null,1.3624908962923528,-0.1174350474316125,0.1424357607123108,0.0,-1.8935574856771331,1.7893084427773942,-0.0369069804023656,-0.8141179350180261,0.7541341156195625,0.2377415664951404,-0.8383048179762408,-0.4979748953301901,1.0159811201710411,-0.4952780288725741,0.7227918147650864,0.2281289411138269,-1.0378252895541618,0.8219610869674193,-0.0464071314390569,0.0840507535221483,-0.3326783033691354,-0.4725307305069529,-1.842758552493408,2.0668855839012306,-0.3373459456113444,-0.657936494043163,0.992422056416089,-0.3978002392175937,0.3056019563878625,-0.6754916551875025,0.3762047781913887,0.1398903306213911,-0.0768864001190393,0.2165356492441911,-0.8188088291927105,0.698529460539838,-0.7006501942523251,0.7356512219907232,-0.3617614670531683,0.029352920536508,-0.1789942676896682,0.6758201708072109,-0.3199889467116325,-0.4860997637075699,0.138870713795091,0.5531832671786013,-0.8650815099571235,0.2591642617368203,-0.7167142381988254,0.4458780408511292,-0.0486864809597434,0.0,0.0,-0.4117189620736255,-0.7307145849227241,0.994646542986645,0.6504865186366977,-0.3367905655397161,0.092161932679961,-0.1117628333382452,-0.4676780018208569,0.6273152996914096,-0.3295261503032846,0.1472563185390834,0.0,0.0,0.0,0.0,0.0,0.0,0.0,0.0,0.0,0.0,0.0,0.0,0.0,0.0,0.0,0.0,0.0,0.0,0.0,0.0,0.0,0.0,0.0,0.0,0.0,0.0,0.0,0.0,0.0,0.0,0.0,0.0,0.0,0.0,0.0,0.0,0.0,0.0,0.0,0.0,0.0,0.0,0.0,-2.2945914453133,1.736563319312645,0.1299840316857242,-0.9882439801803764,0.4480029242154847,-0.2390675688952009,0.045417183076989,-0.0323574170961435,-0.6834773518727232,1.1015438868588914,-0.3605028590730893,0.0168552193950655,1.0521797390774488,-0.9061460711345984,-0.253207281061771,-1.1143353524442778,0.9212357499688278,-0.5604748714535861,0.4648487574437651,-0.4772482256463028,0.8839759516548789,-1.063752483803661,0.8177451028762004,0.121153439192831,0.790613185434702,0.0,0.0,0.3247132910277606,-0.4590739857039586,0.7115939620243849,-0.8366101197640445,1.3878294620885288,-0.1730899630980057,-0.0915892945338256,-0.1738432340768009,0.0208445397165075,-0.3675866297961581,-0.3349121862111596,0.0270854936307462,0.4919883338626101,0.0587879543150593,0.356321618257113,0.4003622510150484,-1.2973287605001544,0.6960345643028681,-0.5582878874723367,0.4477911056568153,-0.3464597776823981,0.4334898557963584,-0.94304629472561,0.2376875805262573,0.9324400632165886,-0.6421044813372195,0.6146941178220434,-0.2766436965193158,0.4599376594188113,-0.8568285807444721,0.6872067058133766,-1.176233101236783,0.8254986320446192,0.5527898228650229,-1.5643907345435026,0.9589410107734712,-0.3401932201166511,0.344795220612546,-0.1549205581962476,0.1956324130241455,-0.453436143438653,0.0190514619411424,-0.0234769553229534,-0.1547741376239305,0.3107447440119997,0.2226430090496503,0.0,0.0,2.053628345455545,0.2916180788650248,0.3411995111171743,-0.0767826127480782,-0.4526833587937258,0.1407748195087357,-0.238305215689514,0.0,0.0562898072306979,0.4818046638743024],\"coloraxis\":\"coloraxis\",\"pattern\":{\"shape\":\"\"}},\"name\":\"\",\"offsetgroup\":\"\",\"orientation\":\"v\",\"showlegend\":false,\"textposition\":\"auto\",\"type\":\"bar\",\"x\":[\"2021-02-01\",\"2021-02-02\",\"2021-02-03\",\"2021-02-04\",\"2021-02-05\",\"2021-02-08\",\"2021-02-09\",\"2021-02-10\",\"2021-02-11\",\"2021-02-12\",\"2021-02-16\",\"2021-02-17\",\"2021-02-18\",\"2021-02-19\",\"2021-02-22\",\"2021-02-23\",\"2021-02-24\",\"2021-02-25\",\"2021-02-26\",\"2021-03-01\",\"2021-03-02\",\"2021-03-03\",\"2021-03-04\",\"2021-03-05\",\"2021-03-08\",\"2021-03-09\",\"2021-03-10\",\"2021-03-11\",\"2021-03-12\",\"2021-03-15\",\"2021-03-16\",\"2021-03-17\",\"2021-03-18\",\"2021-03-19\",\"2021-03-22\",\"2021-03-23\",\"2021-03-24\",\"2021-03-25\",\"2021-03-26\",\"2021-03-29\",\"2021-03-30\",\"2021-03-31\",\"2021-04-01\",\"2021-04-05\",\"2021-04-06\",\"2021-04-07\",\"2021-04-08\",\"2021-04-09\",\"2021-04-12\",\"2021-04-13\",\"2021-04-14\",\"2021-04-15\",\"2021-04-16\",\"2021-04-19\",\"2021-04-20\",\"2021-04-21\",\"2021-04-22\",\"2021-04-23\",\"2021-04-26\",\"2021-04-27\",\"2021-04-28\",\"2021-04-29\",\"2021-04-30\",\"2021-05-03\",\"2021-05-04\",\"2021-05-05\",\"2021-05-06\",\"2021-05-07\",\"2021-05-10\",\"2021-05-11\",\"2021-05-12\",\"2021-05-13\",\"2021-05-14\",\"2021-05-17\",\"2021-05-18\",\"2021-05-19\",\"2021-05-20\",\"2021-05-21\",\"2021-05-24\",\"2021-05-25\",\"2021-05-26\",\"2021-05-27\",\"2021-05-28\",\"2021-06-01\",\"2021-06-02\",\"2021-06-03\",\"2021-06-04\",\"2021-06-07\",\"2021-06-08\",\"2021-06-09\",\"2021-06-10\",\"2021-06-11\",\"2021-06-14\",\"2021-06-15\",\"2021-06-16\",\"2021-06-17\",\"2021-06-18\",\"2021-06-21\",\"2021-06-22\",\"2021-06-23\",\"2021-06-24\",\"2021-06-25\",\"2021-06-28\",\"2021-06-29\",\"2021-06-30\",\"2021-07-01\",\"2021-07-02\",\"2021-07-06\",\"2021-07-07\",\"2021-07-08\",\"2021-07-09\",\"2021-07-12\",\"2021-07-13\",\"2021-07-14\",\"2021-07-15\",\"2021-07-16\",\"2021-07-19\",\"2021-07-20\",\"2021-07-21\",\"2021-07-22\",\"2021-07-23\",\"2021-07-26\",\"2021-07-27\",\"2021-07-28\",\"2021-07-29\",\"2021-07-30\",\"2021-08-02\",\"2021-08-03\",\"2021-08-04\",\"2021-08-05\",\"2021-08-06\",\"2021-08-09\",\"2021-08-10\",\"2021-08-11\",\"2021-08-12\",\"2021-08-13\",\"2021-08-16\",\"2021-08-17\",\"2021-08-18\",\"2021-08-19\",\"2021-08-20\",\"2021-08-23\",\"2021-08-24\",\"2021-08-25\",\"2021-08-26\",\"2021-08-27\",\"2021-08-30\",\"2021-08-31\",\"2021-09-01\",\"2021-09-02\",\"2021-09-03\",\"2021-09-07\",\"2021-09-08\",\"2021-09-09\",\"2021-09-10\",\"2021-09-13\",\"2021-09-14\",\"2021-09-15\",\"2021-09-16\",\"2021-09-17\",\"2021-09-20\",\"2021-09-21\",\"2021-09-22\",\"2021-09-23\",\"2021-09-24\",\"2021-09-27\",\"2021-09-28\",\"2021-09-29\",\"2021-09-30\",\"2021-10-01\",\"2021-10-04\",\"2021-10-05\",\"2021-10-06\",\"2021-10-07\",\"2021-10-08\",\"2021-10-11\",\"2021-10-12\",\"2021-10-13\",\"2021-10-14\",\"2021-10-15\",\"2021-10-18\",\"2021-10-19\",\"2021-10-20\",\"2021-10-21\",\"2021-10-22\",\"2021-10-25\",\"2021-10-26\",\"2021-10-27\",\"2021-10-28\",\"2021-10-29\",\"2021-11-01\",\"2021-11-02\",\"2021-11-03\",\"2021-11-04\",\"2021-11-05\",\"2021-11-08\",\"2021-11-09\",\"2021-11-10\",\"2021-11-11\",\"2021-11-12\",\"2021-11-15\",\"2021-11-16\",\"2021-11-17\",\"2021-11-18\",\"2021-11-19\",\"2021-11-22\",\"2021-11-23\",\"2021-11-24\",\"2021-11-26\",\"2021-11-29\",\"2021-11-30\"],\"xaxis\":\"x\",\"y\":[0.0,0.024814267408315,0.0026438546580801,0.0133673267067394,0.0038165710325638,0.000167401953719,-0.0093770888594882,8.450847068744822e-05,0.0189142969926791,-0.0036129272497282,0.0336255548560318,-0.0037480829772097,-0.0026280525418153,-0.0018234379361221,-0.023015932824564,-0.0222842182259008,0.0202901333891772,-0.0398313662308261,-0.0651734321255314,0.004792162045169,-0.0188863972302065,-0.0356201434679259,-0.0032577180817559,0.0261015709095929,-0.0145289978271269,0.018175803881306,0.0020307829780628,0.0186492748649456,-0.0174705021054547,0.0027763881560829,0.0078637037127124,-0.006361111386883,-0.0172271135746779,0.0129009617258915,0.013899192028107,-0.0007903759427208,-0.0257711056992324,-0.0197128921916316,0.0176107319160149,0.0080027483741747,-0.0036599798095198,0.0088653247193532,0.0318195221108731,0.0071524508076384,0.0036250119896149,-0.0013578485270319,0.0164409600440188,0.029976141522392,-0.01095569619418,0.0140639744761627,-0.0173040097184155,0.0216050916178061,-0.0046890709505126,-0.0060985201784847,-0.0110806567627633,0.0113409179027404,0.0034206177110589,0.0092931400442853,0.0083161960470668,-0.0053228986910748,0.0113355262130531,-0.0106953059575418,-0.0173887222471102,-0.0288956501480834,-0.029847555990909,-0.0082297336902904,0.012227671179953,-0.0071338606045431,-0.0121286879404779,0.00777742428507,-0.0235636582117973,0.0062500583131088,0.0270085467567528,-0.0120171809825511,-0.0034001569822039,0.0321830700844483,0.0109634591460061,-0.0053768253800881,0.0196193891442,0.003166934606415,0.0086140850541949,-0.0169044926501903,0.0529082660068807,-0.0080118876301517,-0.0067117282956432,-0.0162423502517716,0.0283585800442046,0.0027753392648674,-0.0072488559611087,-0.0013968045452792,0.0172172138152038,0.0004994630696964,0.0244581198586505,-0.0150563069355438,-0.000783566032248,0.0083809456239148,-0.0067732613664018,0.0069778102661967,-0.0056194696922387,-0.0052376859933189,0.007948840271554,-0.007824803139402,0.011101224065988,0.005057276521043,-0.0062846843882917,0.0029023709694427,0.0130583024518043,0.0082255575118498,-0.0072590424539943,-0.0106831664043564,-0.0030151389769452,-0.008812049526897,0.0045591847061503,-0.0065372255001357,-0.0202085627595407,0.0035713195619831,-0.003697596579743,0.0107190155755928,0.0082950166296515,0.0251649650506465,-0.0001208345924593,-0.0026217378822079,-0.0166565761349178,0.0018463172133273,0.0003278114783453,-0.0086837184181225,-0.0044325431975832,0.001120371895193,0.0125284679367288,0.025833709004273,0.0001197166532775,-0.0050808814565784,-0.0240721490505661,-0.0045710129811604,0.0249060095887919,0.0126814341508306,-0.0094257468501383,-0.0089079046525959,0.0169811830175031,0.0073371047212575,0.0120189896468259,0.0169944438471887,-0.0033064931180866,0.0045724541332591,0.0262575723986885,-0.0047163209939332,-0.0058701880702753,0.0011315179453251,0.0114321904132193,-0.0156632232671934,0.0110310894191547,-0.0070262592590347,-0.0098138296641344,-0.007184397509693,-0.0136696648624883,-0.012086790947902,0.0010226322557552,0.0070123845360299,0.0162629662280035,0.00065278278047,-0.008906075252879,-0.0009686356519047,0.004640964231693,0.0696330685376657,0.02757994873418,-0.0210512170323072,-0.0268151225315055,-0.0065588466205244,0.0026582050603069,0.0147858385338314,-0.0161141150326135,0.0033540530258422,0.0127963143454963,-0.002509784094978,-0.007677352840109,0.0046500238463977,0.018996500690655,0.0192050912977861,0.019532975072178,0.0056389058086886,0.0001371640118122,0.0021915767666177,-0.0077262889061614,-0.0009656769258697,0.0094442380585042,0.0046378986916157,0.0040404516677333,0.0001355639937813,0.0108841773538056,0.0043807550276088,0.0101918317309623,0.0006273695310655,-0.0001980621864594,0.016859921072999,-0.0025679254418895,0.0087814794136001,-0.0008068811490813,-0.0329544341174435,0.010984920442984,0.0120401794695081,-0.0037900003883243,0.0052238390905509,0.0030238290104136,-0.0164649115583241,-0.0060248361234942,-0.0144816729098739,-0.0184276894317972,-0.0077507747746231,-0.0173014255546065,0.0431429309574789,-0.0405075128651411],\"yaxis\":\"y\"}],                        {\"barmode\":\"relative\",\"coloraxis\":{\"colorbar\":{\"title\":{\"text\":\"Polarity_chg\"}},\"colorscale\":[[0.0,\"#0d0887\"],[0.1111111111111111,\"#46039f\"],[0.2222222222222222,\"#7201a8\"],[0.3333333333333333,\"#9c179e\"],[0.4444444444444444,\"#bd3786\"],[0.5555555555555556,\"#d8576b\"],[0.6666666666666666,\"#ed7953\"],[0.7777777777777778,\"#fb9f3a\"],[0.8888888888888888,\"#fdca26\"],[1.0,\"#f0f921\"]]},\"legend\":{\"tracegroupgap\":0},\"margin\":{\"t\":60},\"template\":{\"data\":{\"bar\":[{\"error_x\":{\"color\":\"#2a3f5f\"},\"error_y\":{\"color\":\"#2a3f5f\"},\"marker\":{\"line\":{\"color\":\"#E5ECF6\",\"width\":0.5},\"pattern\":{\"fillmode\":\"overlay\",\"size\":10,\"solidity\":0.2}},\"type\":\"bar\"}],\"barpolar\":[{\"marker\":{\"line\":{\"color\":\"#E5ECF6\",\"width\":0.5},\"pattern\":{\"fillmode\":\"overlay\",\"size\":10,\"solidity\":0.2}},\"type\":\"barpolar\"}],\"carpet\":[{\"aaxis\":{\"endlinecolor\":\"#2a3f5f\",\"gridcolor\":\"white\",\"linecolor\":\"white\",\"minorgridcolor\":\"white\",\"startlinecolor\":\"#2a3f5f\"},\"baxis\":{\"endlinecolor\":\"#2a3f5f\",\"gridcolor\":\"white\",\"linecolor\":\"white\",\"minorgridcolor\":\"white\",\"startlinecolor\":\"#2a3f5f\"},\"type\":\"carpet\"}],\"choropleth\":[{\"colorbar\":{\"outlinewidth\":0,\"ticks\":\"\"},\"type\":\"choropleth\"}],\"contour\":[{\"colorbar\":{\"outlinewidth\":0,\"ticks\":\"\"},\"colorscale\":[[0.0,\"#0d0887\"],[0.1111111111111111,\"#46039f\"],[0.2222222222222222,\"#7201a8\"],[0.3333333333333333,\"#9c179e\"],[0.4444444444444444,\"#bd3786\"],[0.5555555555555556,\"#d8576b\"],[0.6666666666666666,\"#ed7953\"],[0.7777777777777778,\"#fb9f3a\"],[0.8888888888888888,\"#fdca26\"],[1.0,\"#f0f921\"]],\"type\":\"contour\"}],\"contourcarpet\":[{\"colorbar\":{\"outlinewidth\":0,\"ticks\":\"\"},\"type\":\"contourcarpet\"}],\"heatmap\":[{\"colorbar\":{\"outlinewidth\":0,\"ticks\":\"\"},\"colorscale\":[[0.0,\"#0d0887\"],[0.1111111111111111,\"#46039f\"],[0.2222222222222222,\"#7201a8\"],[0.3333333333333333,\"#9c179e\"],[0.4444444444444444,\"#bd3786\"],[0.5555555555555556,\"#d8576b\"],[0.6666666666666666,\"#ed7953\"],[0.7777777777777778,\"#fb9f3a\"],[0.8888888888888888,\"#fdca26\"],[1.0,\"#f0f921\"]],\"type\":\"heatmap\"}],\"heatmapgl\":[{\"colorbar\":{\"outlinewidth\":0,\"ticks\":\"\"},\"colorscale\":[[0.0,\"#0d0887\"],[0.1111111111111111,\"#46039f\"],[0.2222222222222222,\"#7201a8\"],[0.3333333333333333,\"#9c179e\"],[0.4444444444444444,\"#bd3786\"],[0.5555555555555556,\"#d8576b\"],[0.6666666666666666,\"#ed7953\"],[0.7777777777777778,\"#fb9f3a\"],[0.8888888888888888,\"#fdca26\"],[1.0,\"#f0f921\"]],\"type\":\"heatmapgl\"}],\"histogram\":[{\"marker\":{\"pattern\":{\"fillmode\":\"overlay\",\"size\":10,\"solidity\":0.2}},\"type\":\"histogram\"}],\"histogram2d\":[{\"colorbar\":{\"outlinewidth\":0,\"ticks\":\"\"},\"colorscale\":[[0.0,\"#0d0887\"],[0.1111111111111111,\"#46039f\"],[0.2222222222222222,\"#7201a8\"],[0.3333333333333333,\"#9c179e\"],[0.4444444444444444,\"#bd3786\"],[0.5555555555555556,\"#d8576b\"],[0.6666666666666666,\"#ed7953\"],[0.7777777777777778,\"#fb9f3a\"],[0.8888888888888888,\"#fdca26\"],[1.0,\"#f0f921\"]],\"type\":\"histogram2d\"}],\"histogram2dcontour\":[{\"colorbar\":{\"outlinewidth\":0,\"ticks\":\"\"},\"colorscale\":[[0.0,\"#0d0887\"],[0.1111111111111111,\"#46039f\"],[0.2222222222222222,\"#7201a8\"],[0.3333333333333333,\"#9c179e\"],[0.4444444444444444,\"#bd3786\"],[0.5555555555555556,\"#d8576b\"],[0.6666666666666666,\"#ed7953\"],[0.7777777777777778,\"#fb9f3a\"],[0.8888888888888888,\"#fdca26\"],[1.0,\"#f0f921\"]],\"type\":\"histogram2dcontour\"}],\"mesh3d\":[{\"colorbar\":{\"outlinewidth\":0,\"ticks\":\"\"},\"type\":\"mesh3d\"}],\"parcoords\":[{\"line\":{\"colorbar\":{\"outlinewidth\":0,\"ticks\":\"\"}},\"type\":\"parcoords\"}],\"pie\":[{\"automargin\":true,\"type\":\"pie\"}],\"scatter\":[{\"marker\":{\"colorbar\":{\"outlinewidth\":0,\"ticks\":\"\"}},\"type\":\"scatter\"}],\"scatter3d\":[{\"line\":{\"colorbar\":{\"outlinewidth\":0,\"ticks\":\"\"}},\"marker\":{\"colorbar\":{\"outlinewidth\":0,\"ticks\":\"\"}},\"type\":\"scatter3d\"}],\"scattercarpet\":[{\"marker\":{\"colorbar\":{\"outlinewidth\":0,\"ticks\":\"\"}},\"type\":\"scattercarpet\"}],\"scattergeo\":[{\"marker\":{\"colorbar\":{\"outlinewidth\":0,\"ticks\":\"\"}},\"type\":\"scattergeo\"}],\"scattergl\":[{\"marker\":{\"colorbar\":{\"outlinewidth\":0,\"ticks\":\"\"}},\"type\":\"scattergl\"}],\"scattermapbox\":[{\"marker\":{\"colorbar\":{\"outlinewidth\":0,\"ticks\":\"\"}},\"type\":\"scattermapbox\"}],\"scatterpolar\":[{\"marker\":{\"colorbar\":{\"outlinewidth\":0,\"ticks\":\"\"}},\"type\":\"scatterpolar\"}],\"scatterpolargl\":[{\"marker\":{\"colorbar\":{\"outlinewidth\":0,\"ticks\":\"\"}},\"type\":\"scatterpolargl\"}],\"scatterternary\":[{\"marker\":{\"colorbar\":{\"outlinewidth\":0,\"ticks\":\"\"}},\"type\":\"scatterternary\"}],\"surface\":[{\"colorbar\":{\"outlinewidth\":0,\"ticks\":\"\"},\"colorscale\":[[0.0,\"#0d0887\"],[0.1111111111111111,\"#46039f\"],[0.2222222222222222,\"#7201a8\"],[0.3333333333333333,\"#9c179e\"],[0.4444444444444444,\"#bd3786\"],[0.5555555555555556,\"#d8576b\"],[0.6666666666666666,\"#ed7953\"],[0.7777777777777778,\"#fb9f3a\"],[0.8888888888888888,\"#fdca26\"],[1.0,\"#f0f921\"]],\"type\":\"surface\"}],\"table\":[{\"cells\":{\"fill\":{\"color\":\"#EBF0F8\"},\"line\":{\"color\":\"white\"}},\"header\":{\"fill\":{\"color\":\"#C8D4E3\"},\"line\":{\"color\":\"white\"}},\"type\":\"table\"}]},\"layout\":{\"annotationdefaults\":{\"arrowcolor\":\"#2a3f5f\",\"arrowhead\":0,\"arrowwidth\":1},\"autotypenumbers\":\"strict\",\"coloraxis\":{\"colorbar\":{\"outlinewidth\":0,\"ticks\":\"\"}},\"colorscale\":{\"diverging\":[[0,\"#8e0152\"],[0.1,\"#c51b7d\"],[0.2,\"#de77ae\"],[0.3,\"#f1b6da\"],[0.4,\"#fde0ef\"],[0.5,\"#f7f7f7\"],[0.6,\"#e6f5d0\"],[0.7,\"#b8e186\"],[0.8,\"#7fbc41\"],[0.9,\"#4d9221\"],[1,\"#276419\"]],\"sequential\":[[0.0,\"#0d0887\"],[0.1111111111111111,\"#46039f\"],[0.2222222222222222,\"#7201a8\"],[0.3333333333333333,\"#9c179e\"],[0.4444444444444444,\"#bd3786\"],[0.5555555555555556,\"#d8576b\"],[0.6666666666666666,\"#ed7953\"],[0.7777777777777778,\"#fb9f3a\"],[0.8888888888888888,\"#fdca26\"],[1.0,\"#f0f921\"]],\"sequentialminus\":[[0.0,\"#0d0887\"],[0.1111111111111111,\"#46039f\"],[0.2222222222222222,\"#7201a8\"],[0.3333333333333333,\"#9c179e\"],[0.4444444444444444,\"#bd3786\"],[0.5555555555555556,\"#d8576b\"],[0.6666666666666666,\"#ed7953\"],[0.7777777777777778,\"#fb9f3a\"],[0.8888888888888888,\"#fdca26\"],[1.0,\"#f0f921\"]]},\"colorway\":[\"#636efa\",\"#EF553B\",\"#00cc96\",\"#ab63fa\",\"#FFA15A\",\"#19d3f3\",\"#FF6692\",\"#B6E880\",\"#FF97FF\",\"#FECB52\"],\"font\":{\"color\":\"#2a3f5f\"},\"geo\":{\"bgcolor\":\"white\",\"lakecolor\":\"white\",\"landcolor\":\"#E5ECF6\",\"showlakes\":true,\"showland\":true,\"subunitcolor\":\"white\"},\"hoverlabel\":{\"align\":\"left\"},\"hovermode\":\"closest\",\"mapbox\":{\"style\":\"light\"},\"paper_bgcolor\":\"white\",\"plot_bgcolor\":\"#E5ECF6\",\"polar\":{\"angularaxis\":{\"gridcolor\":\"white\",\"linecolor\":\"white\",\"ticks\":\"\"},\"bgcolor\":\"#E5ECF6\",\"radialaxis\":{\"gridcolor\":\"white\",\"linecolor\":\"white\",\"ticks\":\"\"}},\"scene\":{\"xaxis\":{\"backgroundcolor\":\"#E5ECF6\",\"gridcolor\":\"white\",\"gridwidth\":2,\"linecolor\":\"white\",\"showbackground\":true,\"ticks\":\"\",\"zerolinecolor\":\"white\"},\"yaxis\":{\"backgroundcolor\":\"#E5ECF6\",\"gridcolor\":\"white\",\"gridwidth\":2,\"linecolor\":\"white\",\"showbackground\":true,\"ticks\":\"\",\"zerolinecolor\":\"white\"},\"zaxis\":{\"backgroundcolor\":\"#E5ECF6\",\"gridcolor\":\"white\",\"gridwidth\":2,\"linecolor\":\"white\",\"showbackground\":true,\"ticks\":\"\",\"zerolinecolor\":\"white\"}},\"shapedefaults\":{\"line\":{\"color\":\"#2a3f5f\"}},\"ternary\":{\"aaxis\":{\"gridcolor\":\"white\",\"linecolor\":\"white\",\"ticks\":\"\"},\"baxis\":{\"gridcolor\":\"white\",\"linecolor\":\"white\",\"ticks\":\"\"},\"bgcolor\":\"#E5ECF6\",\"caxis\":{\"gridcolor\":\"white\",\"linecolor\":\"white\",\"ticks\":\"\"}},\"title\":{\"x\":0.05},\"xaxis\":{\"automargin\":true,\"gridcolor\":\"white\",\"linecolor\":\"white\",\"ticks\":\"\",\"title\":{\"standoff\":15},\"zerolinecolor\":\"white\",\"zerolinewidth\":2},\"yaxis\":{\"automargin\":true,\"gridcolor\":\"white\",\"linecolor\":\"white\",\"ticks\":\"\",\"title\":{\"standoff\":15},\"zerolinecolor\":\"white\",\"zerolinewidth\":2}}},\"xaxis\":{\"anchor\":\"y\",\"domain\":[0.0,1.0],\"title\":{\"text\":\"Date\"}},\"yaxis\":{\"anchor\":\"x\",\"domain\":[0.0,1.0],\"title\":{\"text\":\"Return\"}}},                        {\"responsive\": true}                    ).then(function(){\n",
       "                            \n",
       "var gd = document.getElementById('e46b29bd-35b5-4b6b-8c38-8cd746a76be3');\n",
       "var x = new MutationObserver(function (mutations, observer) {{\n",
       "        var display = window.getComputedStyle(gd).display;\n",
       "        if (!display || display === 'none') {{\n",
       "            console.log([gd, 'removed!']);\n",
       "            Plotly.purge(gd);\n",
       "            observer.disconnect();\n",
       "        }}\n",
       "}});\n",
       "\n",
       "// Listen for the removal of the full notebook cells\n",
       "var notebookContainer = gd.closest('#notebook-container');\n",
       "if (notebookContainer) {{\n",
       "    x.observe(notebookContainer, {childList: true});\n",
       "}}\n",
       "\n",
       "// Listen for the clearing of the current output cell\n",
       "var outputEl = gd.closest('.output');\n",
       "if (outputEl) {{\n",
       "    x.observe(outputEl, {childList: true});\n",
       "}}\n",
       "\n",
       "                        })                };                });            </script>        </div>"
      ]
     },
     "metadata": {},
     "output_type": "display_data"
    }
   ],
   "source": [
    "fig = go.Figure()\n",
    "\n",
    "fig = px.bar(b_df, x='Date', y='Return', color='Polarity_chg')\n",
    "\n",
    "fig.show()"
   ]
  },
  {
   "cell_type": "code",
   "execution_count": 298,
   "id": "406e49e4-3de6-493f-bfaa-937f3f0c2533",
   "metadata": {},
   "outputs": [
    {
     "data": {
      "application/vnd.plotly.v1+json": {
       "config": {
        "plotlyServerURL": "https://plot.ly"
       },
       "data": [
        {
         "alignmentgroup": "True",
         "hovertemplate": "Date=%{x}<br>Return=%{y}<br>Polarity_mean=%{marker.color}<extra></extra>",
         "legendgroup": "",
         "marker": {
          "color": [
           0,
           0,
           0,
           0,
           0,
           0,
           0,
           0,
           0,
           0,
           0,
           0.2827529049897471,
           0.0898908338038772,
           0.0563888888888889,
           0.0589623917748917,
           0.1367366264687693,
           0,
           0,
           0.0651377410468319,
           0.2544221809936096,
           0.2262317620650953,
           0.2608630952380952,
           0,
           0.0392691115702479,
           0.2350378787878788,
           0.2265214646464646,
           0.10035579004329,
           0.2133333333333333,
           0.2705880230880231,
           0.1170138888888889,
           0.0711163836163836,
           0.1964285714285714,
           0.1197038567493112,
           0.2466111111111111,
           0.3098045417226451,
           0.1097402597402597,
           0.249654356060606,
           0.2383333333333333,
           0.2592313762626262,
           0.1858691077441077,
           0.1158749941814458,
           0.0183522727272727,
           0.1449862637362637,
           0.1975135975135975,
           0.1022960372960373,
           0.2759702286018076,
           0.1853957544191919,
           0.251663961038961,
           0.1280733381956208,
           0.1865702479338843,
           0.2145833333333333,
           0.1987031024531024,
           0.2467430254930255,
           0.1088029647120556,
           0.218780303030303,
           0.1085724670951943,
           0.2265734265734265,
           0.1577967171717171,
           0.1624971600503515,
           0.1358656129749879,
           0.267063492063492,
           0.1939300411522633,
           0.1192709406995121,
           0.1370393939393939,
           0.23828125,
           0.1003205128205128,
           0.13,
           0.063486050986051,
           0.0991563852813852,
           0.0944444444444444,
           -0.0497619047619047,
           0.1665142971064023,
           0.1103174603174603,
           0.053125,
           0.1436377019038309,
           0.2752777777777778,
           0.196564402033152,
           0.2155411960001803,
           0.1927490767733659,
           0.1207486631016042,
           0.2261111111111111,
           0.1626336898395722,
           0.1884356725146199,
           0,
           0,
           0,
           0,
           0,
           0,
           0,
           0,
           0,
           0,
           0,
           0,
           0,
           0,
           0,
           0,
           0,
           0,
           0,
           0,
           0,
           0,
           0,
           0,
           0,
           0,
           0,
           0,
           0,
           0,
           0,
           0,
           0,
           0,
           0,
           0,
           0,
           0,
           0,
           0,
           0,
           0,
           0,
           0.03925,
           0.2228535353535353,
           0.2537878787878788,
           0.0944674012855831,
           0.1478587962962963,
           0.1164183501683501,
           0.1218276515151515,
           0.1179487179487179,
           0.059547397047397,
           0.1791666666666666,
           0.1249374999999999,
           0.1270611963793782,
           0.3638888888888889,
           0.1470396825396825,
           0.1141479276895943,
           0.0374557361362916,
           0.0941035353535353,
           0.0537272727272727,
           0.085521645021645,
           0.0530651962979549,
           0.1284445415695415,
           0.0443336837765409,
           0.1004329004329004,
           0.1133684672815107,
           0.2499488936988937,
           -0.046875,
           0.1154017857142857,
           0.1596738215488215,
           0.1008928571428571,
           0.2055425555425555,
           0.0890361952861952,
           0.3566919191919191,
           0.3,
           0.2737439499158249,
           0.2300622549620191,
           0.2349081262939958,
           0.162651171579743,
           0.1163607954545454,
           0.1195555555555555,
           0.1955408868092691,
           0.2073809523809524,
           0.2961538461538461,
           0.441969696969697,
           0.120772977022977,
           0.2422443977591036,
           0.1386093073593073,
           0.2169030203512962,
           0.1533910533910533,
           0.2366259018759018,
           0.0921515151515151,
           0.116876954064454,
           0.2969494047619047,
           0.15625,
           0.2889204545454545,
           0.2190955004591368,
           0.347041847041847,
           0.1473214285714286,
           0.2928977272727273,
           0.0903409090909091,
           0.20625,
           0.3584821428571428,
           0.075,
           0.1956699134199134,
           0.1392451298701298,
           0.1965724616292798,
           0.1683610139860139,
           0.2047404295740335,
           0.1301004489337822,
           0.1326028138528138,
           0.1295259623888656,
           0.1109530573593073,
           0.1513888888888889,
           0.1891414141414141,
           -0.0625,
           0.0258912655971479,
           0.2018518518518518,
           0.2701972101972102,
           0.3800685425685425,
           0.3519781144781144,
           0.223829732510288,
           0.2576650432900433,
           0.203030303030303,
           0,
           0.2,
           0.3237987012987013
          ],
          "coloraxis": "coloraxis",
          "pattern": {
           "shape": ""
          }
         },
         "name": "",
         "offsetgroup": "",
         "orientation": "v",
         "showlegend": false,
         "textposition": "auto",
         "type": "bar",
         "x": [
          "2021-02-01",
          "2021-02-02",
          "2021-02-03",
          "2021-02-04",
          "2021-02-05",
          "2021-02-08",
          "2021-02-09",
          "2021-02-10",
          "2021-02-11",
          "2021-02-12",
          "2021-02-16",
          "2021-02-17",
          "2021-02-18",
          "2021-02-19",
          "2021-02-22",
          "2021-02-23",
          "2021-02-24",
          "2021-02-25",
          "2021-02-26",
          "2021-03-01",
          "2021-03-02",
          "2021-03-03",
          "2021-03-04",
          "2021-03-05",
          "2021-03-08",
          "2021-03-09",
          "2021-03-10",
          "2021-03-11",
          "2021-03-12",
          "2021-03-15",
          "2021-03-16",
          "2021-03-17",
          "2021-03-18",
          "2021-03-19",
          "2021-03-22",
          "2021-03-23",
          "2021-03-24",
          "2021-03-25",
          "2021-03-26",
          "2021-03-29",
          "2021-03-30",
          "2021-03-31",
          "2021-04-01",
          "2021-04-05",
          "2021-04-06",
          "2021-04-07",
          "2021-04-08",
          "2021-04-09",
          "2021-04-12",
          "2021-04-13",
          "2021-04-14",
          "2021-04-15",
          "2021-04-16",
          "2021-04-19",
          "2021-04-20",
          "2021-04-21",
          "2021-04-22",
          "2021-04-23",
          "2021-04-26",
          "2021-04-27",
          "2021-04-28",
          "2021-04-29",
          "2021-04-30",
          "2021-05-03",
          "2021-05-04",
          "2021-05-05",
          "2021-05-06",
          "2021-05-07",
          "2021-05-10",
          "2021-05-11",
          "2021-05-12",
          "2021-05-13",
          "2021-05-14",
          "2021-05-17",
          "2021-05-18",
          "2021-05-19",
          "2021-05-20",
          "2021-05-21",
          "2021-05-24",
          "2021-05-25",
          "2021-05-26",
          "2021-05-27",
          "2021-05-28",
          "2021-06-01",
          "2021-06-02",
          "2021-06-03",
          "2021-06-04",
          "2021-06-07",
          "2021-06-08",
          "2021-06-09",
          "2021-06-10",
          "2021-06-11",
          "2021-06-14",
          "2021-06-15",
          "2021-06-16",
          "2021-06-17",
          "2021-06-18",
          "2021-06-21",
          "2021-06-22",
          "2021-06-23",
          "2021-06-24",
          "2021-06-25",
          "2021-06-28",
          "2021-06-29",
          "2021-06-30",
          "2021-07-01",
          "2021-07-02",
          "2021-07-06",
          "2021-07-07",
          "2021-07-08",
          "2021-07-09",
          "2021-07-12",
          "2021-07-13",
          "2021-07-14",
          "2021-07-15",
          "2021-07-16",
          "2021-07-19",
          "2021-07-20",
          "2021-07-21",
          "2021-07-22",
          "2021-07-23",
          "2021-07-26",
          "2021-07-27",
          "2021-07-28",
          "2021-07-29",
          "2021-07-30",
          "2021-08-02",
          "2021-08-03",
          "2021-08-04",
          "2021-08-05",
          "2021-08-06",
          "2021-08-09",
          "2021-08-10",
          "2021-08-11",
          "2021-08-12",
          "2021-08-13",
          "2021-08-16",
          "2021-08-17",
          "2021-08-18",
          "2021-08-19",
          "2021-08-20",
          "2021-08-23",
          "2021-08-24",
          "2021-08-25",
          "2021-08-26",
          "2021-08-27",
          "2021-08-30",
          "2021-08-31",
          "2021-09-01",
          "2021-09-02",
          "2021-09-03",
          "2021-09-07",
          "2021-09-08",
          "2021-09-09",
          "2021-09-10",
          "2021-09-13",
          "2021-09-14",
          "2021-09-15",
          "2021-09-16",
          "2021-09-17",
          "2021-09-20",
          "2021-09-21",
          "2021-09-22",
          "2021-09-23",
          "2021-09-24",
          "2021-09-27",
          "2021-09-28",
          "2021-09-29",
          "2021-09-30",
          "2021-10-01",
          "2021-10-04",
          "2021-10-05",
          "2021-10-06",
          "2021-10-07",
          "2021-10-08",
          "2021-10-11",
          "2021-10-12",
          "2021-10-13",
          "2021-10-14",
          "2021-10-15",
          "2021-10-18",
          "2021-10-19",
          "2021-10-20",
          "2021-10-21",
          "2021-10-22",
          "2021-10-25",
          "2021-10-26",
          "2021-10-27",
          "2021-10-28",
          "2021-10-29",
          "2021-11-01",
          "2021-11-02",
          "2021-11-03",
          "2021-11-04",
          "2021-11-05",
          "2021-11-08",
          "2021-11-09",
          "2021-11-10",
          "2021-11-11",
          "2021-11-12",
          "2021-11-15",
          "2021-11-16",
          "2021-11-17",
          "2021-11-18",
          "2021-11-19",
          "2021-11-22",
          "2021-11-23",
          "2021-11-24",
          "2021-11-26",
          "2021-11-29",
          "2021-11-30"
         ],
         "xaxis": "x",
         "y": [
          0,
          0.024814267408315,
          0.0026438546580801,
          0.0133673267067394,
          0.0038165710325638,
          0.000167401953719,
          -0.0093770888594882,
          8.450847068744822e-05,
          0.0189142969926791,
          -0.0036129272497282,
          0.0336255548560318,
          -0.0037480829772097,
          -0.0026280525418153,
          -0.0018234379361221,
          -0.023015932824564,
          -0.0222842182259008,
          0.0202901333891772,
          -0.0398313662308261,
          -0.0651734321255314,
          0.004792162045169,
          -0.0188863972302065,
          -0.0356201434679259,
          -0.0032577180817559,
          0.0261015709095929,
          -0.0145289978271269,
          0.018175803881306,
          0.0020307829780628,
          0.0186492748649456,
          -0.0174705021054547,
          0.0027763881560829,
          0.0078637037127124,
          -0.006361111386883,
          -0.0172271135746779,
          0.0129009617258915,
          0.013899192028107,
          -0.0007903759427208,
          -0.0257711056992324,
          -0.0197128921916316,
          0.0176107319160149,
          0.0080027483741747,
          -0.0036599798095198,
          0.0088653247193532,
          0.0318195221108731,
          0.0071524508076384,
          0.0036250119896149,
          -0.0013578485270319,
          0.0164409600440188,
          0.029976141522392,
          -0.01095569619418,
          0.0140639744761627,
          -0.0173040097184155,
          0.0216050916178061,
          -0.0046890709505126,
          -0.0060985201784847,
          -0.0110806567627633,
          0.0113409179027404,
          0.0034206177110589,
          0.0092931400442853,
          0.0083161960470668,
          -0.0053228986910748,
          0.0113355262130531,
          -0.0106953059575418,
          -0.0173887222471102,
          -0.0288956501480834,
          -0.029847555990909,
          -0.0082297336902904,
          0.012227671179953,
          -0.0071338606045431,
          -0.0121286879404779,
          0.00777742428507,
          -0.0235636582117973,
          0.0062500583131088,
          0.0270085467567528,
          -0.0120171809825511,
          -0.0034001569822039,
          0.0321830700844483,
          0.0109634591460061,
          -0.0053768253800881,
          0.0196193891442,
          0.003166934606415,
          0.0086140850541949,
          -0.0169044926501903,
          0.0529082660068807,
          -0.0080118876301517,
          -0.0067117282956432,
          -0.0162423502517716,
          0.0283585800442046,
          0.0027753392648674,
          -0.0072488559611087,
          -0.0013968045452792,
          0.0172172138152038,
          0.0004994630696964,
          0.0244581198586505,
          -0.0150563069355438,
          -0.000783566032248,
          0.0083809456239148,
          -0.0067732613664018,
          0.0069778102661967,
          -0.0056194696922387,
          -0.0052376859933189,
          0.007948840271554,
          -0.007824803139402,
          0.011101224065988,
          0.005057276521043,
          -0.0062846843882917,
          0.0029023709694427,
          0.0130583024518043,
          0.0082255575118498,
          -0.0072590424539943,
          -0.0106831664043564,
          -0.0030151389769452,
          -0.008812049526897,
          0.0045591847061503,
          -0.0065372255001357,
          -0.0202085627595407,
          0.0035713195619831,
          -0.003697596579743,
          0.0107190155755928,
          0.0082950166296515,
          0.0251649650506465,
          -0.0001208345924593,
          -0.0026217378822079,
          -0.0166565761349178,
          0.0018463172133273,
          0.0003278114783453,
          -0.0086837184181225,
          -0.0044325431975832,
          0.001120371895193,
          0.0125284679367288,
          0.025833709004273,
          0.0001197166532775,
          -0.0050808814565784,
          -0.0240721490505661,
          -0.0045710129811604,
          0.0249060095887919,
          0.0126814341508306,
          -0.0094257468501383,
          -0.0089079046525959,
          0.0169811830175031,
          0.0073371047212575,
          0.0120189896468259,
          0.0169944438471887,
          -0.0033064931180866,
          0.0045724541332591,
          0.0262575723986885,
          -0.0047163209939332,
          -0.0058701880702753,
          0.0011315179453251,
          0.0114321904132193,
          -0.0156632232671934,
          0.0110310894191547,
          -0.0070262592590347,
          -0.0098138296641344,
          -0.007184397509693,
          -0.0136696648624883,
          -0.012086790947902,
          0.0010226322557552,
          0.0070123845360299,
          0.0162629662280035,
          0.00065278278047,
          -0.008906075252879,
          -0.0009686356519047,
          0.004640964231693,
          0.0696330685376657,
          0.02757994873418,
          -0.0210512170323072,
          -0.0268151225315055,
          -0.0065588466205244,
          0.0026582050603069,
          0.0147858385338314,
          -0.0161141150326135,
          0.0033540530258422,
          0.0127963143454963,
          -0.002509784094978,
          -0.007677352840109,
          0.0046500238463977,
          0.018996500690655,
          0.0192050912977861,
          0.019532975072178,
          0.0056389058086886,
          0.0001371640118122,
          0.0021915767666177,
          -0.0077262889061614,
          -0.0009656769258697,
          0.0094442380585042,
          0.0046378986916157,
          0.0040404516677333,
          0.0001355639937813,
          0.0108841773538056,
          0.0043807550276088,
          0.0101918317309623,
          0.0006273695310655,
          -0.0001980621864594,
          0.016859921072999,
          -0.0025679254418895,
          0.0087814794136001,
          -0.0008068811490813,
          -0.0329544341174435,
          0.010984920442984,
          0.0120401794695081,
          -0.0037900003883243,
          0.0052238390905509,
          0.0030238290104136,
          -0.0164649115583241,
          -0.0060248361234942,
          -0.0144816729098739,
          -0.0184276894317972,
          -0.0077507747746231,
          -0.0173014255546065,
          0.0431429309574789,
          -0.0405075128651411
         ],
         "yaxis": "y"
        }
       ],
       "layout": {
        "autosize": true,
        "barmode": "relative",
        "coloraxis": {
         "colorbar": {
          "title": {
           "text": "Polarity_mean"
          }
         },
         "colorscale": [
          [
           0,
           "#0d0887"
          ],
          [
           0.1111111111111111,
           "#46039f"
          ],
          [
           0.2222222222222222,
           "#7201a8"
          ],
          [
           0.3333333333333333,
           "#9c179e"
          ],
          [
           0.4444444444444444,
           "#bd3786"
          ],
          [
           0.5555555555555556,
           "#d8576b"
          ],
          [
           0.6666666666666666,
           "#ed7953"
          ],
          [
           0.7777777777777778,
           "#fb9f3a"
          ],
          [
           0.8888888888888888,
           "#fdca26"
          ],
          [
           1,
           "#f0f921"
          ]
         ]
        },
        "legend": {
         "tracegroupgap": 0
        },
        "margin": {
         "t": 60
        },
        "template": {
         "data": {
          "bar": [
           {
            "error_x": {
             "color": "#2a3f5f"
            },
            "error_y": {
             "color": "#2a3f5f"
            },
            "marker": {
             "line": {
              "color": "#E5ECF6",
              "width": 0.5
             },
             "pattern": {
              "fillmode": "overlay",
              "size": 10,
              "solidity": 0.2
             }
            },
            "type": "bar"
           }
          ],
          "barpolar": [
           {
            "marker": {
             "line": {
              "color": "#E5ECF6",
              "width": 0.5
             },
             "pattern": {
              "fillmode": "overlay",
              "size": 10,
              "solidity": 0.2
             }
            },
            "type": "barpolar"
           }
          ],
          "carpet": [
           {
            "aaxis": {
             "endlinecolor": "#2a3f5f",
             "gridcolor": "white",
             "linecolor": "white",
             "minorgridcolor": "white",
             "startlinecolor": "#2a3f5f"
            },
            "baxis": {
             "endlinecolor": "#2a3f5f",
             "gridcolor": "white",
             "linecolor": "white",
             "minorgridcolor": "white",
             "startlinecolor": "#2a3f5f"
            },
            "type": "carpet"
           }
          ],
          "choropleth": [
           {
            "colorbar": {
             "outlinewidth": 0,
             "ticks": ""
            },
            "type": "choropleth"
           }
          ],
          "contour": [
           {
            "colorbar": {
             "outlinewidth": 0,
             "ticks": ""
            },
            "colorscale": [
             [
              0,
              "#0d0887"
             ],
             [
              0.1111111111111111,
              "#46039f"
             ],
             [
              0.2222222222222222,
              "#7201a8"
             ],
             [
              0.3333333333333333,
              "#9c179e"
             ],
             [
              0.4444444444444444,
              "#bd3786"
             ],
             [
              0.5555555555555556,
              "#d8576b"
             ],
             [
              0.6666666666666666,
              "#ed7953"
             ],
             [
              0.7777777777777778,
              "#fb9f3a"
             ],
             [
              0.8888888888888888,
              "#fdca26"
             ],
             [
              1,
              "#f0f921"
             ]
            ],
            "type": "contour"
           }
          ],
          "contourcarpet": [
           {
            "colorbar": {
             "outlinewidth": 0,
             "ticks": ""
            },
            "type": "contourcarpet"
           }
          ],
          "heatmap": [
           {
            "colorbar": {
             "outlinewidth": 0,
             "ticks": ""
            },
            "colorscale": [
             [
              0,
              "#0d0887"
             ],
             [
              0.1111111111111111,
              "#46039f"
             ],
             [
              0.2222222222222222,
              "#7201a8"
             ],
             [
              0.3333333333333333,
              "#9c179e"
             ],
             [
              0.4444444444444444,
              "#bd3786"
             ],
             [
              0.5555555555555556,
              "#d8576b"
             ],
             [
              0.6666666666666666,
              "#ed7953"
             ],
             [
              0.7777777777777778,
              "#fb9f3a"
             ],
             [
              0.8888888888888888,
              "#fdca26"
             ],
             [
              1,
              "#f0f921"
             ]
            ],
            "type": "heatmap"
           }
          ],
          "heatmapgl": [
           {
            "colorbar": {
             "outlinewidth": 0,
             "ticks": ""
            },
            "colorscale": [
             [
              0,
              "#0d0887"
             ],
             [
              0.1111111111111111,
              "#46039f"
             ],
             [
              0.2222222222222222,
              "#7201a8"
             ],
             [
              0.3333333333333333,
              "#9c179e"
             ],
             [
              0.4444444444444444,
              "#bd3786"
             ],
             [
              0.5555555555555556,
              "#d8576b"
             ],
             [
              0.6666666666666666,
              "#ed7953"
             ],
             [
              0.7777777777777778,
              "#fb9f3a"
             ],
             [
              0.8888888888888888,
              "#fdca26"
             ],
             [
              1,
              "#f0f921"
             ]
            ],
            "type": "heatmapgl"
           }
          ],
          "histogram": [
           {
            "marker": {
             "pattern": {
              "fillmode": "overlay",
              "size": 10,
              "solidity": 0.2
             }
            },
            "type": "histogram"
           }
          ],
          "histogram2d": [
           {
            "colorbar": {
             "outlinewidth": 0,
             "ticks": ""
            },
            "colorscale": [
             [
              0,
              "#0d0887"
             ],
             [
              0.1111111111111111,
              "#46039f"
             ],
             [
              0.2222222222222222,
              "#7201a8"
             ],
             [
              0.3333333333333333,
              "#9c179e"
             ],
             [
              0.4444444444444444,
              "#bd3786"
             ],
             [
              0.5555555555555556,
              "#d8576b"
             ],
             [
              0.6666666666666666,
              "#ed7953"
             ],
             [
              0.7777777777777778,
              "#fb9f3a"
             ],
             [
              0.8888888888888888,
              "#fdca26"
             ],
             [
              1,
              "#f0f921"
             ]
            ],
            "type": "histogram2d"
           }
          ],
          "histogram2dcontour": [
           {
            "colorbar": {
             "outlinewidth": 0,
             "ticks": ""
            },
            "colorscale": [
             [
              0,
              "#0d0887"
             ],
             [
              0.1111111111111111,
              "#46039f"
             ],
             [
              0.2222222222222222,
              "#7201a8"
             ],
             [
              0.3333333333333333,
              "#9c179e"
             ],
             [
              0.4444444444444444,
              "#bd3786"
             ],
             [
              0.5555555555555556,
              "#d8576b"
             ],
             [
              0.6666666666666666,
              "#ed7953"
             ],
             [
              0.7777777777777778,
              "#fb9f3a"
             ],
             [
              0.8888888888888888,
              "#fdca26"
             ],
             [
              1,
              "#f0f921"
             ]
            ],
            "type": "histogram2dcontour"
           }
          ],
          "mesh3d": [
           {
            "colorbar": {
             "outlinewidth": 0,
             "ticks": ""
            },
            "type": "mesh3d"
           }
          ],
          "parcoords": [
           {
            "line": {
             "colorbar": {
              "outlinewidth": 0,
              "ticks": ""
             }
            },
            "type": "parcoords"
           }
          ],
          "pie": [
           {
            "automargin": true,
            "type": "pie"
           }
          ],
          "scatter": [
           {
            "marker": {
             "colorbar": {
              "outlinewidth": 0,
              "ticks": ""
             }
            },
            "type": "scatter"
           }
          ],
          "scatter3d": [
           {
            "line": {
             "colorbar": {
              "outlinewidth": 0,
              "ticks": ""
             }
            },
            "marker": {
             "colorbar": {
              "outlinewidth": 0,
              "ticks": ""
             }
            },
            "type": "scatter3d"
           }
          ],
          "scattercarpet": [
           {
            "marker": {
             "colorbar": {
              "outlinewidth": 0,
              "ticks": ""
             }
            },
            "type": "scattercarpet"
           }
          ],
          "scattergeo": [
           {
            "marker": {
             "colorbar": {
              "outlinewidth": 0,
              "ticks": ""
             }
            },
            "type": "scattergeo"
           }
          ],
          "scattergl": [
           {
            "marker": {
             "colorbar": {
              "outlinewidth": 0,
              "ticks": ""
             }
            },
            "type": "scattergl"
           }
          ],
          "scattermapbox": [
           {
            "marker": {
             "colorbar": {
              "outlinewidth": 0,
              "ticks": ""
             }
            },
            "type": "scattermapbox"
           }
          ],
          "scatterpolar": [
           {
            "marker": {
             "colorbar": {
              "outlinewidth": 0,
              "ticks": ""
             }
            },
            "type": "scatterpolar"
           }
          ],
          "scatterpolargl": [
           {
            "marker": {
             "colorbar": {
              "outlinewidth": 0,
              "ticks": ""
             }
            },
            "type": "scatterpolargl"
           }
          ],
          "scatterternary": [
           {
            "marker": {
             "colorbar": {
              "outlinewidth": 0,
              "ticks": ""
             }
            },
            "type": "scatterternary"
           }
          ],
          "surface": [
           {
            "colorbar": {
             "outlinewidth": 0,
             "ticks": ""
            },
            "colorscale": [
             [
              0,
              "#0d0887"
             ],
             [
              0.1111111111111111,
              "#46039f"
             ],
             [
              0.2222222222222222,
              "#7201a8"
             ],
             [
              0.3333333333333333,
              "#9c179e"
             ],
             [
              0.4444444444444444,
              "#bd3786"
             ],
             [
              0.5555555555555556,
              "#d8576b"
             ],
             [
              0.6666666666666666,
              "#ed7953"
             ],
             [
              0.7777777777777778,
              "#fb9f3a"
             ],
             [
              0.8888888888888888,
              "#fdca26"
             ],
             [
              1,
              "#f0f921"
             ]
            ],
            "type": "surface"
           }
          ],
          "table": [
           {
            "cells": {
             "fill": {
              "color": "#EBF0F8"
             },
             "line": {
              "color": "white"
             }
            },
            "header": {
             "fill": {
              "color": "#C8D4E3"
             },
             "line": {
              "color": "white"
             }
            },
            "type": "table"
           }
          ]
         },
         "layout": {
          "annotationdefaults": {
           "arrowcolor": "#2a3f5f",
           "arrowhead": 0,
           "arrowwidth": 1
          },
          "autotypenumbers": "strict",
          "coloraxis": {
           "colorbar": {
            "outlinewidth": 0,
            "ticks": ""
           }
          },
          "colorscale": {
           "diverging": [
            [
             0,
             "#8e0152"
            ],
            [
             0.1,
             "#c51b7d"
            ],
            [
             0.2,
             "#de77ae"
            ],
            [
             0.3,
             "#f1b6da"
            ],
            [
             0.4,
             "#fde0ef"
            ],
            [
             0.5,
             "#f7f7f7"
            ],
            [
             0.6,
             "#e6f5d0"
            ],
            [
             0.7,
             "#b8e186"
            ],
            [
             0.8,
             "#7fbc41"
            ],
            [
             0.9,
             "#4d9221"
            ],
            [
             1,
             "#276419"
            ]
           ],
           "sequential": [
            [
             0,
             "#0d0887"
            ],
            [
             0.1111111111111111,
             "#46039f"
            ],
            [
             0.2222222222222222,
             "#7201a8"
            ],
            [
             0.3333333333333333,
             "#9c179e"
            ],
            [
             0.4444444444444444,
             "#bd3786"
            ],
            [
             0.5555555555555556,
             "#d8576b"
            ],
            [
             0.6666666666666666,
             "#ed7953"
            ],
            [
             0.7777777777777778,
             "#fb9f3a"
            ],
            [
             0.8888888888888888,
             "#fdca26"
            ],
            [
             1,
             "#f0f921"
            ]
           ],
           "sequentialminus": [
            [
             0,
             "#0d0887"
            ],
            [
             0.1111111111111111,
             "#46039f"
            ],
            [
             0.2222222222222222,
             "#7201a8"
            ],
            [
             0.3333333333333333,
             "#9c179e"
            ],
            [
             0.4444444444444444,
             "#bd3786"
            ],
            [
             0.5555555555555556,
             "#d8576b"
            ],
            [
             0.6666666666666666,
             "#ed7953"
            ],
            [
             0.7777777777777778,
             "#fb9f3a"
            ],
            [
             0.8888888888888888,
             "#fdca26"
            ],
            [
             1,
             "#f0f921"
            ]
           ]
          },
          "colorway": [
           "#636efa",
           "#EF553B",
           "#00cc96",
           "#ab63fa",
           "#FFA15A",
           "#19d3f3",
           "#FF6692",
           "#B6E880",
           "#FF97FF",
           "#FECB52"
          ],
          "font": {
           "color": "#2a3f5f"
          },
          "geo": {
           "bgcolor": "white",
           "lakecolor": "white",
           "landcolor": "#E5ECF6",
           "showlakes": true,
           "showland": true,
           "subunitcolor": "white"
          },
          "hoverlabel": {
           "align": "left"
          },
          "hovermode": "closest",
          "mapbox": {
           "style": "light"
          },
          "paper_bgcolor": "white",
          "plot_bgcolor": "#E5ECF6",
          "polar": {
           "angularaxis": {
            "gridcolor": "white",
            "linecolor": "white",
            "ticks": ""
           },
           "bgcolor": "#E5ECF6",
           "radialaxis": {
            "gridcolor": "white",
            "linecolor": "white",
            "ticks": ""
           }
          },
          "scene": {
           "xaxis": {
            "backgroundcolor": "#E5ECF6",
            "gridcolor": "white",
            "gridwidth": 2,
            "linecolor": "white",
            "showbackground": true,
            "ticks": "",
            "zerolinecolor": "white"
           },
           "yaxis": {
            "backgroundcolor": "#E5ECF6",
            "gridcolor": "white",
            "gridwidth": 2,
            "linecolor": "white",
            "showbackground": true,
            "ticks": "",
            "zerolinecolor": "white"
           },
           "zaxis": {
            "backgroundcolor": "#E5ECF6",
            "gridcolor": "white",
            "gridwidth": 2,
            "linecolor": "white",
            "showbackground": true,
            "ticks": "",
            "zerolinecolor": "white"
           }
          },
          "shapedefaults": {
           "line": {
            "color": "#2a3f5f"
           }
          },
          "ternary": {
           "aaxis": {
            "gridcolor": "white",
            "linecolor": "white",
            "ticks": ""
           },
           "baxis": {
            "gridcolor": "white",
            "linecolor": "white",
            "ticks": ""
           },
           "bgcolor": "#E5ECF6",
           "caxis": {
            "gridcolor": "white",
            "linecolor": "white",
            "ticks": ""
           }
          },
          "title": {
           "x": 0.05
          },
          "xaxis": {
           "automargin": true,
           "gridcolor": "white",
           "linecolor": "white",
           "ticks": "",
           "title": {
            "standoff": 15
           },
           "zerolinecolor": "white",
           "zerolinewidth": 2
          },
          "yaxis": {
           "automargin": true,
           "gridcolor": "white",
           "linecolor": "white",
           "ticks": "",
           "title": {
            "standoff": 15
           },
           "zerolinecolor": "white",
           "zerolinewidth": 2
          }
         }
        },
        "xaxis": {
         "anchor": "y",
         "autorange": true,
         "domain": [
          0,
          1
         ],
         "range": [
          "2021-01-31 12:00",
          "2021-11-30 12:00"
         ],
         "title": {
          "text": "Date"
         },
         "type": "date"
        },
        "yaxis": {
         "anchor": "x",
         "autorange": true,
         "domain": [
          0,
          1
         ],
         "range": [
          -0.07266268216237567,
          0.07712231857450998
         ],
         "title": {
          "text": "Return"
         },
         "type": "linear"
        }
       }
      },
      "image/png": "[encoded data removed]",
      "text/html": [
       "<div>                            <div id=\"238a895e-f428-4b9d-923c-a630fe82709f\" class=\"plotly-graph-div\" style=\"height:525px; width:100%;\"></div>            <script type=\"text/javascript\">                require([\"plotly\"], function(Plotly) {                    window.PLOTLYENV=window.PLOTLYENV || {};                                    if (document.getElementById(\"238a895e-f428-4b9d-923c-a630fe82709f\")) {                    Plotly.newPlot(                        \"238a895e-f428-4b9d-923c-a630fe82709f\",                        [{\"alignmentgroup\":\"True\",\"hovertemplate\":\"Date=%{x}<br>Return=%{y}<br>Polarity_mean=%{marker.color}<extra></extra>\",\"legendgroup\":\"\",\"marker\":{\"color\":[0.0,0.0,0.0,0.0,0.0,0.0,0.0,0.0,0.0,0.0,0.0,0.2827529049897471,0.0898908338038772,0.0563888888888889,0.0589623917748917,0.1367366264687693,0.0,0.0,0.0651377410468319,0.2544221809936096,0.2262317620650953,0.2608630952380952,0.0,0.0392691115702479,0.2350378787878788,0.2265214646464646,0.10035579004329,0.2133333333333333,0.2705880230880231,0.1170138888888889,0.0711163836163836,0.1964285714285714,0.1197038567493112,0.2466111111111111,0.3098045417226451,0.1097402597402597,0.249654356060606,0.2383333333333333,0.2592313762626262,0.1858691077441077,0.1158749941814458,0.0183522727272727,0.1449862637362637,0.1975135975135975,0.1022960372960373,0.2759702286018076,0.1853957544191919,0.251663961038961,0.1280733381956208,0.1865702479338843,0.2145833333333333,0.1987031024531024,0.2467430254930255,0.1088029647120556,0.218780303030303,0.1085724670951943,0.2265734265734265,0.1577967171717171,0.1624971600503515,0.1358656129749879,0.267063492063492,0.1939300411522633,0.1192709406995121,0.1370393939393939,0.23828125,0.1003205128205128,0.13,0.063486050986051,0.0991563852813852,0.0944444444444444,-0.0497619047619047,0.1665142971064023,0.1103174603174603,0.053125,0.1436377019038309,0.2752777777777778,0.196564402033152,0.2155411960001803,0.1927490767733659,0.1207486631016042,0.2261111111111111,0.1626336898395722,0.1884356725146199,0.0,0.0,0.0,0.0,0.0,0.0,0.0,0.0,0.0,0.0,0.0,0.0,0.0,0.0,0.0,0.0,0.0,0.0,0.0,0.0,0.0,0.0,0.0,0.0,0.0,0.0,0.0,0.0,0.0,0.0,0.0,0.0,0.0,0.0,0.0,0.0,0.0,0.0,0.0,0.0,0.0,0.0,0.0,0.03925,0.2228535353535353,0.2537878787878788,0.0944674012855831,0.1478587962962963,0.1164183501683501,0.1218276515151515,0.1179487179487179,0.059547397047397,0.1791666666666666,0.1249374999999999,0.1270611963793782,0.3638888888888889,0.1470396825396825,0.1141479276895943,0.0374557361362916,0.0941035353535353,0.0537272727272727,0.085521645021645,0.0530651962979549,0.1284445415695415,0.0443336837765409,0.1004329004329004,0.1133684672815107,0.2499488936988937,-0.046875,0.1154017857142857,0.1596738215488215,0.1008928571428571,0.2055425555425555,0.0890361952861952,0.3566919191919191,0.3,0.2737439499158249,0.2300622549620191,0.2349081262939958,0.162651171579743,0.1163607954545454,0.1195555555555555,0.1955408868092691,0.2073809523809524,0.2961538461538461,0.441969696969697,0.120772977022977,0.2422443977591036,0.1386093073593073,0.2169030203512962,0.1533910533910533,0.2366259018759018,0.0921515151515151,0.116876954064454,0.2969494047619047,0.15625,0.2889204545454545,0.2190955004591368,0.347041847041847,0.1473214285714286,0.2928977272727273,0.0903409090909091,0.20625,0.3584821428571428,0.075,0.1956699134199134,0.1392451298701298,0.1965724616292798,0.1683610139860139,0.2047404295740335,0.1301004489337822,0.1326028138528138,0.1295259623888656,0.1109530573593073,0.1513888888888889,0.1891414141414141,-0.0625,0.0258912655971479,0.2018518518518518,0.2701972101972102,0.3800685425685425,0.3519781144781144,0.223829732510288,0.2576650432900433,0.203030303030303,0.0,0.2,0.3237987012987013],\"coloraxis\":\"coloraxis\",\"pattern\":{\"shape\":\"\"}},\"name\":\"\",\"offsetgroup\":\"\",\"orientation\":\"v\",\"showlegend\":false,\"textposition\":\"auto\",\"type\":\"bar\",\"x\":[\"2021-02-01\",\"2021-02-02\",\"2021-02-03\",\"2021-02-04\",\"2021-02-05\",\"2021-02-08\",\"2021-02-09\",\"2021-02-10\",\"2021-02-11\",\"2021-02-12\",\"2021-02-16\",\"2021-02-17\",\"2021-02-18\",\"2021-02-19\",\"2021-02-22\",\"2021-02-23\",\"2021-02-24\",\"2021-02-25\",\"2021-02-26\",\"2021-03-01\",\"2021-03-02\",\"2021-03-03\",\"2021-03-04\",\"2021-03-05\",\"2021-03-08\",\"2021-03-09\",\"2021-03-10\",\"2021-03-11\",\"2021-03-12\",\"2021-03-15\",\"2021-03-16\",\"2021-03-17\",\"2021-03-18\",\"2021-03-19\",\"2021-03-22\",\"2021-03-23\",\"2021-03-24\",\"2021-03-25\",\"2021-03-26\",\"2021-03-29\",\"2021-03-30\",\"2021-03-31\",\"2021-04-01\",\"2021-04-05\",\"2021-04-06\",\"2021-04-07\",\"2021-04-08\",\"2021-04-09\",\"2021-04-12\",\"2021-04-13\",\"2021-04-14\",\"2021-04-15\",\"2021-04-16\",\"2021-04-19\",\"2021-04-20\",\"2021-04-21\",\"2021-04-22\",\"2021-04-23\",\"2021-04-26\",\"2021-04-27\",\"2021-04-28\",\"2021-04-29\",\"2021-04-30\",\"2021-05-03\",\"2021-05-04\",\"2021-05-05\",\"2021-05-06\",\"2021-05-07\",\"2021-05-10\",\"2021-05-11\",\"2021-05-12\",\"2021-05-13\",\"2021-05-14\",\"2021-05-17\",\"2021-05-18\",\"2021-05-19\",\"2021-05-20\",\"2021-05-21\",\"2021-05-24\",\"2021-05-25\",\"2021-05-26\",\"2021-05-27\",\"2021-05-28\",\"2021-06-01\",\"2021-06-02\",\"2021-06-03\",\"2021-06-04\",\"2021-06-07\",\"2021-06-08\",\"2021-06-09\",\"2021-06-10\",\"2021-06-11\",\"2021-06-14\",\"2021-06-15\",\"2021-06-16\",\"2021-06-17\",\"2021-06-18\",\"2021-06-21\",\"2021-06-22\",\"2021-06-23\",\"2021-06-24\",\"2021-06-25\",\"2021-06-28\",\"2021-06-29\",\"2021-06-30\",\"2021-07-01\",\"2021-07-02\",\"2021-07-06\",\"2021-07-07\",\"2021-07-08\",\"2021-07-09\",\"2021-07-12\",\"2021-07-13\",\"2021-07-14\",\"2021-07-15\",\"2021-07-16\",\"2021-07-19\",\"2021-07-20\",\"2021-07-21\",\"2021-07-22\",\"2021-07-23\",\"2021-07-26\",\"2021-07-27\",\"2021-07-28\",\"2021-07-29\",\"2021-07-30\",\"2021-08-02\",\"2021-08-03\",\"2021-08-04\",\"2021-08-05\",\"2021-08-06\",\"2021-08-09\",\"2021-08-10\",\"2021-08-11\",\"2021-08-12\",\"2021-08-13\",\"2021-08-16\",\"2021-08-17\",\"2021-08-18\",\"2021-08-19\",\"2021-08-20\",\"2021-08-23\",\"2021-08-24\",\"2021-08-25\",\"2021-08-26\",\"2021-08-27\",\"2021-08-30\",\"2021-08-31\",\"2021-09-01\",\"2021-09-02\",\"2021-09-03\",\"2021-09-07\",\"2021-09-08\",\"2021-09-09\",\"2021-09-10\",\"2021-09-13\",\"2021-09-14\",\"2021-09-15\",\"2021-09-16\",\"2021-09-17\",\"2021-09-20\",\"2021-09-21\",\"2021-09-22\",\"2021-09-23\",\"2021-09-24\",\"2021-09-27\",\"2021-09-28\",\"2021-09-29\",\"2021-09-30\",\"2021-10-01\",\"2021-10-04\",\"2021-10-05\",\"2021-10-06\",\"2021-10-07\",\"2021-10-08\",\"2021-10-11\",\"2021-10-12\",\"2021-10-13\",\"2021-10-14\",\"2021-10-15\",\"2021-10-18\",\"2021-10-19\",\"2021-10-20\",\"2021-10-21\",\"2021-10-22\",\"2021-10-25\",\"2021-10-26\",\"2021-10-27\",\"2021-10-28\",\"2021-10-29\",\"2021-11-01\",\"2021-11-02\",\"2021-11-03\",\"2021-11-04\",\"2021-11-05\",\"2021-11-08\",\"2021-11-09\",\"2021-11-10\",\"2021-11-11\",\"2021-11-12\",\"2021-11-15\",\"2021-11-16\",\"2021-11-17\",\"2021-11-18\",\"2021-11-19\",\"2021-11-22\",\"2021-11-23\",\"2021-11-24\",\"2021-11-26\",\"2021-11-29\",\"2021-11-30\"],\"xaxis\":\"x\",\"y\":[0.0,0.024814267408315,0.0026438546580801,0.0133673267067394,0.0038165710325638,0.000167401953719,-0.0093770888594882,8.450847068744822e-05,0.0189142969926791,-0.0036129272497282,0.0336255548560318,-0.0037480829772097,-0.0026280525418153,-0.0018234379361221,-0.023015932824564,-0.0222842182259008,0.0202901333891772,-0.0398313662308261,-0.0651734321255314,0.004792162045169,-0.0188863972302065,-0.0356201434679259,-0.0032577180817559,0.0261015709095929,-0.0145289978271269,0.018175803881306,0.0020307829780628,0.0186492748649456,-0.0174705021054547,0.0027763881560829,0.0078637037127124,-0.006361111386883,-0.0172271135746779,0.0129009617258915,0.013899192028107,-0.0007903759427208,-0.0257711056992324,-0.0197128921916316,0.0176107319160149,0.0080027483741747,-0.0036599798095198,0.0088653247193532,0.0318195221108731,0.0071524508076384,0.0036250119896149,-0.0013578485270319,0.0164409600440188,0.029976141522392,-0.01095569619418,0.0140639744761627,-0.0173040097184155,0.0216050916178061,-0.0046890709505126,-0.0060985201784847,-0.0110806567627633,0.0113409179027404,0.0034206177110589,0.0092931400442853,0.0083161960470668,-0.0053228986910748,0.0113355262130531,-0.0106953059575418,-0.0173887222471102,-0.0288956501480834,-0.029847555990909,-0.0082297336902904,0.012227671179953,-0.0071338606045431,-0.0121286879404779,0.00777742428507,-0.0235636582117973,0.0062500583131088,0.0270085467567528,-0.0120171809825511,-0.0034001569822039,0.0321830700844483,0.0109634591460061,-0.0053768253800881,0.0196193891442,0.003166934606415,0.0086140850541949,-0.0169044926501903,0.0529082660068807,-0.0080118876301517,-0.0067117282956432,-0.0162423502517716,0.0283585800442046,0.0027753392648674,-0.0072488559611087,-0.0013968045452792,0.0172172138152038,0.0004994630696964,0.0244581198586505,-0.0150563069355438,-0.000783566032248,0.0083809456239148,-0.0067732613664018,0.0069778102661967,-0.0056194696922387,-0.0052376859933189,0.007948840271554,-0.007824803139402,0.011101224065988,0.005057276521043,-0.0062846843882917,0.0029023709694427,0.0130583024518043,0.0082255575118498,-0.0072590424539943,-0.0106831664043564,-0.0030151389769452,-0.008812049526897,0.0045591847061503,-0.0065372255001357,-0.0202085627595407,0.0035713195619831,-0.003697596579743,0.0107190155755928,0.0082950166296515,0.0251649650506465,-0.0001208345924593,-0.0026217378822079,-0.0166565761349178,0.0018463172133273,0.0003278114783453,-0.0086837184181225,-0.0044325431975832,0.001120371895193,0.0125284679367288,0.025833709004273,0.0001197166532775,-0.0050808814565784,-0.0240721490505661,-0.0045710129811604,0.0249060095887919,0.0126814341508306,-0.0094257468501383,-0.0089079046525959,0.0169811830175031,0.0073371047212575,0.0120189896468259,0.0169944438471887,-0.0033064931180866,0.0045724541332591,0.0262575723986885,-0.0047163209939332,-0.0058701880702753,0.0011315179453251,0.0114321904132193,-0.0156632232671934,0.0110310894191547,-0.0070262592590347,-0.0098138296641344,-0.007184397509693,-0.0136696648624883,-0.012086790947902,0.0010226322557552,0.0070123845360299,0.0162629662280035,0.00065278278047,-0.008906075252879,-0.0009686356519047,0.004640964231693,0.0696330685376657,0.02757994873418,-0.0210512170323072,-0.0268151225315055,-0.0065588466205244,0.0026582050603069,0.0147858385338314,-0.0161141150326135,0.0033540530258422,0.0127963143454963,-0.002509784094978,-0.007677352840109,0.0046500238463977,0.018996500690655,0.0192050912977861,0.019532975072178,0.0056389058086886,0.0001371640118122,0.0021915767666177,-0.0077262889061614,-0.0009656769258697,0.0094442380585042,0.0046378986916157,0.0040404516677333,0.0001355639937813,0.0108841773538056,0.0043807550276088,0.0101918317309623,0.0006273695310655,-0.0001980621864594,0.016859921072999,-0.0025679254418895,0.0087814794136001,-0.0008068811490813,-0.0329544341174435,0.010984920442984,0.0120401794695081,-0.0037900003883243,0.0052238390905509,0.0030238290104136,-0.0164649115583241,-0.0060248361234942,-0.0144816729098739,-0.0184276894317972,-0.0077507747746231,-0.0173014255546065,0.0431429309574789,-0.0405075128651411],\"yaxis\":\"y\"}],                        {\"barmode\":\"relative\",\"coloraxis\":{\"colorbar\":{\"title\":{\"text\":\"Polarity_mean\"}},\"colorscale\":[[0.0,\"#0d0887\"],[0.1111111111111111,\"#46039f\"],[0.2222222222222222,\"#7201a8\"],[0.3333333333333333,\"#9c179e\"],[0.4444444444444444,\"#bd3786\"],[0.5555555555555556,\"#d8576b\"],[0.6666666666666666,\"#ed7953\"],[0.7777777777777778,\"#fb9f3a\"],[0.8888888888888888,\"#fdca26\"],[1.0,\"#f0f921\"]]},\"legend\":{\"tracegroupgap\":0},\"margin\":{\"t\":60},\"template\":{\"data\":{\"bar\":[{\"error_x\":{\"color\":\"#2a3f5f\"},\"error_y\":{\"color\":\"#2a3f5f\"},\"marker\":{\"line\":{\"color\":\"#E5ECF6\",\"width\":0.5},\"pattern\":{\"fillmode\":\"overlay\",\"size\":10,\"solidity\":0.2}},\"type\":\"bar\"}],\"barpolar\":[{\"marker\":{\"line\":{\"color\":\"#E5ECF6\",\"width\":0.5},\"pattern\":{\"fillmode\":\"overlay\",\"size\":10,\"solidity\":0.2}},\"type\":\"barpolar\"}],\"carpet\":[{\"aaxis\":{\"endlinecolor\":\"#2a3f5f\",\"gridcolor\":\"white\",\"linecolor\":\"white\",\"minorgridcolor\":\"white\",\"startlinecolor\":\"#2a3f5f\"},\"baxis\":{\"endlinecolor\":\"#2a3f5f\",\"gridcolor\":\"white\",\"linecolor\":\"white\",\"minorgridcolor\":\"white\",\"startlinecolor\":\"#2a3f5f\"},\"type\":\"carpet\"}],\"choropleth\":[{\"colorbar\":{\"outlinewidth\":0,\"ticks\":\"\"},\"type\":\"choropleth\"}],\"contour\":[{\"colorbar\":{\"outlinewidth\":0,\"ticks\":\"\"},\"colorscale\":[[0.0,\"#0d0887\"],[0.1111111111111111,\"#46039f\"],[0.2222222222222222,\"#7201a8\"],[0.3333333333333333,\"#9c179e\"],[0.4444444444444444,\"#bd3786\"],[0.5555555555555556,\"#d8576b\"],[0.6666666666666666,\"#ed7953\"],[0.7777777777777778,\"#fb9f3a\"],[0.8888888888888888,\"#fdca26\"],[1.0,\"#f0f921\"]],\"type\":\"contour\"}],\"contourcarpet\":[{\"colorbar\":{\"outlinewidth\":0,\"ticks\":\"\"},\"type\":\"contourcarpet\"}],\"heatmap\":[{\"colorbar\":{\"outlinewidth\":0,\"ticks\":\"\"},\"colorscale\":[[0.0,\"#0d0887\"],[0.1111111111111111,\"#46039f\"],[0.2222222222222222,\"#7201a8\"],[0.3333333333333333,\"#9c179e\"],[0.4444444444444444,\"#bd3786\"],[0.5555555555555556,\"#d8576b\"],[0.6666666666666666,\"#ed7953\"],[0.7777777777777778,\"#fb9f3a\"],[0.8888888888888888,\"#fdca26\"],[1.0,\"#f0f921\"]],\"type\":\"heatmap\"}],\"heatmapgl\":[{\"colorbar\":{\"outlinewidth\":0,\"ticks\":\"\"},\"colorscale\":[[0.0,\"#0d0887\"],[0.1111111111111111,\"#46039f\"],[0.2222222222222222,\"#7201a8\"],[0.3333333333333333,\"#9c179e\"],[0.4444444444444444,\"#bd3786\"],[0.5555555555555556,\"#d8576b\"],[0.6666666666666666,\"#ed7953\"],[0.7777777777777778,\"#fb9f3a\"],[0.8888888888888888,\"#fdca26\"],[1.0,\"#f0f921\"]],\"type\":\"heatmapgl\"}],\"histogram\":[{\"marker\":{\"pattern\":{\"fillmode\":\"overlay\",\"size\":10,\"solidity\":0.2}},\"type\":\"histogram\"}],\"histogram2d\":[{\"colorbar\":{\"outlinewidth\":0,\"ticks\":\"\"},\"colorscale\":[[0.0,\"#0d0887\"],[0.1111111111111111,\"#46039f\"],[0.2222222222222222,\"#7201a8\"],[0.3333333333333333,\"#9c179e\"],[0.4444444444444444,\"#bd3786\"],[0.5555555555555556,\"#d8576b\"],[0.6666666666666666,\"#ed7953\"],[0.7777777777777778,\"#fb9f3a\"],[0.8888888888888888,\"#fdca26\"],[1.0,\"#f0f921\"]],\"type\":\"histogram2d\"}],\"histogram2dcontour\":[{\"colorbar\":{\"outlinewidth\":0,\"ticks\":\"\"},\"colorscale\":[[0.0,\"#0d0887\"],[0.1111111111111111,\"#46039f\"],[0.2222222222222222,\"#7201a8\"],[0.3333333333333333,\"#9c179e\"],[0.4444444444444444,\"#bd3786\"],[0.5555555555555556,\"#d8576b\"],[0.6666666666666666,\"#ed7953\"],[0.7777777777777778,\"#fb9f3a\"],[0.8888888888888888,\"#fdca26\"],[1.0,\"#f0f921\"]],\"type\":\"histogram2dcontour\"}],\"mesh3d\":[{\"colorbar\":{\"outlinewidth\":0,\"ticks\":\"\"},\"type\":\"mesh3d\"}],\"parcoords\":[{\"line\":{\"colorbar\":{\"outlinewidth\":0,\"ticks\":\"\"}},\"type\":\"parcoords\"}],\"pie\":[{\"automargin\":true,\"type\":\"pie\"}],\"scatter\":[{\"marker\":{\"colorbar\":{\"outlinewidth\":0,\"ticks\":\"\"}},\"type\":\"scatter\"}],\"scatter3d\":[{\"line\":{\"colorbar\":{\"outlinewidth\":0,\"ticks\":\"\"}},\"marker\":{\"colorbar\":{\"outlinewidth\":0,\"ticks\":\"\"}},\"type\":\"scatter3d\"}],\"scattercarpet\":[{\"marker\":{\"colorbar\":{\"outlinewidth\":0,\"ticks\":\"\"}},\"type\":\"scattercarpet\"}],\"scattergeo\":[{\"marker\":{\"colorbar\":{\"outlinewidth\":0,\"ticks\":\"\"}},\"type\":\"scattergeo\"}],\"scattergl\":[{\"marker\":{\"colorbar\":{\"outlinewidth\":0,\"ticks\":\"\"}},\"type\":\"scattergl\"}],\"scattermapbox\":[{\"marker\":{\"colorbar\":{\"outlinewidth\":0,\"ticks\":\"\"}},\"type\":\"scattermapbox\"}],\"scatterpolar\":[{\"marker\":{\"colorbar\":{\"outlinewidth\":0,\"ticks\":\"\"}},\"type\":\"scatterpolar\"}],\"scatterpolargl\":[{\"marker\":{\"colorbar\":{\"outlinewidth\":0,\"ticks\":\"\"}},\"type\":\"scatterpolargl\"}],\"scatterternary\":[{\"marker\":{\"colorbar\":{\"outlinewidth\":0,\"ticks\":\"\"}},\"type\":\"scatterternary\"}],\"surface\":[{\"colorbar\":{\"outlinewidth\":0,\"ticks\":\"\"},\"colorscale\":[[0.0,\"#0d0887\"],[0.1111111111111111,\"#46039f\"],[0.2222222222222222,\"#7201a8\"],[0.3333333333333333,\"#9c179e\"],[0.4444444444444444,\"#bd3786\"],[0.5555555555555556,\"#d8576b\"],[0.6666666666666666,\"#ed7953\"],[0.7777777777777778,\"#fb9f3a\"],[0.8888888888888888,\"#fdca26\"],[1.0,\"#f0f921\"]],\"type\":\"surface\"}],\"table\":[{\"cells\":{\"fill\":{\"color\":\"#EBF0F8\"},\"line\":{\"color\":\"white\"}},\"header\":{\"fill\":{\"color\":\"#C8D4E3\"},\"line\":{\"color\":\"white\"}},\"type\":\"table\"}]},\"layout\":{\"annotationdefaults\":{\"arrowcolor\":\"#2a3f5f\",\"arrowhead\":0,\"arrowwidth\":1},\"autotypenumbers\":\"strict\",\"coloraxis\":{\"colorbar\":{\"outlinewidth\":0,\"ticks\":\"\"}},\"colorscale\":{\"diverging\":[[0,\"#8e0152\"],[0.1,\"#c51b7d\"],[0.2,\"#de77ae\"],[0.3,\"#f1b6da\"],[0.4,\"#fde0ef\"],[0.5,\"#f7f7f7\"],[0.6,\"#e6f5d0\"],[0.7,\"#b8e186\"],[0.8,\"#7fbc41\"],[0.9,\"#4d9221\"],[1,\"#276419\"]],\"sequential\":[[0.0,\"#0d0887\"],[0.1111111111111111,\"#46039f\"],[0.2222222222222222,\"#7201a8\"],[0.3333333333333333,\"#9c179e\"],[0.4444444444444444,\"#bd3786\"],[0.5555555555555556,\"#d8576b\"],[0.6666666666666666,\"#ed7953\"],[0.7777777777777778,\"#fb9f3a\"],[0.8888888888888888,\"#fdca26\"],[1.0,\"#f0f921\"]],\"sequentialminus\":[[0.0,\"#0d0887\"],[0.1111111111111111,\"#46039f\"],[0.2222222222222222,\"#7201a8\"],[0.3333333333333333,\"#9c179e\"],[0.4444444444444444,\"#bd3786\"],[0.5555555555555556,\"#d8576b\"],[0.6666666666666666,\"#ed7953\"],[0.7777777777777778,\"#fb9f3a\"],[0.8888888888888888,\"#fdca26\"],[1.0,\"#f0f921\"]]},\"colorway\":[\"#636efa\",\"#EF553B\",\"#00cc96\",\"#ab63fa\",\"#FFA15A\",\"#19d3f3\",\"#FF6692\",\"#B6E880\",\"#FF97FF\",\"#FECB52\"],\"font\":{\"color\":\"#2a3f5f\"},\"geo\":{\"bgcolor\":\"white\",\"lakecolor\":\"white\",\"landcolor\":\"#E5ECF6\",\"showlakes\":true,\"showland\":true,\"subunitcolor\":\"white\"},\"hoverlabel\":{\"align\":\"left\"},\"hovermode\":\"closest\",\"mapbox\":{\"style\":\"light\"},\"paper_bgcolor\":\"white\",\"plot_bgcolor\":\"#E5ECF6\",\"polar\":{\"angularaxis\":{\"gridcolor\":\"white\",\"linecolor\":\"white\",\"ticks\":\"\"},\"bgcolor\":\"#E5ECF6\",\"radialaxis\":{\"gridcolor\":\"white\",\"linecolor\":\"white\",\"ticks\":\"\"}},\"scene\":{\"xaxis\":{\"backgroundcolor\":\"#E5ECF6\",\"gridcolor\":\"white\",\"gridwidth\":2,\"linecolor\":\"white\",\"showbackground\":true,\"ticks\":\"\",\"zerolinecolor\":\"white\"},\"yaxis\":{\"backgroundcolor\":\"#E5ECF6\",\"gridcolor\":\"white\",\"gridwidth\":2,\"linecolor\":\"white\",\"showbackground\":true,\"ticks\":\"\",\"zerolinecolor\":\"white\"},\"zaxis\":{\"backgroundcolor\":\"#E5ECF6\",\"gridcolor\":\"white\",\"gridwidth\":2,\"linecolor\":\"white\",\"showbackground\":true,\"ticks\":\"\",\"zerolinecolor\":\"white\"}},\"shapedefaults\":{\"line\":{\"color\":\"#2a3f5f\"}},\"ternary\":{\"aaxis\":{\"gridcolor\":\"white\",\"linecolor\":\"white\",\"ticks\":\"\"},\"baxis\":{\"gridcolor\":\"white\",\"linecolor\":\"white\",\"ticks\":\"\"},\"bgcolor\":\"#E5ECF6\",\"caxis\":{\"gridcolor\":\"white\",\"linecolor\":\"white\",\"ticks\":\"\"}},\"title\":{\"x\":0.05},\"xaxis\":{\"automargin\":true,\"gridcolor\":\"white\",\"linecolor\":\"white\",\"ticks\":\"\",\"title\":{\"standoff\":15},\"zerolinecolor\":\"white\",\"zerolinewidth\":2},\"yaxis\":{\"automargin\":true,\"gridcolor\":\"white\",\"linecolor\":\"white\",\"ticks\":\"\",\"title\":{\"standoff\":15},\"zerolinecolor\":\"white\",\"zerolinewidth\":2}}},\"xaxis\":{\"anchor\":\"y\",\"domain\":[0.0,1.0],\"title\":{\"text\":\"Date\"}},\"yaxis\":{\"anchor\":\"x\",\"domain\":[0.0,1.0],\"title\":{\"text\":\"Return\"}}},                        {\"responsive\": true}                    ).then(function(){\n",
       "                            \n",
       "var gd = document.getElementById('238a895e-f428-4b9d-923c-a630fe82709f');\n",
       "var x = new MutationObserver(function (mutations, observer) {{\n",
       "        var display = window.getComputedStyle(gd).display;\n",
       "        if (!display || display === 'none') {{\n",
       "            console.log([gd, 'removed!']);\n",
       "            Plotly.purge(gd);\n",
       "            observer.disconnect();\n",
       "        }}\n",
       "}});\n",
       "\n",
       "// Listen for the removal of the full notebook cells\n",
       "var notebookContainer = gd.closest('#notebook-container');\n",
       "if (notebookContainer) {{\n",
       "    x.observe(notebookContainer, {childList: true});\n",
       "}}\n",
       "\n",
       "// Listen for the clearing of the current output cell\n",
       "var outputEl = gd.closest('.output');\n",
       "if (outputEl) {{\n",
       "    x.observe(outputEl, {childList: true});\n",
       "}}\n",
       "\n",
       "                        })                };                });            </script>        </div>"
      ]
     },
     "metadata": {},
     "output_type": "display_data"
    }
   ],
   "source": [
    "fig = go.Figure()\n",
    "\n",
    "fig = px.bar(b_df, x='Date', y='Return', color='Polarity_mean')\n",
    "\n",
    "fig.show()"
   ]
  },
  {
   "cell_type": "markdown",
   "id": "aa7d64ee-18f5-4e5e-8958-9d5773730191",
   "metadata": {},
   "source": [
    "### Sentiment Analysis using VADER"
   ]
  },
  {
   "cell_type": "code",
   "execution_count": 291,
   "id": "c289c402-8c0d-4bf2-952c-506deae581f6",
   "metadata": {
    "collapsed": true,
    "jupyter": {
     "outputs_hidden": true
    },
    "tags": []
   },
   "outputs": [
    {
     "ename": "KeyError",
     "evalue": "'full_text'",
     "output_type": "error",
     "traceback": [
      "\u001b[0;31m---------------------------------------------------------------------------\u001b[0m",
      "\u001b[0;31mKeyError\u001b[0m                                  Traceback (most recent call last)",
      "\u001b[0;32m/opt/anaconda3/envs/twitter/lib/python3.9/site-packages/pandas/core/indexes/base.py\u001b[0m in \u001b[0;36mget_loc\u001b[0;34m(self, key, method, tolerance)\u001b[0m\n\u001b[1;32m   3360\u001b[0m             \u001b[0;32mtry\u001b[0m\u001b[0;34m:\u001b[0m\u001b[0;34m\u001b[0m\u001b[0;34m\u001b[0m\u001b[0m\n\u001b[0;32m-> 3361\u001b[0;31m                 \u001b[0;32mreturn\u001b[0m \u001b[0mself\u001b[0m\u001b[0;34m.\u001b[0m\u001b[0m_engine\u001b[0m\u001b[0;34m.\u001b[0m\u001b[0mget_loc\u001b[0m\u001b[0;34m(\u001b[0m\u001b[0mcasted_key\u001b[0m\u001b[0;34m)\u001b[0m\u001b[0;34m\u001b[0m\u001b[0;34m\u001b[0m\u001b[0m\n\u001b[0m\u001b[1;32m   3362\u001b[0m             \u001b[0;32mexcept\u001b[0m \u001b[0mKeyError\u001b[0m \u001b[0;32mas\u001b[0m \u001b[0merr\u001b[0m\u001b[0;34m:\u001b[0m\u001b[0;34m\u001b[0m\u001b[0;34m\u001b[0m\u001b[0m\n",
      "\u001b[0;32m/opt/anaconda3/envs/twitter/lib/python3.9/site-packages/pandas/_libs/index.pyx\u001b[0m in \u001b[0;36mpandas._libs.index.IndexEngine.get_loc\u001b[0;34m()\u001b[0m\n",
      "\u001b[0;32m/opt/anaconda3/envs/twitter/lib/python3.9/site-packages/pandas/_libs/index.pyx\u001b[0m in \u001b[0;36mpandas._libs.index.IndexEngine.get_loc\u001b[0;34m()\u001b[0m\n",
      "\u001b[0;32mpandas/_libs/hashtable_class_helper.pxi\u001b[0m in \u001b[0;36mpandas._libs.hashtable.PyObjectHashTable.get_item\u001b[0;34m()\u001b[0m\n",
      "\u001b[0;32mpandas/_libs/hashtable_class_helper.pxi\u001b[0m in \u001b[0;36mpandas._libs.hashtable.PyObjectHashTable.get_item\u001b[0;34m()\u001b[0m\n",
      "\u001b[0;31mKeyError\u001b[0m: 'full_text'",
      "\nThe above exception was the direct cause of the following exception:\n",
      "\u001b[0;31mKeyError\u001b[0m                                  Traceback (most recent call last)",
      "\u001b[0;32m/var/folders/fy/7mfyb97n7q12tbfy_b8cwnwr0000gn/T/ipykernel_851/1394114576.py\u001b[0m in \u001b[0;36m<module>\u001b[0;34m\u001b[0m\n\u001b[1;32m      4\u001b[0m \u001b[0mresults\u001b[0m \u001b[0;34m=\u001b[0m \u001b[0;34m[\u001b[0m\u001b[0;34m]\u001b[0m\u001b[0;34m\u001b[0m\u001b[0;34m\u001b[0m\u001b[0m\n\u001b[1;32m      5\u001b[0m \u001b[0;34m\u001b[0m\u001b[0m\n\u001b[0;32m----> 6\u001b[0;31m \u001b[0;32mfor\u001b[0m \u001b[0mtweet\u001b[0m \u001b[0;32min\u001b[0m \u001b[0mdf1\u001b[0m\u001b[0;34m[\u001b[0m\u001b[0;34m'full_text'\u001b[0m\u001b[0;34m]\u001b[0m\u001b[0;34m:\u001b[0m\u001b[0;34m\u001b[0m\u001b[0;34m\u001b[0m\u001b[0m\n\u001b[0m\u001b[1;32m      7\u001b[0m     \u001b[0mscore\u001b[0m \u001b[0;34m=\u001b[0m \u001b[0msia\u001b[0m\u001b[0;34m.\u001b[0m\u001b[0mpolarity_scores\u001b[0m\u001b[0;34m(\u001b[0m\u001b[0mtweet\u001b[0m\u001b[0;34m)\u001b[0m\u001b[0;34m\u001b[0m\u001b[0;34m\u001b[0m\u001b[0m\n\u001b[1;32m      8\u001b[0m     \u001b[0mscore\u001b[0m\u001b[0;34m[\u001b[0m\u001b[0;34m'headline'\u001b[0m\u001b[0;34m]\u001b[0m \u001b[0;34m=\u001b[0m \u001b[0mtweet\u001b[0m\u001b[0;34m\u001b[0m\u001b[0;34m\u001b[0m\u001b[0m\n",
      "\u001b[0;32m/opt/anaconda3/envs/twitter/lib/python3.9/site-packages/pandas/core/frame.py\u001b[0m in \u001b[0;36m__getitem__\u001b[0;34m(self, key)\u001b[0m\n\u001b[1;32m   3456\u001b[0m             \u001b[0;32mif\u001b[0m \u001b[0mself\u001b[0m\u001b[0;34m.\u001b[0m\u001b[0mcolumns\u001b[0m\u001b[0;34m.\u001b[0m\u001b[0mnlevels\u001b[0m \u001b[0;34m>\u001b[0m \u001b[0;36m1\u001b[0m\u001b[0;34m:\u001b[0m\u001b[0;34m\u001b[0m\u001b[0;34m\u001b[0m\u001b[0m\n\u001b[1;32m   3457\u001b[0m                 \u001b[0;32mreturn\u001b[0m \u001b[0mself\u001b[0m\u001b[0;34m.\u001b[0m\u001b[0m_getitem_multilevel\u001b[0m\u001b[0;34m(\u001b[0m\u001b[0mkey\u001b[0m\u001b[0;34m)\u001b[0m\u001b[0;34m\u001b[0m\u001b[0;34m\u001b[0m\u001b[0m\n\u001b[0;32m-> 3458\u001b[0;31m             \u001b[0mindexer\u001b[0m \u001b[0;34m=\u001b[0m \u001b[0mself\u001b[0m\u001b[0;34m.\u001b[0m\u001b[0mcolumns\u001b[0m\u001b[0;34m.\u001b[0m\u001b[0mget_loc\u001b[0m\u001b[0;34m(\u001b[0m\u001b[0mkey\u001b[0m\u001b[0;34m)\u001b[0m\u001b[0;34m\u001b[0m\u001b[0;34m\u001b[0m\u001b[0m\n\u001b[0m\u001b[1;32m   3459\u001b[0m             \u001b[0;32mif\u001b[0m \u001b[0mis_integer\u001b[0m\u001b[0;34m(\u001b[0m\u001b[0mindexer\u001b[0m\u001b[0;34m)\u001b[0m\u001b[0;34m:\u001b[0m\u001b[0;34m\u001b[0m\u001b[0;34m\u001b[0m\u001b[0m\n\u001b[1;32m   3460\u001b[0m                 \u001b[0mindexer\u001b[0m \u001b[0;34m=\u001b[0m \u001b[0;34m[\u001b[0m\u001b[0mindexer\u001b[0m\u001b[0;34m]\u001b[0m\u001b[0;34m\u001b[0m\u001b[0;34m\u001b[0m\u001b[0m\n",
      "\u001b[0;32m/opt/anaconda3/envs/twitter/lib/python3.9/site-packages/pandas/core/indexes/base.py\u001b[0m in \u001b[0;36mget_loc\u001b[0;34m(self, key, method, tolerance)\u001b[0m\n\u001b[1;32m   3361\u001b[0m                 \u001b[0;32mreturn\u001b[0m \u001b[0mself\u001b[0m\u001b[0;34m.\u001b[0m\u001b[0m_engine\u001b[0m\u001b[0;34m.\u001b[0m\u001b[0mget_loc\u001b[0m\u001b[0;34m(\u001b[0m\u001b[0mcasted_key\u001b[0m\u001b[0;34m)\u001b[0m\u001b[0;34m\u001b[0m\u001b[0;34m\u001b[0m\u001b[0m\n\u001b[1;32m   3362\u001b[0m             \u001b[0;32mexcept\u001b[0m \u001b[0mKeyError\u001b[0m \u001b[0;32mas\u001b[0m \u001b[0merr\u001b[0m\u001b[0;34m:\u001b[0m\u001b[0;34m\u001b[0m\u001b[0;34m\u001b[0m\u001b[0m\n\u001b[0;32m-> 3363\u001b[0;31m                 \u001b[0;32mraise\u001b[0m \u001b[0mKeyError\u001b[0m\u001b[0;34m(\u001b[0m\u001b[0mkey\u001b[0m\u001b[0;34m)\u001b[0m \u001b[0;32mfrom\u001b[0m \u001b[0merr\u001b[0m\u001b[0;34m\u001b[0m\u001b[0;34m\u001b[0m\u001b[0m\n\u001b[0m\u001b[1;32m   3364\u001b[0m \u001b[0;34m\u001b[0m\u001b[0m\n\u001b[1;32m   3365\u001b[0m         \u001b[0;32mif\u001b[0m \u001b[0mis_scalar\u001b[0m\u001b[0;34m(\u001b[0m\u001b[0mkey\u001b[0m\u001b[0;34m)\u001b[0m \u001b[0;32mand\u001b[0m \u001b[0misna\u001b[0m\u001b[0;34m(\u001b[0m\u001b[0mkey\u001b[0m\u001b[0;34m)\u001b[0m \u001b[0;32mand\u001b[0m \u001b[0;32mnot\u001b[0m \u001b[0mself\u001b[0m\u001b[0;34m.\u001b[0m\u001b[0mhasnans\u001b[0m\u001b[0;34m:\u001b[0m\u001b[0;34m\u001b[0m\u001b[0;34m\u001b[0m\u001b[0m\n",
      "\u001b[0;31mKeyError\u001b[0m: 'full_text'"
     ]
    }
   ],
   "source": [
    "from nltk.sentiment.vader import SentimentIntensityAnalyzer as SIA\n",
    "\n",
    "sia = SIA()\n",
    "results = []\n",
    "\n",
    "for tweet in df1['full_text']:\n",
    "    score = sia.polarity_scores(tweet)\n",
    "    score['headline'] = tweet\n",
    "    results.append(score)\n",
    "\n",
    "df1['compound'] = pd.DataFrame(results)['compound'] # Creating the 'compound' column to store the results from the sentiment analysis"
   ]
  },
  {
   "cell_type": "code",
   "execution_count": 184,
   "id": "4037ad4b-dac1-42f4-87c1-47c5cb1b2f04",
   "metadata": {
    "collapsed": true,
    "jupyter": {
     "outputs_hidden": true
    },
    "tags": []
   },
   "outputs": [
    {
     "data": {
      "text/plain": [
       "0                                                    NaN\n",
       "1                                                    NaN\n",
       "2                                                    NaN\n",
       "3                                                    NaN\n",
       "4                                                    NaN\n",
       "                             ...                        \n",
       "206    Congrats Ray Vara, ceo of Hawaii Pacific Healt...\n",
       "207    Im thankful for my family, friends, mentors &a...\n",
       "208                                                  NaN\n",
       "209    : 🇺🇸 : Dancing with the feet and heart!! Congr...\n",
       "210    Congrats to Salesforce’s New Board Members Lau...\n",
       "Name: Tweets, Length: 211, dtype: object"
      ]
     },
     "execution_count": 184,
     "metadata": {},
     "output_type": "execute_result"
    }
   ],
   "source": [
    "df['Tweets']"
   ]
  },
  {
   "cell_type": "code",
   "execution_count": 121,
   "id": "69ff73d0-4190-47c6-a6d9-97289a904586",
   "metadata": {},
   "outputs": [
    {
     "data": {
      "text/plain": [
       "<matplotlib.collections.PathCollection at 0x7f9f08182be0>"
      ]
     },
     "execution_count": 121,
     "metadata": {},
     "output_type": "execute_result"
    },
    {
     "data": {
      "image/png": "[encoded data removed]",
      "text/plain": [
       "<Figure size 432x288 with 1 Axes>"
      ]
     },
     "metadata": {
      "needs_background": "light"
     },
     "output_type": "display_data"
    }
   ],
   "source": [
    "plt.scatter('date', 'compound', data=df1)"
   ]
  },
  {
   "cell_type": "markdown",
   "id": "920dd29d-6429-4d80-80d8-18aa654bb0f9",
   "metadata": {},
   "source": [
    "### Sentiment Analysis"
   ]
  },
  {
   "cell_type": "code",
   "execution_count": 139,
   "id": "d70d4ca0-f392-468d-9a53-4695a8dc7057",
   "metadata": {},
   "outputs": [],
   "source": [
    "import re\n",
    "\n",
    "# Clean The Data\n",
    "def cleantext(text):\n",
    "    text = re.sub(r\"@[A-Za-z0-9]+\", \"\", text) # Remove Mentions\n",
    "    text = re.sub(r\"#\", \"\", text) # Remove Hashtags Symbol\n",
    "    text = re.sub(r\"RT[\\s]+\", \"\", text) # Remove Retweets\n",
    "    text = re.sub(r\"https?:\\/\\/\\S+\", \"\", text) # Remove The Hyper Link\n",
    "    \n",
    "    return text"
   ]
  },
  {
   "cell_type": "code",
   "execution_count": 141,
   "id": "ab89f41d-719f-4ba8-931f-2c3d59e6aa2c",
   "metadata": {},
   "outputs": [
    {
     "data": {
      "text/html": [
       "<div>\n",
       "<style scoped>\n",
       "    .dataframe tbody tr th:only-of-type {\n",
       "        vertical-align: middle;\n",
       "    }\n",
       "\n",
       "    .dataframe tbody tr th {\n",
       "        vertical-align: top;\n",
       "    }\n",
       "\n",
       "    .dataframe thead th {\n",
       "        text-align: right;\n",
       "    }\n",
       "</style>\n",
       "<table border=\"1\" class=\"dataframe\">\n",
       "  <thead>\n",
       "    <tr style=\"text-align: right;\">\n",
       "      <th></th>\n",
       "      <th>date</th>\n",
       "      <th>full_text</th>\n",
       "      <th>id</th>\n",
       "      <th>source</th>\n",
       "      <th>favorite_count</th>\n",
       "      <th>retweet_count</th>\n",
       "      <th>compound</th>\n",
       "    </tr>\n",
       "  </thead>\n",
       "  <tbody>\n",
       "    <tr>\n",
       "      <th>0</th>\n",
       "      <td>2021-11-04</td>\n",
       "      <td>Proud of the team for another strong quarter! ...</td>\n",
       "      <td>1456394103789277186</td>\n",
       "      <td>&lt;a href=\"http://twitter.com/download/iphone\" r...</td>\n",
       "      <td>61</td>\n",
       "      <td>3</td>\n",
       "      <td>0.8516</td>\n",
       "    </tr>\n",
       "    <tr>\n",
       "      <th>1</th>\n",
       "      <td>2021-11-04</td>\n",
       "      <td>Congrats Kyle!</td>\n",
       "      <td>1456105938201374727</td>\n",
       "      <td>&lt;a href=\"http://twitter.com/download/iphone\" r...</td>\n",
       "      <td>33</td>\n",
       "      <td>4</td>\n",
       "      <td>0.5707</td>\n",
       "    </tr>\n",
       "    <tr>\n",
       "      <th>2</th>\n",
       "      <td>2021-10-29</td>\n",
       "      <td>Excited for  to join the Dropbox family! Unive...</td>\n",
       "      <td>1454105958913691650</td>\n",
       "      <td>&lt;a href=\"https://mobile.twitter.com\" rel=\"nofo...</td>\n",
       "      <td>95</td>\n",
       "      <td>13</td>\n",
       "      <td>0.8745</td>\n",
       "    </tr>\n",
       "    <tr>\n",
       "      <th>3</th>\n",
       "      <td>2021-10-28</td>\n",
       "      <td>We're certainly supporting Apple Silicon, sorr...</td>\n",
       "      <td>1453765978198732802</td>\n",
       "      <td>&lt;a href=\"https://mobile.twitter.com\" rel=\"nofo...</td>\n",
       "      <td>479</td>\n",
       "      <td>48</td>\n",
       "      <td>0.7279</td>\n",
       "    </tr>\n",
       "    <tr>\n",
       "      <th>4</th>\n",
       "      <td>2021-10-28</td>\n",
       "      <td>Our communication in the support thread was...</td>\n",
       "      <td>1453763456398548993</td>\n",
       "      <td>&lt;a href=\"https://mobile.twitter.com\" rel=\"nofo...</td>\n",
       "      <td>8</td>\n",
       "      <td>0</td>\n",
       "      <td>0.5867</td>\n",
       "    </tr>\n",
       "    <tr>\n",
       "      <th>5</th>\n",
       "      <td>2021-10-28</td>\n",
       "      <td>Correct -- lots of technical changes in the O...</td>\n",
       "      <td>1453763117435949057</td>\n",
       "      <td>&lt;a href=\"https://mobile.twitter.com\" rel=\"nofo...</td>\n",
       "      <td>83</td>\n",
       "      <td>5</td>\n",
       "      <td>0.5867</td>\n",
       "    </tr>\n",
       "    <tr>\n",
       "      <th>6</th>\n",
       "      <td>2021-10-28</td>\n",
       "      <td>We're certainly supporting Apple Silicon, sor...</td>\n",
       "      <td>1453762478479843332</td>\n",
       "      <td>&lt;a href=\"https://mobile.twitter.com\" rel=\"nofo...</td>\n",
       "      <td>118</td>\n",
       "      <td>11</td>\n",
       "      <td>0.7906</td>\n",
       "    </tr>\n",
       "    <tr>\n",
       "      <th>7</th>\n",
       "      <td>2021-10-27</td>\n",
       "      <td>: “People will leave companies where they don'...</td>\n",
       "      <td>1453438788303130624</td>\n",
       "      <td>&lt;a href=\"https://mobile.twitter.com\" rel=\"nofo...</td>\n",
       "      <td>0</td>\n",
       "      <td>14</td>\n",
       "      <td>-0.3040</td>\n",
       "    </tr>\n",
       "    <tr>\n",
       "      <th>8</th>\n",
       "      <td>2021-09-30</td>\n",
       "      <td>I didn’t and we don’t 😂</td>\n",
       "      <td>1443418145037832192</td>\n",
       "      <td>&lt;a href=\"http://twitter.com/download/iphone\" r...</td>\n",
       "      <td>29</td>\n",
       "      <td>0</td>\n",
       "      <td>0.0000</td>\n",
       "    </tr>\n",
       "    <tr>\n",
       "      <th>9</th>\n",
       "      <td>2021-09-28</td>\n",
       "      <td>Super excited about these new product experien...</td>\n",
       "      <td>1443001837993426949</td>\n",
       "      <td>&lt;a href=\"https://mobile.twitter.com\" rel=\"nofo...</td>\n",
       "      <td>57</td>\n",
       "      <td>8</td>\n",
       "      <td>0.9134</td>\n",
       "    </tr>\n",
       "  </tbody>\n",
       "</table>\n",
       "</div>"
      ],
      "text/plain": [
       "        date                                          full_text  \\\n",
       "0 2021-11-04  Proud of the team for another strong quarter! ...   \n",
       "1 2021-11-04                                    Congrats Kyle!    \n",
       "2 2021-10-29  Excited for  to join the Dropbox family! Unive...   \n",
       "3 2021-10-28  We're certainly supporting Apple Silicon, sorr...   \n",
       "4 2021-10-28     Our communication in the support thread was...   \n",
       "5 2021-10-28   Correct -- lots of technical changes in the O...   \n",
       "6 2021-10-28   We're certainly supporting Apple Silicon, sor...   \n",
       "7 2021-10-27  : “People will leave companies where they don'...   \n",
       "8 2021-09-30                            I didn’t and we don’t 😂   \n",
       "9 2021-09-28  Super excited about these new product experien...   \n",
       "\n",
       "                    id                                             source  \\\n",
       "0  1456394103789277186  <a href=\"http://twitter.com/download/iphone\" r...   \n",
       "1  1456105938201374727  <a href=\"http://twitter.com/download/iphone\" r...   \n",
       "2  1454105958913691650  <a href=\"https://mobile.twitter.com\" rel=\"nofo...   \n",
       "3  1453765978198732802  <a href=\"https://mobile.twitter.com\" rel=\"nofo...   \n",
       "4  1453763456398548993  <a href=\"https://mobile.twitter.com\" rel=\"nofo...   \n",
       "5  1453763117435949057  <a href=\"https://mobile.twitter.com\" rel=\"nofo...   \n",
       "6  1453762478479843332  <a href=\"https://mobile.twitter.com\" rel=\"nofo...   \n",
       "7  1453438788303130624  <a href=\"https://mobile.twitter.com\" rel=\"nofo...   \n",
       "8  1443418145037832192  <a href=\"http://twitter.com/download/iphone\" r...   \n",
       "9  1443001837993426949  <a href=\"https://mobile.twitter.com\" rel=\"nofo...   \n",
       "\n",
       "   favorite_count  retweet_count  compound  \n",
       "0              61              3    0.8516  \n",
       "1              33              4    0.5707  \n",
       "2              95             13    0.8745  \n",
       "3             479             48    0.7279  \n",
       "4               8              0    0.5867  \n",
       "5              83              5    0.5867  \n",
       "6             118             11    0.7906  \n",
       "7               0             14   -0.3040  \n",
       "8              29              0    0.0000  \n",
       "9              57              8    0.9134  "
      ]
     },
     "execution_count": 141,
     "metadata": {},
     "output_type": "execute_result"
    }
   ],
   "source": [
    "# Clean The Text\n",
    "df1['full_text'] = df1['full_text'].apply(cleantext)\n",
    "df1.head(10)"
   ]
  },
  {
   "cell_type": "code",
   "execution_count": 145,
   "id": "1af21bb9-673e-4de5-9ddd-e8bd76100ca9",
   "metadata": {},
   "outputs": [
    {
     "data": {
      "text/html": [
       "<div>\n",
       "<style scoped>\n",
       "    .dataframe tbody tr th:only-of-type {\n",
       "        vertical-align: middle;\n",
       "    }\n",
       "\n",
       "    .dataframe tbody tr th {\n",
       "        vertical-align: top;\n",
       "    }\n",
       "\n",
       "    .dataframe thead th {\n",
       "        text-align: right;\n",
       "    }\n",
       "</style>\n",
       "<table border=\"1\" class=\"dataframe\">\n",
       "  <thead>\n",
       "    <tr style=\"text-align: right;\">\n",
       "      <th></th>\n",
       "      <th>date</th>\n",
       "      <th>full_text</th>\n",
       "      <th>id</th>\n",
       "      <th>source</th>\n",
       "      <th>favorite_count</th>\n",
       "      <th>retweet_count</th>\n",
       "      <th>compound</th>\n",
       "      <th>subjectivity</th>\n",
       "      <th>polarity</th>\n",
       "    </tr>\n",
       "  </thead>\n",
       "  <tbody>\n",
       "    <tr>\n",
       "      <th>0</th>\n",
       "      <td>2021-11-04</td>\n",
       "      <td>Proud of the team for another strong quarter! ...</td>\n",
       "      <td>1456394103789277186</td>\n",
       "      <td>&lt;a href=\"http://twitter.com/download/iphone\" r...</td>\n",
       "      <td>61</td>\n",
       "      <td>3</td>\n",
       "      <td>0.8516</td>\n",
       "      <td>0.744444</td>\n",
       "      <td>0.447222</td>\n",
       "    </tr>\n",
       "    <tr>\n",
       "      <th>1</th>\n",
       "      <td>2021-11-04</td>\n",
       "      <td>Congrats Kyle!</td>\n",
       "      <td>1456105938201374727</td>\n",
       "      <td>&lt;a href=\"http://twitter.com/download/iphone\" r...</td>\n",
       "      <td>33</td>\n",
       "      <td>4</td>\n",
       "      <td>0.5707</td>\n",
       "      <td>0.000000</td>\n",
       "      <td>0.000000</td>\n",
       "    </tr>\n",
       "    <tr>\n",
       "      <th>2</th>\n",
       "      <td>2021-10-29</td>\n",
       "      <td>Excited for  to join the Dropbox family! Unive...</td>\n",
       "      <td>1454105958913691650</td>\n",
       "      <td>&lt;a href=\"https://mobile.twitter.com\" rel=\"nofo...</td>\n",
       "      <td>95</td>\n",
       "      <td>13</td>\n",
       "      <td>0.8745</td>\n",
       "      <td>0.662500</td>\n",
       "      <td>0.467187</td>\n",
       "    </tr>\n",
       "    <tr>\n",
       "      <th>3</th>\n",
       "      <td>2021-10-28</td>\n",
       "      <td>We're certainly supporting Apple Silicon, sorr...</td>\n",
       "      <td>1453765978198732802</td>\n",
       "      <td>&lt;a href=\"https://mobile.twitter.com\" rel=\"nofo...</td>\n",
       "      <td>479</td>\n",
       "      <td>48</td>\n",
       "      <td>0.7279</td>\n",
       "      <td>0.750000</td>\n",
       "      <td>-0.233333</td>\n",
       "    </tr>\n",
       "    <tr>\n",
       "      <th>4</th>\n",
       "      <td>2021-10-28</td>\n",
       "      <td>Our communication in the support thread was...</td>\n",
       "      <td>1453763456398548993</td>\n",
       "      <td>&lt;a href=\"https://mobile.twitter.com\" rel=\"nofo...</td>\n",
       "      <td>8</td>\n",
       "      <td>0</td>\n",
       "      <td>0.5867</td>\n",
       "      <td>0.750000</td>\n",
       "      <td>0.800000</td>\n",
       "    </tr>\n",
       "    <tr>\n",
       "      <th>...</th>\n",
       "      <td>...</td>\n",
       "      <td>...</td>\n",
       "      <td>...</td>\n",
       "      <td>...</td>\n",
       "      <td>...</td>\n",
       "      <td>...</td>\n",
       "      <td>...</td>\n",
       "      <td>...</td>\n",
       "      <td>...</td>\n",
       "    </tr>\n",
       "    <tr>\n",
       "      <th>463</th>\n",
       "      <td>2008-10-27</td>\n",
       "      <td>Josh Groban singing Disarm... my inner 14-year...</td>\n",
       "      <td>976758647</td>\n",
       "      <td>&lt;a href=\"http://twitter.com\" rel=\"nofollow\"&gt;Tw...</td>\n",
       "      <td>0</td>\n",
       "      <td>0</td>\n",
       "      <td>-0.2263</td>\n",
       "      <td>0.166667</td>\n",
       "      <td>0.000000</td>\n",
       "    </tr>\n",
       "    <tr>\n",
       "      <th>464</th>\n",
       "      <td>2008-09-06</td>\n",
       "      <td>wish for more dropbox space granted!</td>\n",
       "      <td>912279893</td>\n",
       "      <td>&lt;a href=\"http://twitter.com\" rel=\"nofollow\"&gt;Tw...</td>\n",
       "      <td>0</td>\n",
       "      <td>0</td>\n",
       "      <td>0.6435</td>\n",
       "      <td>0.500000</td>\n",
       "      <td>0.625000</td>\n",
       "    </tr>\n",
       "    <tr>\n",
       "      <th>465</th>\n",
       "      <td>2008-08-27</td>\n",
       "      <td>what happened? email us beta.com, it's pretty...</td>\n",
       "      <td>900233191</td>\n",
       "      <td>&lt;a href=\"http://twitter.com\" rel=\"nofollow\"&gt;Tw...</td>\n",
       "      <td>0</td>\n",
       "      <td>0</td>\n",
       "      <td>0.7351</td>\n",
       "      <td>1.000000</td>\n",
       "      <td>0.050000</td>\n",
       "    </tr>\n",
       "    <tr>\n",
       "      <th>466</th>\n",
       "      <td>2008-05-15</td>\n",
       "      <td>thanks for the love :)</td>\n",
       "      <td>811537015</td>\n",
       "      <td>&lt;a href=\"http://twitter.com\" rel=\"nofollow\"&gt;Tw...</td>\n",
       "      <td>0</td>\n",
       "      <td>0</td>\n",
       "      <td>0.8779</td>\n",
       "      <td>0.600000</td>\n",
       "      <td>0.400000</td>\n",
       "    </tr>\n",
       "    <tr>\n",
       "      <th>467</th>\n",
       "      <td>2008-04-09</td>\n",
       "      <td>and other folks who got \"invalid beta codes\" ...</td>\n",
       "      <td>785593826</td>\n",
       "      <td>&lt;a href=\"http://twitter.com\" rel=\"nofollow\"&gt;Tw...</td>\n",
       "      <td>0</td>\n",
       "      <td>0</td>\n",
       "      <td>-0.2023</td>\n",
       "      <td>0.673611</td>\n",
       "      <td>-0.146023</td>\n",
       "    </tr>\n",
       "  </tbody>\n",
       "</table>\n",
       "<p>468 rows × 9 columns</p>\n",
       "</div>"
      ],
      "text/plain": [
       "          date                                          full_text  \\\n",
       "0   2021-11-04  Proud of the team for another strong quarter! ...   \n",
       "1   2021-11-04                                    Congrats Kyle!    \n",
       "2   2021-10-29  Excited for  to join the Dropbox family! Unive...   \n",
       "3   2021-10-28  We're certainly supporting Apple Silicon, sorr...   \n",
       "4   2021-10-28     Our communication in the support thread was...   \n",
       "..         ...                                                ...   \n",
       "463 2008-10-27  Josh Groban singing Disarm... my inner 14-year...   \n",
       "464 2008-09-06               wish for more dropbox space granted!   \n",
       "465 2008-08-27   what happened? email us beta.com, it's pretty...   \n",
       "466 2008-05-15                             thanks for the love :)   \n",
       "467 2008-04-09   and other folks who got \"invalid beta codes\" ...   \n",
       "\n",
       "                      id                                             source  \\\n",
       "0    1456394103789277186  <a href=\"http://twitter.com/download/iphone\" r...   \n",
       "1    1456105938201374727  <a href=\"http://twitter.com/download/iphone\" r...   \n",
       "2    1454105958913691650  <a href=\"https://mobile.twitter.com\" rel=\"nofo...   \n",
       "3    1453765978198732802  <a href=\"https://mobile.twitter.com\" rel=\"nofo...   \n",
       "4    1453763456398548993  <a href=\"https://mobile.twitter.com\" rel=\"nofo...   \n",
       "..                   ...                                                ...   \n",
       "463            976758647  <a href=\"http://twitter.com\" rel=\"nofollow\">Tw...   \n",
       "464            912279893  <a href=\"http://twitter.com\" rel=\"nofollow\">Tw...   \n",
       "465            900233191  <a href=\"http://twitter.com\" rel=\"nofollow\">Tw...   \n",
       "466            811537015  <a href=\"http://twitter.com\" rel=\"nofollow\">Tw...   \n",
       "467            785593826  <a href=\"http://twitter.com\" rel=\"nofollow\">Tw...   \n",
       "\n",
       "     favorite_count  retweet_count  compound  subjectivity  polarity  \n",
       "0                61              3    0.8516      0.744444  0.447222  \n",
       "1                33              4    0.5707      0.000000  0.000000  \n",
       "2                95             13    0.8745      0.662500  0.467187  \n",
       "3               479             48    0.7279      0.750000 -0.233333  \n",
       "4                 8              0    0.5867      0.750000  0.800000  \n",
       "..              ...            ...       ...           ...       ...  \n",
       "463               0              0   -0.2263      0.166667  0.000000  \n",
       "464               0              0    0.6435      0.500000  0.625000  \n",
       "465               0              0    0.7351      1.000000  0.050000  \n",
       "466               0              0    0.8779      0.600000  0.400000  \n",
       "467               0              0   -0.2023      0.673611 -0.146023  \n",
       "\n",
       "[468 rows x 9 columns]"
      ]
     },
     "execution_count": 145,
     "metadata": {},
     "output_type": "execute_result"
    }
   ],
   "source": [
    "from textblob import TextBlob\n",
    "\n",
    "# Get The Subjectivity\n",
    "def sentiment_analysis(ds):\n",
    "    sentiment = TextBlob(ds['full_text']).sentiment\n",
    "    return pd.Series([sentiment.subjectivity, sentiment.polarity])\n",
    "\n",
    "# Adding Subjectivity & Polarity\n",
    "df1[[\"subjectivity\", \"polarity\"]] = df1.apply(sentiment_analysis, axis=1)\n",
    "\n",
    "df1"
   ]
  },
  {
   "cell_type": "code",
   "execution_count": 149,
   "id": "7625352b-bb84-41a2-a6fe-83fe9a615d0a",
   "metadata": {},
   "outputs": [],
   "source": [
    "#Polarity Change\n",
    "df1[\"polarity_chg\"] = df1[\"polarity\"]\n",
    "for i in range(len(df1)-1):\n",
    "    df1[\"polarity_chg\"].iloc[i]= (df1[\"polarity\"].iloc[i]/df1[\"polarity\"].iloc[i+1])"
   ]
  },
  {
   "cell_type": "code",
   "execution_count": 150,
   "id": "cd269856-c838-4173-ab99-ce69eb571309",
   "metadata": {},
   "outputs": [
    {
     "data": {
      "text/html": [
       "<div>\n",
       "<style scoped>\n",
       "    .dataframe tbody tr th:only-of-type {\n",
       "        vertical-align: middle;\n",
       "    }\n",
       "\n",
       "    .dataframe tbody tr th {\n",
       "        vertical-align: top;\n",
       "    }\n",
       "\n",
       "    .dataframe thead th {\n",
       "        text-align: right;\n",
       "    }\n",
       "</style>\n",
       "<table border=\"1\" class=\"dataframe\">\n",
       "  <thead>\n",
       "    <tr style=\"text-align: right;\">\n",
       "      <th></th>\n",
       "      <th>date</th>\n",
       "      <th>full_text</th>\n",
       "      <th>id</th>\n",
       "      <th>source</th>\n",
       "      <th>favorite_count</th>\n",
       "      <th>retweet_count</th>\n",
       "      <th>compound</th>\n",
       "      <th>subjectivity</th>\n",
       "      <th>polarity</th>\n",
       "      <th>polarity_chg</th>\n",
       "    </tr>\n",
       "  </thead>\n",
       "  <tbody>\n",
       "    <tr>\n",
       "      <th>0</th>\n",
       "      <td>2021-11-04</td>\n",
       "      <td>Proud of the team for another strong quarter! ...</td>\n",
       "      <td>1456394103789277186</td>\n",
       "      <td>&lt;a href=\"http://twitter.com/download/iphone\" r...</td>\n",
       "      <td>61</td>\n",
       "      <td>3</td>\n",
       "      <td>0.8516</td>\n",
       "      <td>0.744444</td>\n",
       "      <td>0.447222</td>\n",
       "      <td>inf</td>\n",
       "    </tr>\n",
       "    <tr>\n",
       "      <th>1</th>\n",
       "      <td>2021-11-04</td>\n",
       "      <td>Congrats Kyle!</td>\n",
       "      <td>1456105938201374727</td>\n",
       "      <td>&lt;a href=\"http://twitter.com/download/iphone\" r...</td>\n",
       "      <td>33</td>\n",
       "      <td>4</td>\n",
       "      <td>0.5707</td>\n",
       "      <td>0.000000</td>\n",
       "      <td>0.000000</td>\n",
       "      <td>0.000000</td>\n",
       "    </tr>\n",
       "    <tr>\n",
       "      <th>2</th>\n",
       "      <td>2021-10-29</td>\n",
       "      <td>Excited for  to join the Dropbox family! Unive...</td>\n",
       "      <td>1454105958913691650</td>\n",
       "      <td>&lt;a href=\"https://mobile.twitter.com\" rel=\"nofo...</td>\n",
       "      <td>95</td>\n",
       "      <td>13</td>\n",
       "      <td>0.8745</td>\n",
       "      <td>0.662500</td>\n",
       "      <td>0.467187</td>\n",
       "      <td>-2.002232</td>\n",
       "    </tr>\n",
       "    <tr>\n",
       "      <th>3</th>\n",
       "      <td>2021-10-28</td>\n",
       "      <td>We're certainly supporting Apple Silicon, sorr...</td>\n",
       "      <td>1453765978198732802</td>\n",
       "      <td>&lt;a href=\"https://mobile.twitter.com\" rel=\"nofo...</td>\n",
       "      <td>479</td>\n",
       "      <td>48</td>\n",
       "      <td>0.7279</td>\n",
       "      <td>0.750000</td>\n",
       "      <td>-0.233333</td>\n",
       "      <td>-0.291667</td>\n",
       "    </tr>\n",
       "    <tr>\n",
       "      <th>4</th>\n",
       "      <td>2021-10-28</td>\n",
       "      <td>Our communication in the support thread was...</td>\n",
       "      <td>1453763456398548993</td>\n",
       "      <td>&lt;a href=\"https://mobile.twitter.com\" rel=\"nofo...</td>\n",
       "      <td>8</td>\n",
       "      <td>0</td>\n",
       "      <td>0.5867</td>\n",
       "      <td>0.750000</td>\n",
       "      <td>0.800000</td>\n",
       "      <td>2.000000</td>\n",
       "    </tr>\n",
       "    <tr>\n",
       "      <th>...</th>\n",
       "      <td>...</td>\n",
       "      <td>...</td>\n",
       "      <td>...</td>\n",
       "      <td>...</td>\n",
       "      <td>...</td>\n",
       "      <td>...</td>\n",
       "      <td>...</td>\n",
       "      <td>...</td>\n",
       "      <td>...</td>\n",
       "      <td>...</td>\n",
       "    </tr>\n",
       "    <tr>\n",
       "      <th>463</th>\n",
       "      <td>2008-10-27</td>\n",
       "      <td>Josh Groban singing Disarm... my inner 14-year...</td>\n",
       "      <td>976758647</td>\n",
       "      <td>&lt;a href=\"http://twitter.com\" rel=\"nofollow\"&gt;Tw...</td>\n",
       "      <td>0</td>\n",
       "      <td>0</td>\n",
       "      <td>-0.2263</td>\n",
       "      <td>0.166667</td>\n",
       "      <td>0.000000</td>\n",
       "      <td>0.000000</td>\n",
       "    </tr>\n",
       "    <tr>\n",
       "      <th>464</th>\n",
       "      <td>2008-09-06</td>\n",
       "      <td>wish for more dropbox space granted!</td>\n",
       "      <td>912279893</td>\n",
       "      <td>&lt;a href=\"http://twitter.com\" rel=\"nofollow\"&gt;Tw...</td>\n",
       "      <td>0</td>\n",
       "      <td>0</td>\n",
       "      <td>0.6435</td>\n",
       "      <td>0.500000</td>\n",
       "      <td>0.625000</td>\n",
       "      <td>12.500000</td>\n",
       "    </tr>\n",
       "    <tr>\n",
       "      <th>465</th>\n",
       "      <td>2008-08-27</td>\n",
       "      <td>what happened? email us beta.com, it's pretty...</td>\n",
       "      <td>900233191</td>\n",
       "      <td>&lt;a href=\"http://twitter.com\" rel=\"nofollow\"&gt;Tw...</td>\n",
       "      <td>0</td>\n",
       "      <td>0</td>\n",
       "      <td>0.7351</td>\n",
       "      <td>1.000000</td>\n",
       "      <td>0.050000</td>\n",
       "      <td>0.125000</td>\n",
       "    </tr>\n",
       "    <tr>\n",
       "      <th>466</th>\n",
       "      <td>2008-05-15</td>\n",
       "      <td>thanks for the love :)</td>\n",
       "      <td>811537015</td>\n",
       "      <td>&lt;a href=\"http://twitter.com\" rel=\"nofollow\"&gt;Tw...</td>\n",
       "      <td>0</td>\n",
       "      <td>0</td>\n",
       "      <td>0.8779</td>\n",
       "      <td>0.600000</td>\n",
       "      <td>0.400000</td>\n",
       "      <td>-2.739300</td>\n",
       "    </tr>\n",
       "    <tr>\n",
       "      <th>467</th>\n",
       "      <td>2008-04-09</td>\n",
       "      <td>and other folks who got \"invalid beta codes\" ...</td>\n",
       "      <td>785593826</td>\n",
       "      <td>&lt;a href=\"http://twitter.com\" rel=\"nofollow\"&gt;Tw...</td>\n",
       "      <td>0</td>\n",
       "      <td>0</td>\n",
       "      <td>-0.2023</td>\n",
       "      <td>0.673611</td>\n",
       "      <td>-0.146023</td>\n",
       "      <td>-0.146023</td>\n",
       "    </tr>\n",
       "  </tbody>\n",
       "</table>\n",
       "<p>468 rows × 10 columns</p>\n",
       "</div>"
      ],
      "text/plain": [
       "          date                                          full_text  \\\n",
       "0   2021-11-04  Proud of the team for another strong quarter! ...   \n",
       "1   2021-11-04                                    Congrats Kyle!    \n",
       "2   2021-10-29  Excited for  to join the Dropbox family! Unive...   \n",
       "3   2021-10-28  We're certainly supporting Apple Silicon, sorr...   \n",
       "4   2021-10-28     Our communication in the support thread was...   \n",
       "..         ...                                                ...   \n",
       "463 2008-10-27  Josh Groban singing Disarm... my inner 14-year...   \n",
       "464 2008-09-06               wish for more dropbox space granted!   \n",
       "465 2008-08-27   what happened? email us beta.com, it's pretty...   \n",
       "466 2008-05-15                             thanks for the love :)   \n",
       "467 2008-04-09   and other folks who got \"invalid beta codes\" ...   \n",
       "\n",
       "                      id                                             source  \\\n",
       "0    1456394103789277186  <a href=\"http://twitter.com/download/iphone\" r...   \n",
       "1    1456105938201374727  <a href=\"http://twitter.com/download/iphone\" r...   \n",
       "2    1454105958913691650  <a href=\"https://mobile.twitter.com\" rel=\"nofo...   \n",
       "3    1453765978198732802  <a href=\"https://mobile.twitter.com\" rel=\"nofo...   \n",
       "4    1453763456398548993  <a href=\"https://mobile.twitter.com\" rel=\"nofo...   \n",
       "..                   ...                                                ...   \n",
       "463            976758647  <a href=\"http://twitter.com\" rel=\"nofollow\">Tw...   \n",
       "464            912279893  <a href=\"http://twitter.com\" rel=\"nofollow\">Tw...   \n",
       "465            900233191  <a href=\"http://twitter.com\" rel=\"nofollow\">Tw...   \n",
       "466            811537015  <a href=\"http://twitter.com\" rel=\"nofollow\">Tw...   \n",
       "467            785593826  <a href=\"http://twitter.com\" rel=\"nofollow\">Tw...   \n",
       "\n",
       "     favorite_count  retweet_count  compound  subjectivity  polarity  \\\n",
       "0                61              3    0.8516      0.744444  0.447222   \n",
       "1                33              4    0.5707      0.000000  0.000000   \n",
       "2                95             13    0.8745      0.662500  0.467187   \n",
       "3               479             48    0.7279      0.750000 -0.233333   \n",
       "4                 8              0    0.5867      0.750000  0.800000   \n",
       "..              ...            ...       ...           ...       ...   \n",
       "463               0              0   -0.2263      0.166667  0.000000   \n",
       "464               0              0    0.6435      0.500000  0.625000   \n",
       "465               0              0    0.7351      1.000000  0.050000   \n",
       "466               0              0    0.8779      0.600000  0.400000   \n",
       "467               0              0   -0.2023      0.673611 -0.146023   \n",
       "\n",
       "     polarity_chg  \n",
       "0             inf  \n",
       "1        0.000000  \n",
       "2       -2.002232  \n",
       "3       -0.291667  \n",
       "4        2.000000  \n",
       "..            ...  \n",
       "463      0.000000  \n",
       "464     12.500000  \n",
       "465      0.125000  \n",
       "466     -2.739300  \n",
       "467     -0.146023  \n",
       "\n",
       "[468 rows x 10 columns]"
      ]
     },
     "execution_count": 150,
     "metadata": {},
     "output_type": "execute_result"
    }
   ],
   "source": [
    "df1"
   ]
  },
  {
   "cell_type": "code",
   "execution_count": 155,
   "id": "b136a692-9936-487c-a7c5-efa4a8859419",
   "metadata": {},
   "outputs": [
    {
     "data": {
      "application/vnd.plotly.v1+json": {
       "config": {
        "plotlyServerURL": "https://plot.ly"
       },
       "data": [
        {
         "hovertemplate": "Polarity of Tweets: %{x:.1f}<br>Stock Price Change: %{y:.1f}<br>Number of Likes: %{marker.size:,}<extra></extra>",
         "marker": {
          "size": [
           61,
           33,
           95,
           479,
           8,
           83,
           118,
           0,
           29,
           57,
           0,
           161,
           36,
           0,
           266,
           340,
           17,
           0,
           79,
           26,
           287,
           49,
           90,
           46,
           139,
           55,
           36,
           343,
           0,
           0,
           170,
           115,
           158,
           805,
           383,
           0,
           180,
           0,
           455,
           1450,
           660,
           87,
           0,
           287,
           180,
           66,
           0,
           43,
           154,
           0,
           0,
           0,
           50,
           20,
           158,
           22,
           64,
           555,
           0,
           25,
           36,
           0,
           73,
           96,
           91,
           0,
           0,
           0,
           163,
           203,
           288,
           37,
           1588,
           223,
           107,
           33,
           390,
           0,
           1778,
           667,
           157,
           136,
           335,
           0,
           0,
           0,
           0,
           0,
           0,
           22,
           221,
           610,
           0,
           223,
           0,
           0,
           28,
           0,
           0,
           0,
           0,
           0,
           38,
           0,
           0,
           116,
           40,
           50,
           40,
           31,
           43,
           0,
           23,
           0,
           0,
           91,
           1802,
           1932,
           0,
           0,
           0,
           54,
           69,
           0,
           54,
           0,
           0,
           100,
           168,
           0,
           0,
           318,
           62,
           0,
           0,
           0,
           0,
           75,
           0,
           60,
           0,
           0,
           47,
           0,
           0,
           244,
           0,
           0,
           0,
           0,
           0,
           68,
           0,
           0,
           79,
           0,
           0,
           0,
           0,
           46,
           86,
           0,
           91,
           0,
           40,
           27,
           0,
           0,
           0,
           0,
           0,
           70,
           18,
           26,
           0,
           128,
           0,
           0,
           0,
           25,
           142,
           25,
           23,
           0,
           0,
           3,
           0,
           0,
           0,
           16,
           0,
           0,
           0,
           0,
           0,
           0,
           0,
           61,
           23,
           0,
           9,
           0,
           0,
           0,
           26,
           0,
           0,
           0,
           28,
           4,
           27,
           0,
           0,
           0,
           0,
           0,
           0,
           40,
           31,
           0,
           0,
           0,
           0,
           0,
           5,
           0,
           3,
           0,
           28,
           0,
           21,
           0,
           0,
           42,
           0,
           2,
           0,
           9,
           0,
           12,
           0,
           75,
           32,
           39,
           0,
           0,
           13,
           0,
           0,
           74,
           2,
           11,
           5,
           0,
           8,
           0,
           34,
           0,
           0,
           0,
           4,
           23,
           3,
           2,
           0,
           0,
           4,
           4,
           3,
           0,
           0,
           0,
           0,
           0,
           11,
           0,
           0,
           316,
           0,
           14,
           8,
           0,
           1,
           17,
           0,
           1,
           0,
           0,
           1,
           1,
           6,
           1,
           5,
           0,
           0,
           2,
           1,
           0,
           11,
           0,
           6,
           0,
           0,
           0,
           0,
           0,
           0,
           0,
           1,
           0,
           13,
           0,
           0,
           4,
           0,
           8,
           0,
           0,
           0,
           0,
           0,
           0,
           1,
           0,
           0,
           0,
           1,
           0,
           5,
           0,
           0,
           0,
           1,
           0,
           0,
           0,
           0,
           4,
           0,
           2,
           0,
           2,
           0,
           0,
           1,
           0,
           0,
           0,
           0,
           0,
           0,
           1,
           1,
           0,
           0,
           0,
           0,
           0,
           0,
           0,
           0,
           0,
           0,
           0,
           0,
           19,
           2,
           2,
           19,
           1,
           2,
           0,
           0,
           0,
           1,
           0,
           0,
           1,
           0,
           0,
           0,
           1,
           0,
           0,
           0,
           0,
           0,
           0,
           0,
           0,
           1,
           0,
           0,
           0,
           0,
           0,
           4,
           1,
           0,
           0,
           1,
           0,
           1,
           0,
           0,
           2,
           1,
           1,
           0,
           0,
           0,
           0,
           0,
           0,
           0,
           0,
           0,
           0,
           0,
           2,
           3,
           0,
           0,
           0,
           0,
           0,
           0,
           0,
           0,
           0,
           0,
           0,
           0,
           0,
           0,
           0,
           1,
           0,
           0,
           0,
           0,
           0,
           0,
           0,
           0,
           0,
           0,
           0,
           0,
           0,
           0,
           0,
           0,
           0,
           0,
           0,
           0,
           0,
           0,
           0,
           0,
           0,
           0,
           0,
           0,
           0,
           0,
           0
          ],
          "sizemode": "area",
          "sizeref": 3.864
         },
         "mode": "markers",
         "type": "scatter",
         "x": [
          0.44722222222222224,
          0,
          0.4671875,
          -0.2333333333333333,
          0.8,
          0.4,
          -0.2333333333333333,
          0,
          0,
          0.36742424242424243,
          0.625,
          0.9,
          0.8,
          0.425,
          -0.1875,
          1,
          -0.7142857142857143,
          -0.002222222222222218,
          0.4,
          0,
          0.6875,
          0.334375,
          0.6875,
          0.35000000000000003,
          0.4027777777777778,
          0.2727272727272727,
          0,
          0.23727272727272722,
          0,
          0.5041666666666667,
          0.43333333333333335,
          0.005208333333333315,
          -0.16666666666666666,
          0.25,
          -0.4333333333333333,
          0.033333333333333326,
          0.20555555555555557,
          -0.0125,
          0.9,
          0,
          0.35416666666666663,
          0.48522727272727273,
          0,
          0.10277777777777779,
          0.8,
          0.5454545454545454,
          0.30000000000000004,
          0.46875,
          0.465625,
          0.14250000000000002,
          0.2215909090909091,
          0.4375,
          0,
          0,
          0.11249999999999999,
          0,
          0,
          0.3267045454545454,
          0.1787878787878788,
          -0.1,
          0.8,
          0,
          0.6,
          0.2333333333333333,
          0.1875,
          0,
          0.7000000000000001,
          0,
          1,
          0,
          -1,
          0,
          0.7500000000000001,
          0.2,
          0,
          0,
          0,
          0.5,
          0,
          0,
          0.7000000000000001,
          0.6,
          0,
          0,
          0.3,
          0.15854978354978355,
          0,
          0,
          0.5,
          1,
          0.8,
          0,
          0.8,
          0.4,
          0.375,
          -0.20277777777777778,
          0,
          0.5,
          0.16666666666666666,
          0,
          0.07142857142857142,
          0.10714285714285714,
          1,
          0,
          0,
          0.2,
          0,
          0,
          0.4666666666666666,
          0,
          1,
          0.23611111111111108,
          0.375,
          0.4787878787878788,
          1,
          0.45,
          0,
          0,
          0.08333333333333333,
          0,
          0.9,
          0.48522727272727273,
          0.2852272727272728,
          0,
          0,
          0.4,
          0,
          0,
          -1,
          0.44285714285714284,
          1,
          0.3068181818181819,
          0.5,
          0.22727272727272727,
          0.22727272727272727,
          0.31477272727272726,
          0.06666666666666667,
          1,
          0,
          0,
          0.13636363636363635,
          0.1,
          -0.13333333333333333,
          -0.18125,
          0.5,
          0.5,
          -0.2,
          0.25,
          0,
          0.06818181818181818,
          0.17045454545454544,
          0,
          0.5000000000000001,
          0,
          0,
          0.3565656565656566,
          0.6000000000000001,
          0.5625,
          0,
          0.3,
          0.6875,
          0.80625,
          0.3,
          0.17222222222222222,
          0.36761363636363636,
          0,
          0,
          0.3181818181818182,
          0,
          0.04545454545454545,
          0.2,
          0,
          0,
          0.625,
          0.5,
          0,
          0.5,
          0.1,
          0.5454545454545454,
          0,
          0.18522727272727274,
          0,
          0,
          0,
          0.45,
          0.5,
          0.3181818181818182,
          0.4,
          0.4321212121212121,
          0.6875,
          -0.1,
          -0.6999999999999998,
          0,
          0,
          0,
          0,
          0,
          0.5,
          1,
          0,
          0.225,
          0.13636363636363635,
          0,
          0.20500000000000002,
          0,
          0,
          -0.3888888888888889,
          0.6,
          0.6875,
          0.5,
          0.08750000000000002,
          0.06666666666666667,
          0.125,
          0.48750000000000004,
          0,
          0.16818181818181818,
          0,
          0.375,
          0,
          0.8,
          0.03125,
          0,
          0,
          0,
          0,
          0.2916666666666667,
          0,
          0.234375,
          0.5,
          0,
          0.5875,
          0.5125,
          0,
          0.8,
          0.6375,
          0,
          0.35625,
          0,
          0,
          0,
          0,
          0.5,
          0,
          0.13333333333333333,
          0.033333333333333326,
          0.8,
          0,
          -0.4,
          0.9375,
          0.46875,
          0.5,
          0,
          0.21428571428571427,
          0,
          0.375,
          0.6714285714285714,
          1,
          0.375,
          0.3852272727272727,
          0.45,
          1,
          1,
          -0.2,
          0,
          0.5,
          0.25,
          0,
          -0.5,
          0.4,
          0.8,
          0,
          0.17045454545454544,
          1,
          0.5625,
          0,
          0.5,
          0.34375,
          0.1875,
          -0.3333333333333333,
          0.06818181818181818,
          0,
          -0.1,
          -1,
          0.21818181818181817,
          0.78125,
          0.6000000000000001,
          0.25,
          0,
          0.5,
          0.1444444444444445,
          0,
          0.55,
          0.7,
          -0.051851851851851864,
          0.6,
          -0.5,
          -0.05,
          0.5416666666666666,
          0.25833333333333336,
          0.25,
          0.06818181818181818,
          0,
          0.25,
          0,
          0.5,
          0,
          0.3148148148148148,
          0.4625,
          0,
          0.75,
          0.5,
          0.3333333333333333,
          0,
          0.13636363636363635,
          0.43333333333333335,
          0,
          0,
          0,
          0.5,
          0.5,
          -0.5055555555555555,
          0.23153409090909088,
          0.4055555555555556,
          0,
          0,
          0,
          0,
          0,
          0.8,
          0,
          0.1,
          0.2,
          0.625,
          0,
          -0.03333333333333335,
          0.46875,
          0.25,
          0.5,
          0.27878787878787875,
          0.35,
          0.575,
          0.0875,
          -0.2,
          0.4,
          0.375,
          0.2,
          0.8,
          0.1,
          0,
          0.25,
          0,
          0.8,
          0,
          0.12500000000000003,
          0,
          -0.15555555555555559,
          0,
          0.1,
          -0.056249999999999994,
          0.2,
          0,
          0,
          -0.15000000000000002,
          1,
          0.225,
          0,
          0,
          0.1,
          0.8,
          0.375,
          -0.25,
          0.75,
          0.46875,
          -0.2916666666666667,
          0,
          -0.2,
          -0.27222222222222225,
          0.5,
          -0.17499999999999996,
          0.14375,
          0.17083333333333336,
          0.8,
          0.5,
          0.15625,
          0.1,
          0,
          0.25,
          0.8,
          0,
          0.15,
          0.7,
          0.12,
          0.3653409090909091,
          -0.4,
          -0.5,
          1,
          0.6,
          -0.6,
          0,
          -0.15555555555555559,
          -0.7142857142857143,
          0.02777777777777778,
          0,
          -0.5,
          0.1,
          0,
          0.1,
          0.1,
          0,
          0.25625,
          0,
          -0.2,
          0.23888888888888893,
          0,
          0.25,
          0.18125,
          0,
          -0.6,
          0.5,
          0.3579545454545454,
          0.125,
          0,
          -0.1875,
          0,
          0.6000000000000001,
          0.3375,
          0.175,
          -0.3333333333333333,
          0,
          0.25,
          0,
          0.5166666666666666,
          0,
          0.5,
          0,
          0,
          0.2,
          0.078125,
          0.17380952380952377,
          -0.1,
          0,
          0.08333333333333333,
          0.19999999999999998,
          -0.3,
          0,
          0,
          -0.08333333333333334,
          0,
          -0.0625,
          0.35,
          0,
          0.5,
          0,
          0.2,
          0.5,
          -0.2318181818181818,
          0.6499999999999999,
          0,
          0.5,
          0,
          0.10714285714285714,
          0.3333333333333333,
          0,
          0,
          0.625,
          0.05000000000000001,
          0.39999999999999997,
          -0.14602272727272725
         ],
         "y": [
          null,
          1.0691713834269663,
          0.9819375703797185,
          1.0361204013377927,
          1.0087153001936733,
          0.9603200000000001,
          1.052649116961013,
          0.9765748654637544,
          0.9897893030794165,
          0.9903389552971998,
          0.9966930886243387,
          1.0361645997400333,
          1.0349023374959974,
          1.0293935643564358,
          0.9017132551848511,
          0.9673333333333333,
          1.0279117849758788,
          1.024471974522293,
          0.9784031733770671,
          0.9672240802675587,
          1.0065698824343015,
          0.9941600826465103,
          0.9896336561978696,
          1.0240922145283593,
          1.0095465734742586,
          1.0168861865286665,
          1.026237096438489,
          1.0035598705501618,
          0.9735569493711705,
          0.9648889710205708,
          1.0096121184212878,
          1.0278816729003741,
          1.038703274892491,
          1.019108280254777,
          0.97750003125,
          0.9578004489194231,
          0.9863150863256037,
          1.0402707627841206,
          0.9938190956408589,
          0.9885434366135332,
          0.9963575829020668,
          1,
          0.9883682286473912,
          1.0154674176193679,
          0.9923840399872835,
          0.9936603935155286,
          1.0231698447558817,
          0.9842468324334371,
          0.9886628876292097,
          1.0111298482293425,
          1.0303535356904603,
          1.011006831045867,
          0.9692603266090297,
          0.9897588040964651,
          1.0046729307300712,
          1.024252491694352,
          1.0272461887771651,
          1.140511493526997,
          1.0963454899320457,
          1.060606114172026,
          0.945238119047619,
          0.9395465506411448,
          0.956836459968806,
          0.944802520168185,
          0.964412782787284,
          1.0076875768757687,
          0.9527006103143119,
          1.0698271322814583,
          0.9706585646312237,
          1.0117211913461561,
          0.9756097858417617,
          0.98312496875,
          0.9968214239294795,
          1.013392856715789,
          0.9842668349821638,
          0.9891304351301012,
          1.047834419914854,
          0.9922887101967125,
          1.0031085485302176,
          0.9807871087697551,
          0.9870458135860979,
          1.0019205825864277,
          0.9904153671059223,
          1.0258064193548386,
          0.9669811624836844,
          1.018211349593496,
          0.9808367927447075,
          0.9778574398520821,
          0.9247418939479889,
          0.9639899171768095,
          1.0388494209936496,
          1.0719165793569427,
          1.005367326580588,
          1.0103437440888803,
          1.0409510884758557,
          1.0009517449238579,
          1.0912837112926692,
          0.9018297705489399,
          0.9391304650283564,
          0.9934841906721537,
          1,
          0.9744563677755046,
          0.9744952178533476,
          1.0039985823336968,
          1.023533634195017,
          0.9932790944464096,
          1.0092592592592593,
          0.9537756175017642,
          1.012948501185775,
          0.99196497414043,
          0.9944771723122239,
          0.9885228063680118,
          1.0056179398644967,
          1.0040967970204842,
          0.986646920869693,
          0.9676691729323307,
          1.0396270396270397,
          1.0044842675635277,
          1.0033482144102759,
          0.969225063745831,
          0.9843152633632465,
          1.0136027982899338,
          1.0046012653374234,
          1.006106869995921,
          0.9734445761212225,
          1.0327357755261106,
          0.9947170188679245,
          0.9988618740947695,
          1.0307633497911128,
          0.9988946941376086,
          0.9977867208488852,
          0.991866949791754,
          0.9772642191576595,
          1.0038139208167018,
          0.9973404255319149,
          0.9348571809523809,
          0.9808475557926831,
          0.9493144993768177,
          0.9956236323851203,
          1.0013187252747253,
          1.0039508338915348,
          1.045911628950082,
          1.0020902591973244,
          1.0387985414600975,
          0.9983936144578314,
          0.9730490759030942,
          0.966515007585159,
          1.001710906831091,
          0.9974381298035866,
          0.9413526994283946,
          1.0163710777626196,
          0.9713646085011185,
          1.0138185635107584,
          1.0358927305770103,
          1.0293859662011389,
          1.0106518964913462,
          1.0130692248342843,
          1.00124835616944,
          0.9995843723850528,
          1.0399168831566272,
          0.9892043182726908,
          1.0327404607922392,
          0.9526419159546738,
          0.9724732949876747,
          0.9953527249683143,
          1.0441426589194678,
          0.9459349593495934,
          0.9260850451224752,
          0.9953597213624001,
          1.013985966713941,
          1.0275862068965518,
          1.0586129753914988,
          0.9737954775993237,
          1.0499131922780731,
          1.0111615538998944,
          0.9562551085958753,
          1.0162463025329758,
          0.9432057214976862,
          1,
          0.9594112399643175,
          1.0232450023245003,
          1.0254429804634257,
          1.0106335400974746,
          1.0166594483410543,
          0.9745579571126367,
          0.9628318584070796,
          0.9862131893382352,
          1.0046598324631797,
          0.9448052850095214,
          0.9513990205498765,
          1.0190918998499432,
          1.0511392405063291,
          1.0052986994219653,
          0.996166746709787,
          0.9826839354168381,
          1.011747430249633,
          0.9719400096758587,
          1.0592334992533599,
          1.022556342924984,
          1.0142463235294117,
          1.010421341187132,
          1.0085202245973195,
          0.995553534904402,
          0.9830281814661984,
          1.0258973194002725,
          0.9955713020372011,
          1.005338078291815,
          1.0438053097345132,
          0.9707503179313268,
          1.0179038864628822,
          1.0034320035792366,
          1.021804233510228,
          1.01004179916318,
          0.9627175212393339,
          1.0296901893287436,
          1.0325950271625575,
          0.9809794002824525,
          1.0136138613861387,
          1.0256410663410664,
          1.0015872618417752,
          0.9821711965134707,
          1.0254134318106725,
          0.9893784421715184,
          1.0111332007952287,
          1.0007865119937083,
          1.0129666006692888,
          0.9906904580802771,
          1.0176193806726945,
          0.9807618314736437,
          1.0039231071008239,
          0.9163736225087925,
          1.0059701063552193,
          1.0317931326833405,
          0.9958915365653245,
          0.9843234735973598,
          1.0012572505759745,
          0.9987443281182222,
          0.9865884330851453,
          0.9613423126022808,
          0.994697348417912,
          0.9875610839626832,
          1.0184434997750786,
          1.020759806570663,
          0.977498875919564,
          0.9796369632580789,
          1.0081337554511411,
          0.9932766021190766,
          1.0072202166064983,
          0.9901433691756273,
          1.025339366515837,
          0.9585171668137689,
          1.0050645029956031,
          1.0059550618415025,
          0.9754098804831458,
          1.003734827264239,
          1.0139534418604652,
          0.9894495866719994,
          1.0259619378766807,
          1.006778219917678,
          0.9829443005859829,
          1.0022831506849317,
          1.0086559449359478,
          0.9909666662586569,
          1.0154968087740743,
          0.9910232948373745,
          1.0117753623188406,
          0.9914950760966875,
          0.9841986004514673,
          0.9701835307423637,
          1.0047281323877069,
          1.0898823529411765,
          1.0073402417962003,
          1.003000428632662,
          1.0106837606837606,
          1.0295983086680762,
          1.0024640657084187,
          0.9987709545268333,
          0.9803117711366599,
          1.002928828451883,
          1.0187735093355657,
          0.9893529893529893,
          0.9764072847682119,
          1.003391267486223,
          0.9814110688635403,
          1.0116229014205769,
          0.9225531914893617,
          1.0235240313653136,
          1.027940422355096,
          1.031126744021339,
          0.9778911564625851,
          1.0060869130434782,
          1.002592999247753,
          1.0004309482572866,
          0.9719948286081357,
          1.0017730940502259,
          1.0022123893805308,
          0.9986755408388521,
          0.9893898324761349,
          1.008042895801738,
          0.9898050084133424,
          0.9793999552171966,
          1.0461818908924605,
          0.9982517918816342,
          1.0083187828371278,
          0.9874076861742211,
          0.9973614775725594,
          1.015432142857143,
          1.044289967681721,
          0.9754677744477245,
          1.0034101450728963,
          1.0127442220584442,
          1.0151007130872483,
          1.0132230986271447,
          1.019983686786297,
          0.9916033186725309,
          0.9665322567150104,
          1.0271173144396042,
          1.0134037362549255,
          1.0040079357111047,
          0.998403233469191,
          0.9996001599360256,
          1.0031999999999999,
          1.003189792663477,
          0.9916534578696343,
          1.0104207611053804,
          1.011900079805636,
          1.0176401019208152,
          0.9965332047971188,
          1.0100501735581688,
          0.9739763480281801,
          0.9842828296941913,
          0.9972056286309633,
          0.977982385908727,
          0.9987720016373312,
          0.993032786885246,
          1.0185720181593065,
          0.9947325364667747,
          1.0032586559372163,
          0.971985463742812,
          0.9941519634857159,
          0.9899159659628558,
          0.9974533530328248,
          0.9795744680851064,
          0.9474369678540401,
          0.9949565334688919,
          0.9566819835630422,
          1.033718641618497,
          0.8718546072625633,
          0.9738107949658362,
          1.008232821527597,
          0.9564506828279433,
          0.9823562891291976,
          1.0127462340672073,
          1.0177346109839818,
          1.0005620010926362,
          1.0067416295922265,
          1.0044642857142856,
          0.9866666666666668,
          0.9966216779279279,
          0.9903954807686168,
          1.00684535043666,
          1.0141643059490084,
          1,
          1.0027933519553074,
          1.0239553189997037,
          1.0261154529986645,
          1.0058323432750613,
          1.0268846086918613,
          1.030287474332649,
          1.0124564025909317,
          0.9852362204724409,
          1.001997952047952,
          1.0169492032377467,
          1.023529362745098,
          1.003831417808018,
          1.0033397902356769,
          1,
          0.9640988604803205,
          0.9760789642416771,
          0.997978726731747,
          1.0162025316455696,
          0.9850523168908819,
          1.020232675771371,
          0.9890927615270203,
          0.9654134854429332,
          1.0109033748701972,
          1,
          1.0118131490402233,
          0.9784263462727742,
          0.9878080933852141,
          0.985294065898421,
          1.0269189232409381,
          1.0038931224444911,
          1.003878024819028,
          0.9755343818936707,
          1,
          0.9722808884751379,
          1.0274232404331665,
          1.0211416490486258,
          0.9943063664596273,
          1.0176991159655968,
          1.009207212747172,
          1.0172326406487582,
          0.9995016940707524,
          0.9995014954886089,
          0.9885287276074178,
          1.0216952573158427,
          1.014321037037037,
          1.0160662114865524,
          0.9851460476690922,
          1.0194552538645552,
          0.9444179839894077,
          0.9527659004799192,
          1.0026510603048218,
          1.0285563722897937,
          0.9686374823322631,
          1.0196390127388535,
          0.9875065063772258,
          1.003162994368107,
          0.9947450869813407,
          0.9783412572636028,
          1.0248380129589634,
          1.0026344046364593,
          0.9931686288403243,
          0.9894180423280424,
          0.9887700006005347,
          0.9924283396430504,
          0.9918256675749318,
          1.003296648170514,
          0.9890470427163198,
          1.0116279629915814,
          0.9901477832512315,
          0.9845217799889442,
          0.9679955624927321,
          0.9715777262180976,
          1.0029850149253732,
          1.019047739229032,
          1.0023363900504445,
          1.0023310606060607,
          1.0558138921038436,
          0.983480231277533,
          0.9952407057535998,
          1.0002813502109704,
          1,
          0.9966253095261357,
          0.9932280470218988,
          1.0176136363636363,
          1.0100502512562815,
          0.9950248756218906,
          1.0294444999999999,
          1,
          0.9962222344186599,
          0.9951247017944042,
          0.9700598274327803,
          1.0022447250280584,
          1.0081185885711876,
          1.0169397399022349,
          0.9830694146952165,
          1.001111111111111,
          0.9789122641509433,
          0.9937642853607871,
          1.0102679971324589,
          0.979107903958662,
          0.977508708189158,
          1.0112093208726063,
          0.9889149351759006,
          1.003539763802964,
          1.0005878894767783,
          0.9935370152761458,
          1.0112359550561798,
          1.029824619883041,
          1.0369107872282348,
          0.9912376779846659,
          1.0237569613259667,
          1.003777603681727,
          0.9983870967741935,
          1.0021540656973613,
          0.9957012361256723,
          0.9924445767703952,
          0.9961936376396758,
          1.021561135371179,
          1.1995725888324873,
          0.9692649902331854,
          0.9485293658088234,
          0.9631782927896461,
          0.9723340529343083,
          1.0118985514743923,
          0.9861964205621891,
          1.0012960082272675,
          1.025109913274144,
          0.9767677260993801,
          1.0036194415718718,
          0.9103554868624422,
          0.9841538766270513,
          0.9292697486641603,
          0.9709158415841583,
          1.1695347355003187,
          0.8762942779291552,
          1.0453979477611943,
          0.9827484225311375,
          1.0786924939467313,
          0.9870931537598204,
          0.9727118249005117,
          1.0987725249110154,
          0.9792553712369878,
          1.0277023356871267,
          0.9381606765327695,
          1.0225352112676056,
          0.9972451790633611,
          0.9878452486187845,
          1.0195750010947986,
          0.9851891936368623,
          1.0055679290405306,
          0.980066554820961,
          1.0333333314500943,
          0.9874247136454504,
          1.0260244754166374,
          1.0253642188146672,
          0.9973684736842106,
          0.9886543541607201,
          1.0237522805576578,
          1.0604796663190823,
          0.9665683382497542,
          1.015768006103764,
          0.9932398594511697,
          1.0186539459870907,
          1.0294481069042316,
          0.9879807686529216,
          1.0209246238892762,
          1.001906577693041,
          0.9324452901998098,
          1.0142856632653061,
          1.0077968313781103,
          1.015472872473172,
          1.0759400381391022,
          0.9995431703765725,
          1.0484461630916893,
          0.9646904113038183,
          0.9724356517142182,
          0.9990706319702602,
          1.0404651627906976,
          0.9651318299002312,
          1.0074108383510885,
          1.0218390804597701,
          0.9957254893138358,
          0.9789878887929456,
          1.0570043361641202,
          0.996069825327511,
          0.9903551508266177,
          0.9991146525011066,
          1.0429774479397431,
          0.9885301194337247,
          1.0120326171035667,
          0.9885351162859921,
          0.944158035044758,
          1.0254777525022747,
          0.9729369577224065,
          1.002279981760146,
          0.9290263876251138,
          1.0298727228207638,
          1.023299998892059,
          1.047862407063197,
          1.007095343995359,
          1.0127697495715433,
          1.0130434347826087,
          1.0090129188417563,
          1.0059549128030625,
          0.9572938266384778,
          0.9787986298055932,
          0.9688627707581228,
          0.9916163014260038,
          1.0225457481190348,
          1.0004593936610013,
          0.994031175664317,
          1.035565819861432,
          1.0008921052631579,
          1.0133689387981757,
          0.9850483729111698,
          0.9870536160714286,
          0.9163274121968606,
          1.0014807996051331,
          1.027599752212925,
          0.9908872901678657,
          1.0082284607938043,
          1.098895775324052,
          0.979467058954437,
          0.9879571810883139,
          0.9860045146726862,
          0.9775641025641026,
          1.0093676346604215,
          1.0334107208079222,
          1.01302195779075,
          0.9924645386730735,
          1.0160786519016816,
          1.0180219780219781,
          1.0030224525043179,
          0.9995694791218253,
          1.0021533592658638,
          0.8891276751181779,
          0.9627839070669935,
          0.9869477911646586,
          0.9989826551373346,
          0.9994908350046251,
          0.993377534048779,
          1.0215384615384617,
          1.0281124497991967,
          0.983398388671875,
          1.000993098361127,
          0.9980159226190476,
          1.0044730614078996,
          0.9965363679632048,
          1.0213505968893049,
          0.987360184735051,
          1.020187100944712,
          1.0217181960288704,
          1.007085498346717,
          1.0201688555347093,
          0.9457471264367816,
          0.960136120563928,
          1.0065822278481014,
          1.0238934116646585,
          0.9710144436256447,
          1.0043005820541657,
          1.016624685138539,
          1.0084241823587712,
          0.9936117444717445,
          0.9643917390896013,
          0.9887179999999999,
          0.9974065872714427,
          1.015600676027041,
          0.9820788027609421,
          0.9791449947862356,
          1.0197017561394166,
          1.0067885639686684,
          0.9922198136815451,
          1.0067956616202647,
          1.0111630321910696,
          0.9848523748395378,
          1.0172054223149114,
          0.9882112250128138,
          1.0197094906789683,
          1.0005086469989828,
          1.0366039145907473,
          0.982344383636311,
          1.015476734124976,
          0.9754178957718781,
          1.0151209173387097,
          1.0089374880306599,
          0.9788385334645668,
          0.9944696829798734,
          1.0101111723907397,
          1.011011061061061,
          0.9762375259288354,
          0.9698276353867968,
          0.9950327320261437,
          0.9779295860257706,
          1.007522783045525,
          0.9738666666666668,
          0.9841182365826944,
          1.0127992216360167,
          1.0192306582840298,
          1.0846362309776942,
          0.9515407081739211,
          0.9793679811961348,
          0.9850666133333335,
          1.018949703245788,
          0.9973432518597236,
          1.0154501331912626,
          0.9805877219615803,
          0.9925092566875733,
          0.9935310508642076,
          1.026587086272382,
          1.0058140063424945,
          1.0047293744230492,
          0.9649581608285481,
          1.035772355784696,
          1.0225013070381315,
          1.0220060377683706,
          1.0100150731104194,
          0.9970253346554288,
          1.0059671304839817,
          1.0059317844784974,
          1.0073710073710074,
          1.0531707317073171,
          0.9847151459008802,
          0.9990592662276574,
          1.0588512241054615,
          1.0369052912405514,
          0.9914237135506002,
          1.0173009940613758,
          1.01573125,
          0.9912097526667959,
          0.9945100929054054,
          1.0560510427197896,
          0.9895456377343934,
          1.0016253148465941,
          0.9574036511156188,
          0.9716101694915253,
          0.9856083733100742,
          0.9818584513274335,
          0.9936907618886544,
          1.0081633110278145,
          0.982905982905983,
          1.032494233409611,
          0.997340469740269,
          1.037777777777778,
          1.0111349464668093,
          0.936891150491692,
          1.0257685340972633,
          0.9731158672051182,
          0.9859601449275363,
          1.0183739090491504,
          0.9896256653134866,
          1.0100273012749637,
          0.9936823104693141,
          1.0081744323342416,
          1.0927927435678946,
          0.9515663231657048,
          0.9802902308984289,
          1.0114891741709753,
          1.0096112717173995,
          1.0350497172198305,
          0.9903846571906353,
          1.048543645059365,
          0.999194847020934,
          0.9730056406124092,
          0.9900621118012423,
          0.9912171058134672,
          1.0341771715537058,
          0.9991840065279477,
          0.9840751327072276,
          1.0112033609958504,
          0.9624537971910629,
          0.9592837348113409,
          1.0302222222222222,
          0.9887834339948232,
          0.9877835514834205,
          0.9958039309100677,
          1.0268352184519849,
          0.9913607343412528,
          0.9769062755160665,
          1.0280998661909009,
          1.0186551418071645,
          1.011925042589438,
          1.041245791245791,
          0.9894907033144705,
          1.0396242238562092,
          1.0632612155889503,
          1.0332594247324252,
          0.9924893058830224,
          1.0111711351351351,
          0.9387028132110767,
          1.0197418754745635,
          1.017125799809166,
          1.0010980966325036,
          0.9703839488117001,
          0.9928409573157138,
          1.0091081593927893,
          0.9838285069575028,
          1.003440366972477,
          1.0156190476190476,
          1.027381807951988,
          1.0175247176898399,
          0.9978470757858962,
          0.9931679968776697,
          1.0025343952739176,
          0.9747200803640275,
          0.9651722489811042,
          1.0046065644762598,
          1.0057317539166986,
          1.001899734042553,
          1.0003791429511133,
          0.9901441239630069,
          0.9846859883351461,
          1.005054471425135,
          1.0054158607350097,
          1.0101961908426318,
          1.0116168353310544,
          0.9928464605740384,
          1.0064467195128284,
          0.9886962702073748,
          0.9794207698170733,
          0.9852139694469273,
          0.9881516587677724,
          0.9936051558752999,
          0.9867256642507777,
          1.0069302891589773,
          1.0295546141880723,
          1.0047187966968147,
          0.971037180862512,
          0.9850867386169583,
          1.0384614550547688,
          1.0283688348451077,
          1.0057471264367817,
          1.004952342857143,
          1.015163078664256,
          0.9977594474324329,
          1.0160928523986845,
          0.9845303867403316,
          1.0254395809951364,
          1.0131338927398759,
          0.98487576521426,
          0.9802559049360147,
          1.0391645669214684,
          1.0122038760874417,
          1.0106382620341041,
          1.0221052280701755,
          1.0075523861157702,
          0.9904599659284498,
          1.023391812865497,
          0.9989915630252101,
          0.9932705583200052,
          0.9901761517615176,
          1.008210708176531,
          0.9911774683127745,
          0.9976035603424704,
          1.0048044613865634,
          1.0095627728974463,
          1.0067659339230695,
          1.0026881720430108,
          1.0123994302949062,
          1.0033101623075196,
          1.0046190037815574,
          0.9954022333201238,
          0.9970306828449582,
          1.015221741072857,
          1.0071707953063884,
          1.0077669579288027,
          0.9897238596571567,
          1.0074626541207008,
          0.9919484699500313,
          1.0019481169463675,
          0.9883343814538438,
          0.9822950491803278,
          1.0063418226415828,
          0.9887230182421228,
          1.0231466294245766,
          1.0006557377049181,
          1.0016382699868938,
          1.011122015047432,
          0.9977353607246846,
          1,
          1.0265888456549934,
          1.0028427037271004,
          0.9918110236220472,
          0.9939663067640521,
          1.0057508308546592,
          0.9980940279542567,
          1.005092297899427,
          1.0202660227992402,
          1.0068279948222223,
          0.9972256164372878,
          0.9987636166159887,
          0.9975239555083888,
          0.9968973316785604,
          0.9744786189082285,
          0.9878633340103268,
          1.0016165535079211,
          0.9728857004519045,
          1.0152621438374965,
          1.0098039215686274,
          0.9983818770226538,
          1.0012965640194489,
          0.9944966006635352,
          1.013997428841062,
          1.0025682182985554,
          1.015369804674992,
          1.006622548300932,
          1.0065789786967418,
          1.0080920632402097,
          0.9740660689739447,
          1.0047544217037851,
          1.0126182014946938,
          0.9822430830057995,
          0.990802378978675,
          0.9820742637644047,
          1.0071707953063884,
          1.0051779611650487,
          0.9884095939603861,
          0.9807817595836561,
          1.0056459646082376,
          1.009907496370294,
          1.0225637671680838,
          1.0086345059162136,
          0.9850982566550965,
          0.9530093659478597,
          0.9875041881964137,
          0.9993159712722299,
          1.0075291583685542,
          0.9456521417917072,
          1.0082614942528736,
          1.006768792304952,
          1.024769957537155,
          0.9844613599606824,
          0.9989477376359172,
          1.0168538974719101,
          0.9979282112544271,
          1.0304498615916955,
          1.0171255870676432,
          0.9831627605426622,
          1.014774949134488,
          0.9930509924901056,
          1.0176608130623126,
          0.9927963001703897,
          1.0201187335092348,
          0.9841578079534432,
          0.9855453027087614,
          1.0076666666666667,
          1.0086007277538869,
          0.9990160380452607,
          0.988837885385354,
          1.0199202516626744,
          1.0094401370260462,
          0.8968074492099323,
          1.0118662355938954,
          1.0138593466190244,
          0.9533824061204905,
          0.9871323166495473,
          1.005214152700186,
          0.9859207484253428,
          0.9808342359701527,
          1.0007663218390803,
          0.9812403529387309,
          0.9765900107916508,
          0.9776267687724025,
          1.0020433592988705,
          1.0004078711256117,
          0.9922543419382658,
          1.0250616680361544,
          0.9863727460371645
         ]
        }
       ],
       "layout": {
        "autosize": true,
        "plot_bgcolor": "white",
        "template": {
         "data": {
          "bar": [
           {
            "error_x": {
             "color": "#2a3f5f"
            },
            "error_y": {
             "color": "#2a3f5f"
            },
            "marker": {
             "line": {
              "color": "#E5ECF6",
              "width": 0.5
             },
             "pattern": {
              "fillmode": "overlay",
              "size": 10,
              "solidity": 0.2
             }
            },
            "type": "bar"
           }
          ],
          "barpolar": [
           {
            "marker": {
             "line": {
              "color": "#E5ECF6",
              "width": 0.5
             },
             "pattern": {
              "fillmode": "overlay",
              "size": 10,
              "solidity": 0.2
             }
            },
            "type": "barpolar"
           }
          ],
          "carpet": [
           {
            "aaxis": {
             "endlinecolor": "#2a3f5f",
             "gridcolor": "white",
             "linecolor": "white",
             "minorgridcolor": "white",
             "startlinecolor": "#2a3f5f"
            },
            "baxis": {
             "endlinecolor": "#2a3f5f",
             "gridcolor": "white",
             "linecolor": "white",
             "minorgridcolor": "white",
             "startlinecolor": "#2a3f5f"
            },
            "type": "carpet"
           }
          ],
          "choropleth": [
           {
            "colorbar": {
             "outlinewidth": 0,
             "ticks": ""
            },
            "type": "choropleth"
           }
          ],
          "contour": [
           {
            "colorbar": {
             "outlinewidth": 0,
             "ticks": ""
            },
            "colorscale": [
             [
              0,
              "#0d0887"
             ],
             [
              0.1111111111111111,
              "#46039f"
             ],
             [
              0.2222222222222222,
              "#7201a8"
             ],
             [
              0.3333333333333333,
              "#9c179e"
             ],
             [
              0.4444444444444444,
              "#bd3786"
             ],
             [
              0.5555555555555556,
              "#d8576b"
             ],
             [
              0.6666666666666666,
              "#ed7953"
             ],
             [
              0.7777777777777778,
              "#fb9f3a"
             ],
             [
              0.8888888888888888,
              "#fdca26"
             ],
             [
              1,
              "#f0f921"
             ]
            ],
            "type": "contour"
           }
          ],
          "contourcarpet": [
           {
            "colorbar": {
             "outlinewidth": 0,
             "ticks": ""
            },
            "type": "contourcarpet"
           }
          ],
          "heatmap": [
           {
            "colorbar": {
             "outlinewidth": 0,
             "ticks": ""
            },
            "colorscale": [
             [
              0,
              "#0d0887"
             ],
             [
              0.1111111111111111,
              "#46039f"
             ],
             [
              0.2222222222222222,
              "#7201a8"
             ],
             [
              0.3333333333333333,
              "#9c179e"
             ],
             [
              0.4444444444444444,
              "#bd3786"
             ],
             [
              0.5555555555555556,
              "#d8576b"
             ],
             [
              0.6666666666666666,
              "#ed7953"
             ],
             [
              0.7777777777777778,
              "#fb9f3a"
             ],
             [
              0.8888888888888888,
              "#fdca26"
             ],
             [
              1,
              "#f0f921"
             ]
            ],
            "type": "heatmap"
           }
          ],
          "heatmapgl": [
           {
            "colorbar": {
             "outlinewidth": 0,
             "ticks": ""
            },
            "colorscale": [
             [
              0,
              "#0d0887"
             ],
             [
              0.1111111111111111,
              "#46039f"
             ],
             [
              0.2222222222222222,
              "#7201a8"
             ],
             [
              0.3333333333333333,
              "#9c179e"
             ],
             [
              0.4444444444444444,
              "#bd3786"
             ],
             [
              0.5555555555555556,
              "#d8576b"
             ],
             [
              0.6666666666666666,
              "#ed7953"
             ],
             [
              0.7777777777777778,
              "#fb9f3a"
             ],
             [
              0.8888888888888888,
              "#fdca26"
             ],
             [
              1,
              "#f0f921"
             ]
            ],
            "type": "heatmapgl"
           }
          ],
          "histogram": [
           {
            "marker": {
             "pattern": {
              "fillmode": "overlay",
              "size": 10,
              "solidity": 0.2
             }
            },
            "type": "histogram"
           }
          ],
          "histogram2d": [
           {
            "colorbar": {
             "outlinewidth": 0,
             "ticks": ""
            },
            "colorscale": [
             [
              0,
              "#0d0887"
             ],
             [
              0.1111111111111111,
              "#46039f"
             ],
             [
              0.2222222222222222,
              "#7201a8"
             ],
             [
              0.3333333333333333,
              "#9c179e"
             ],
             [
              0.4444444444444444,
              "#bd3786"
             ],
             [
              0.5555555555555556,
              "#d8576b"
             ],
             [
              0.6666666666666666,
              "#ed7953"
             ],
             [
              0.7777777777777778,
              "#fb9f3a"
             ],
             [
              0.8888888888888888,
              "#fdca26"
             ],
             [
              1,
              "#f0f921"
             ]
            ],
            "type": "histogram2d"
           }
          ],
          "histogram2dcontour": [
           {
            "colorbar": {
             "outlinewidth": 0,
             "ticks": ""
            },
            "colorscale": [
             [
              0,
              "#0d0887"
             ],
             [
              0.1111111111111111,
              "#46039f"
             ],
             [
              0.2222222222222222,
              "#7201a8"
             ],
             [
              0.3333333333333333,
              "#9c179e"
             ],
             [
              0.4444444444444444,
              "#bd3786"
             ],
             [
              0.5555555555555556,
              "#d8576b"
             ],
             [
              0.6666666666666666,
              "#ed7953"
             ],
             [
              0.7777777777777778,
              "#fb9f3a"
             ],
             [
              0.8888888888888888,
              "#fdca26"
             ],
             [
              1,
              "#f0f921"
             ]
            ],
            "type": "histogram2dcontour"
           }
          ],
          "mesh3d": [
           {
            "colorbar": {
             "outlinewidth": 0,
             "ticks": ""
            },
            "type": "mesh3d"
           }
          ],
          "parcoords": [
           {
            "line": {
             "colorbar": {
              "outlinewidth": 0,
              "ticks": ""
             }
            },
            "type": "parcoords"
           }
          ],
          "pie": [
           {
            "automargin": true,
            "type": "pie"
           }
          ],
          "scatter": [
           {
            "marker": {
             "colorbar": {
              "outlinewidth": 0,
              "ticks": ""
             }
            },
            "type": "scatter"
           }
          ],
          "scatter3d": [
           {
            "line": {
             "colorbar": {
              "outlinewidth": 0,
              "ticks": ""
             }
            },
            "marker": {
             "colorbar": {
              "outlinewidth": 0,
              "ticks": ""
             }
            },
            "type": "scatter3d"
           }
          ],
          "scattercarpet": [
           {
            "marker": {
             "colorbar": {
              "outlinewidth": 0,
              "ticks": ""
             }
            },
            "type": "scattercarpet"
           }
          ],
          "scattergeo": [
           {
            "marker": {
             "colorbar": {
              "outlinewidth": 0,
              "ticks": ""
             }
            },
            "type": "scattergeo"
           }
          ],
          "scattergl": [
           {
            "marker": {
             "colorbar": {
              "outlinewidth": 0,
              "ticks": ""
             }
            },
            "type": "scattergl"
           }
          ],
          "scattermapbox": [
           {
            "marker": {
             "colorbar": {
              "outlinewidth": 0,
              "ticks": ""
             }
            },
            "type": "scattermapbox"
           }
          ],
          "scatterpolar": [
           {
            "marker": {
             "colorbar": {
              "outlinewidth": 0,
              "ticks": ""
             }
            },
            "type": "scatterpolar"
           }
          ],
          "scatterpolargl": [
           {
            "marker": {
             "colorbar": {
              "outlinewidth": 0,
              "ticks": ""
             }
            },
            "type": "scatterpolargl"
           }
          ],
          "scatterternary": [
           {
            "marker": {
             "colorbar": {
              "outlinewidth": 0,
              "ticks": ""
             }
            },
            "type": "scatterternary"
           }
          ],
          "surface": [
           {
            "colorbar": {
             "outlinewidth": 0,
             "ticks": ""
            },
            "colorscale": [
             [
              0,
              "#0d0887"
             ],
             [
              0.1111111111111111,
              "#46039f"
             ],
             [
              0.2222222222222222,
              "#7201a8"
             ],
             [
              0.3333333333333333,
              "#9c179e"
             ],
             [
              0.4444444444444444,
              "#bd3786"
             ],
             [
              0.5555555555555556,
              "#d8576b"
             ],
             [
              0.6666666666666666,
              "#ed7953"
             ],
             [
              0.7777777777777778,
              "#fb9f3a"
             ],
             [
              0.8888888888888888,
              "#fdca26"
             ],
             [
              1,
              "#f0f921"
             ]
            ],
            "type": "surface"
           }
          ],
          "table": [
           {
            "cells": {
             "fill": {
              "color": "#EBF0F8"
             },
             "line": {
              "color": "white"
             }
            },
            "header": {
             "fill": {
              "color": "#C8D4E3"
             },
             "line": {
              "color": "white"
             }
            },
            "type": "table"
           }
          ]
         },
         "layout": {
          "annotationdefaults": {
           "arrowcolor": "#2a3f5f",
           "arrowhead": 0,
           "arrowwidth": 1
          },
          "autotypenumbers": "strict",
          "coloraxis": {
           "colorbar": {
            "outlinewidth": 0,
            "ticks": ""
           }
          },
          "colorscale": {
           "diverging": [
            [
             0,
             "#8e0152"
            ],
            [
             0.1,
             "#c51b7d"
            ],
            [
             0.2,
             "#de77ae"
            ],
            [
             0.3,
             "#f1b6da"
            ],
            [
             0.4,
             "#fde0ef"
            ],
            [
             0.5,
             "#f7f7f7"
            ],
            [
             0.6,
             "#e6f5d0"
            ],
            [
             0.7,
             "#b8e186"
            ],
            [
             0.8,
             "#7fbc41"
            ],
            [
             0.9,
             "#4d9221"
            ],
            [
             1,
             "#276419"
            ]
           ],
           "sequential": [
            [
             0,
             "#0d0887"
            ],
            [
             0.1111111111111111,
             "#46039f"
            ],
            [
             0.2222222222222222,
             "#7201a8"
            ],
            [
             0.3333333333333333,
             "#9c179e"
            ],
            [
             0.4444444444444444,
             "#bd3786"
            ],
            [
             0.5555555555555556,
             "#d8576b"
            ],
            [
             0.6666666666666666,
             "#ed7953"
            ],
            [
             0.7777777777777778,
             "#fb9f3a"
            ],
            [
             0.8888888888888888,
             "#fdca26"
            ],
            [
             1,
             "#f0f921"
            ]
           ],
           "sequentialminus": [
            [
             0,
             "#0d0887"
            ],
            [
             0.1111111111111111,
             "#46039f"
            ],
            [
             0.2222222222222222,
             "#7201a8"
            ],
            [
             0.3333333333333333,
             "#9c179e"
            ],
            [
             0.4444444444444444,
             "#bd3786"
            ],
            [
             0.5555555555555556,
             "#d8576b"
            ],
            [
             0.6666666666666666,
             "#ed7953"
            ],
            [
             0.7777777777777778,
             "#fb9f3a"
            ],
            [
             0.8888888888888888,
             "#fdca26"
            ],
            [
             1,
             "#f0f921"
            ]
           ]
          },
          "colorway": [
           "#636efa",
           "#EF553B",
           "#00cc96",
           "#ab63fa",
           "#FFA15A",
           "#19d3f3",
           "#FF6692",
           "#B6E880",
           "#FF97FF",
           "#FECB52"
          ],
          "font": {
           "color": "#2a3f5f"
          },
          "geo": {
           "bgcolor": "white",
           "lakecolor": "white",
           "landcolor": "#E5ECF6",
           "showlakes": true,
           "showland": true,
           "subunitcolor": "white"
          },
          "hoverlabel": {
           "align": "left"
          },
          "hovermode": "closest",
          "mapbox": {
           "style": "light"
          },
          "paper_bgcolor": "white",
          "plot_bgcolor": "#E5ECF6",
          "polar": {
           "angularaxis": {
            "gridcolor": "white",
            "linecolor": "white",
            "ticks": ""
           },
           "bgcolor": "#E5ECF6",
           "radialaxis": {
            "gridcolor": "white",
            "linecolor": "white",
            "ticks": ""
           }
          },
          "scene": {
           "xaxis": {
            "backgroundcolor": "#E5ECF6",
            "gridcolor": "white",
            "gridwidth": 2,
            "linecolor": "white",
            "showbackground": true,
            "ticks": "",
            "zerolinecolor": "white"
           },
           "yaxis": {
            "backgroundcolor": "#E5ECF6",
            "gridcolor": "white",
            "gridwidth": 2,
            "linecolor": "white",
            "showbackground": true,
            "ticks": "",
            "zerolinecolor": "white"
           },
           "zaxis": {
            "backgroundcolor": "#E5ECF6",
            "gridcolor": "white",
            "gridwidth": 2,
            "linecolor": "white",
            "showbackground": true,
            "ticks": "",
            "zerolinecolor": "white"
           }
          },
          "shapedefaults": {
           "line": {
            "color": "#2a3f5f"
           }
          },
          "ternary": {
           "aaxis": {
            "gridcolor": "white",
            "linecolor": "white",
            "ticks": ""
           },
           "baxis": {
            "gridcolor": "white",
            "linecolor": "white",
            "ticks": ""
           },
           "bgcolor": "#E5ECF6",
           "caxis": {
            "gridcolor": "white",
            "linecolor": "white",
            "ticks": ""
           }
          },
          "title": {
           "x": 0.05
          },
          "xaxis": {
           "automargin": true,
           "gridcolor": "white",
           "linecolor": "white",
           "ticks": "",
           "title": {
            "standoff": 15
           },
           "zerolinecolor": "white",
           "zerolinewidth": 2
          },
          "yaxis": {
           "automargin": true,
           "gridcolor": "white",
           "linecolor": "white",
           "ticks": "",
           "title": {
            "standoff": 15
           },
           "zerolinecolor": "white",
           "zerolinewidth": 2
          }
         }
        },
        "title": {
         "font": {
          "size": 16
         },
         "text": "Drew Houston Tweets Sentiment Change vs Dropbox's Stock Price Change"
        },
        "xaxis": {
         "autorange": true,
         "range": [
          -1.1186429405196112,
          1.1192269950901332
         ],
         "title": {
          "font": {
           "size": 16
          },
          "text": "Sentiment Change"
         },
         "type": "linear"
        },
        "yaxis": {
         "autorange": true,
         "range": [
          0.8502938158865094,
          1.1737056865273168
         ],
         "title": {
          "font": {
           "size": 16
          },
          "text": "Stock Price Change"
         },
         "type": "linear"
        }
       }
      },
      "image/png": "[encoded data removed]",
      "text/html": [
       "<div>                            <div id=\"fb144866-9df0-452d-86ea-40c236c43bec\" class=\"plotly-graph-div\" style=\"height:525px; width:100%;\"></div>            <script type=\"text/javascript\">                require([\"plotly\"], function(Plotly) {                    window.PLOTLYENV=window.PLOTLYENV || {};                                    if (document.getElementById(\"fb144866-9df0-452d-86ea-40c236c43bec\")) {                    Plotly.newPlot(                        \"fb144866-9df0-452d-86ea-40c236c43bec\",                        [{\"hovertemplate\":\"Polarity of Tweets: %{x:.1f}<br>Stock Price Change: %{y:.1f}<br>Number of Likes: %{marker.size:,}<extra></extra>\",\"marker\":{\"size\":[61,33,95,479,8,83,118,0,29,57,0,161,36,0,266,340,17,0,79,26,287,49,90,46,139,55,36,343,0,0,170,115,158,805,383,0,180,0,455,1450,660,87,0,287,180,66,0,43,154,0,0,0,50,20,158,22,64,555,0,25,36,0,73,96,91,0,0,0,163,203,288,37,1588,223,107,33,390,0,1778,667,157,136,335,0,0,0,0,0,0,22,221,610,0,223,0,0,28,0,0,0,0,0,38,0,0,116,40,50,40,31,43,0,23,0,0,91,1802,1932,0,0,0,54,69,0,54,0,0,100,168,0,0,318,62,0,0,0,0,75,0,60,0,0,47,0,0,244,0,0,0,0,0,68,0,0,79,0,0,0,0,46,86,0,91,0,40,27,0,0,0,0,0,70,18,26,0,128,0,0,0,25,142,25,23,0,0,3,0,0,0,16,0,0,0,0,0,0,0,61,23,0,9,0,0,0,26,0,0,0,28,4,27,0,0,0,0,0,0,40,31,0,0,0,0,0,5,0,3,0,28,0,21,0,0,42,0,2,0,9,0,12,0,75,32,39,0,0,13,0,0,74,2,11,5,0,8,0,34,0,0,0,4,23,3,2,0,0,4,4,3,0,0,0,0,0,11,0,0,316,0,14,8,0,1,17,0,1,0,0,1,1,6,1,5,0,0,2,1,0,11,0,6,0,0,0,0,0,0,0,1,0,13,0,0,4,0,8,0,0,0,0,0,0,1,0,0,0,1,0,5,0,0,0,1,0,0,0,0,4,0,2,0,2,0,0,1,0,0,0,0,0,0,1,1,0,0,0,0,0,0,0,0,0,0,0,0,19,2,2,19,1,2,0,0,0,1,0,0,1,0,0,0,1,0,0,0,0,0,0,0,0,1,0,0,0,0,0,4,1,0,0,1,0,1,0,0,2,1,1,0,0,0,0,0,0,0,0,0,0,0,2,3,0,0,0,0,0,0,0,0,0,0,0,0,0,0,0,1,0,0,0,0,0,0,0,0,0,0,0,0,0,0,0,0,0,0,0,0,0,0,0,0,0,0,0,0,0,0,0],\"sizemode\":\"area\",\"sizeref\":3.864},\"mode\":\"markers\",\"type\":\"scatter\",\"x\":[0.44722222222222224,0.0,0.4671875,-0.2333333333333333,0.8,0.4,-0.2333333333333333,0.0,0.0,0.36742424242424243,0.625,0.9,0.8,0.425,-0.1875,1.0,-0.7142857142857143,-0.002222222222222218,0.4,0.0,0.6875,0.334375,0.6875,0.35000000000000003,0.4027777777777778,0.2727272727272727,0.0,0.23727272727272722,0.0,0.5041666666666667,0.43333333333333335,0.005208333333333315,-0.16666666666666666,0.25,-0.4333333333333333,0.033333333333333326,0.20555555555555557,-0.0125,0.9,0.0,0.35416666666666663,0.48522727272727273,0.0,0.10277777777777779,0.8,0.5454545454545454,0.30000000000000004,0.46875,0.465625,0.14250000000000002,0.2215909090909091,0.4375,0.0,0.0,0.11249999999999999,0.0,0.0,0.3267045454545454,0.1787878787878788,-0.1,0.8,0.0,0.6,0.2333333333333333,0.1875,0.0,0.7000000000000001,0.0,1.0,0.0,-1.0,0.0,0.7500000000000001,0.2,0.0,0.0,0.0,0.5,0.0,0.0,0.7000000000000001,0.6,0.0,0.0,0.3,0.15854978354978355,0.0,0.0,0.5,1.0,0.8,0.0,0.8,0.4,0.375,-0.20277777777777778,0.0,0.5,0.16666666666666666,0.0,0.07142857142857142,0.10714285714285714,1.0,0.0,0.0,0.2,0.0,0.0,0.4666666666666666,0.0,1.0,0.23611111111111108,0.375,0.4787878787878788,1.0,0.45,0.0,0.0,0.08333333333333333,0.0,0.9,0.48522727272727273,0.2852272727272728,0.0,0.0,0.4,0.0,0.0,-1.0,0.44285714285714284,1.0,0.3068181818181819,0.5,0.22727272727272727,0.22727272727272727,0.31477272727272726,0.06666666666666667,1.0,0.0,0.0,0.13636363636363635,0.1,-0.13333333333333333,-0.18125,0.5,0.5,-0.2,0.25,0.0,0.06818181818181818,0.17045454545454544,0.0,0.5000000000000001,0.0,0.0,0.3565656565656566,0.6000000000000001,0.5625,0.0,0.3,0.6875,0.80625,0.3,0.17222222222222222,0.36761363636363636,0.0,0.0,0.3181818181818182,0.0,0.04545454545454545,0.2,0.0,0.0,0.625,0.5,0.0,0.5,0.1,0.5454545454545454,0.0,0.18522727272727274,0.0,0.0,0.0,0.45,0.5,0.3181818181818182,0.4,0.4321212121212121,0.6875,-0.1,-0.6999999999999998,0.0,0.0,0.0,0.0,0.0,0.5,1.0,0.0,0.225,0.13636363636363635,0.0,0.20500000000000002,0.0,0.0,-0.3888888888888889,0.6,0.6875,0.5,0.08750000000000002,0.06666666666666667,0.125,0.48750000000000004,0.0,0.16818181818181818,0.0,0.375,0.0,0.8,0.03125,0.0,0.0,0.0,0.0,0.2916666666666667,0.0,0.234375,0.5,0.0,0.5875,0.5125,0.0,0.8,0.6375,0.0,0.35625,0.0,0.0,0.0,0.0,0.5,0.0,0.13333333333333333,0.033333333333333326,0.8,0.0,-0.4,0.9375,0.46875,0.5,0.0,0.21428571428571427,0.0,0.375,0.6714285714285714,1.0,0.375,0.3852272727272727,0.45,1.0,1.0,-0.2,0.0,0.5,0.25,0.0,-0.5,0.4,0.8,0.0,0.17045454545454544,1.0,0.5625,0.0,0.5,0.34375,0.1875,-0.3333333333333333,0.06818181818181818,0.0,-0.1,-1.0,0.21818181818181817,0.78125,0.6000000000000001,0.25,0.0,0.5,0.1444444444444445,0.0,0.55,0.7,-0.051851851851851864,0.6,-0.5,-0.05,0.5416666666666666,0.25833333333333336,0.25,0.06818181818181818,0.0,0.25,0.0,0.5,0.0,0.3148148148148148,0.4625,0.0,0.75,0.5,0.3333333333333333,0.0,0.13636363636363635,0.43333333333333335,0.0,0.0,0.0,0.5,0.5,-0.5055555555555555,0.23153409090909088,0.4055555555555556,0.0,0.0,0.0,0.0,0.0,0.8,0.0,0.1,0.2,0.625,0.0,-0.03333333333333335,0.46875,0.25,0.5,0.27878787878787875,0.35,0.575,0.0875,-0.2,0.4,0.375,0.2,0.8,0.1,0.0,0.25,0.0,0.8,0.0,0.12500000000000003,0.0,-0.15555555555555559,0.0,0.1,-0.056249999999999994,0.2,0.0,0.0,-0.15000000000000002,1.0,0.225,0.0,0.0,0.1,0.8,0.375,-0.25,0.75,0.46875,-0.2916666666666667,0.0,-0.2,-0.27222222222222225,0.5,-0.17499999999999996,0.14375,0.17083333333333336,0.8,0.5,0.15625,0.1,0.0,0.25,0.8,0.0,0.15,0.7,0.12,0.3653409090909091,-0.4,-0.5,1.0,0.6,-0.6,0.0,-0.15555555555555559,-0.7142857142857143,0.02777777777777778,0.0,-0.5,0.1,0.0,0.1,0.1,0.0,0.25625,0.0,-0.2,0.23888888888888893,0.0,0.25,0.18125,0.0,-0.6,0.5,0.3579545454545454,0.125,0.0,-0.1875,0.0,0.6000000000000001,0.3375,0.175,-0.3333333333333333,0.0,0.25,0.0,0.5166666666666666,0.0,0.5,0.0,0.0,0.2,0.078125,0.17380952380952377,-0.1,0.0,0.08333333333333333,0.19999999999999998,-0.3,0.0,0.0,-0.08333333333333334,0.0,-0.0625,0.35,0.0,0.5,0.0,0.2,0.5,-0.2318181818181818,0.6499999999999999,0.0,0.5,0.0,0.10714285714285714,0.3333333333333333,0.0,0.0,0.625,0.05000000000000001,0.39999999999999997,-0.14602272727272725],\"y\":[null,1.0691713834269663,0.9819375703797185,1.0361204013377927,1.0087153001936733,0.9603200000000001,1.052649116961013,0.9765748654637544,0.9897893030794165,0.9903389552971998,0.9966930886243387,1.0361645997400333,1.0349023374959974,1.0293935643564358,0.9017132551848511,0.9673333333333333,1.0279117849758788,1.024471974522293,0.9784031733770671,0.9672240802675587,1.0065698824343015,0.9941600826465103,0.9896336561978696,1.0240922145283593,1.0095465734742586,1.0168861865286665,1.026237096438489,1.0035598705501618,0.9735569493711705,0.9648889710205708,1.0096121184212878,1.0278816729003741,1.038703274892491,1.019108280254777,0.97750003125,0.9578004489194231,0.9863150863256037,1.0402707627841206,0.9938190956408589,0.9885434366135332,0.9963575829020668,1.0,0.9883682286473912,1.0154674176193679,0.9923840399872835,0.9936603935155286,1.0231698447558817,0.9842468324334371,0.9886628876292097,1.0111298482293425,1.0303535356904603,1.011006831045867,0.9692603266090297,0.9897588040964651,1.0046729307300712,1.024252491694352,1.0272461887771651,1.140511493526997,1.0963454899320457,1.060606114172026,0.945238119047619,0.9395465506411448,0.956836459968806,0.944802520168185,0.964412782787284,1.0076875768757687,0.9527006103143119,1.0698271322814583,0.9706585646312237,1.0117211913461561,0.9756097858417617,0.98312496875,0.9968214239294795,1.013392856715789,0.9842668349821638,0.9891304351301012,1.047834419914854,0.9922887101967125,1.0031085485302176,0.9807871087697551,0.9870458135860979,1.0019205825864277,0.9904153671059223,1.0258064193548386,0.9669811624836844,1.018211349593496,0.9808367927447075,0.9778574398520821,0.9247418939479889,0.9639899171768095,1.0388494209936496,1.0719165793569427,1.005367326580588,1.0103437440888803,1.0409510884758557,1.0009517449238579,1.0912837112926692,0.9018297705489399,0.9391304650283564,0.9934841906721537,1.0,0.9744563677755046,0.9744952178533476,1.0039985823336968,1.023533634195017,0.9932790944464096,1.0092592592592593,0.9537756175017642,1.012948501185775,0.99196497414043,0.9944771723122239,0.9885228063680118,1.0056179398644967,1.0040967970204842,0.986646920869693,0.9676691729323307,1.0396270396270397,1.0044842675635277,1.0033482144102759,0.969225063745831,0.9843152633632465,1.0136027982899338,1.0046012653374234,1.006106869995921,0.9734445761212225,1.0327357755261106,0.9947170188679245,0.9988618740947695,1.0307633497911128,0.9988946941376086,0.9977867208488852,0.991866949791754,0.9772642191576595,1.0038139208167018,0.9973404255319149,0.9348571809523809,0.9808475557926831,0.9493144993768177,0.9956236323851203,1.0013187252747253,1.0039508338915348,1.045911628950082,1.0020902591973244,1.0387985414600975,0.9983936144578314,0.9730490759030942,0.966515007585159,1.001710906831091,0.9974381298035866,0.9413526994283946,1.0163710777626196,0.9713646085011185,1.0138185635107584,1.0358927305770103,1.0293859662011389,1.0106518964913462,1.0130692248342843,1.00124835616944,0.9995843723850528,1.0399168831566272,0.9892043182726908,1.0327404607922392,0.9526419159546738,0.9724732949876747,0.9953527249683143,1.0441426589194678,0.9459349593495934,0.9260850451224752,0.9953597213624001,1.013985966713941,1.0275862068965518,1.0586129753914988,0.9737954775993237,1.0499131922780731,1.0111615538998944,0.9562551085958753,1.0162463025329758,0.9432057214976862,1.0,0.9594112399643175,1.0232450023245003,1.0254429804634257,1.0106335400974746,1.0166594483410543,0.9745579571126367,0.9628318584070796,0.9862131893382352,1.0046598324631797,0.9448052850095214,0.9513990205498765,1.0190918998499432,1.0511392405063291,1.0052986994219653,0.996166746709787,0.9826839354168381,1.011747430249633,0.9719400096758587,1.0592334992533599,1.022556342924984,1.0142463235294117,1.010421341187132,1.0085202245973195,0.995553534904402,0.9830281814661984,1.0258973194002725,0.9955713020372011,1.005338078291815,1.0438053097345132,0.9707503179313268,1.0179038864628822,1.0034320035792366,1.021804233510228,1.01004179916318,0.9627175212393339,1.0296901893287436,1.0325950271625575,0.9809794002824525,1.0136138613861387,1.0256410663410664,1.0015872618417752,0.9821711965134707,1.0254134318106725,0.9893784421715184,1.0111332007952287,1.0007865119937083,1.0129666006692888,0.9906904580802771,1.0176193806726945,0.9807618314736437,1.0039231071008239,0.9163736225087925,1.0059701063552193,1.0317931326833405,0.9958915365653245,0.9843234735973598,1.0012572505759745,0.9987443281182222,0.9865884330851453,0.9613423126022808,0.994697348417912,0.9875610839626832,1.0184434997750786,1.020759806570663,0.977498875919564,0.9796369632580789,1.0081337554511411,0.9932766021190766,1.0072202166064983,0.9901433691756273,1.025339366515837,0.9585171668137689,1.0050645029956031,1.0059550618415025,0.9754098804831458,1.003734827264239,1.0139534418604652,0.9894495866719994,1.0259619378766807,1.006778219917678,0.9829443005859829,1.0022831506849317,1.0086559449359478,0.9909666662586569,1.0154968087740743,0.9910232948373745,1.0117753623188406,0.9914950760966875,0.9841986004514673,0.9701835307423637,1.0047281323877069,1.0898823529411765,1.0073402417962003,1.003000428632662,1.0106837606837606,1.0295983086680762,1.0024640657084187,0.9987709545268333,0.9803117711366599,1.002928828451883,1.0187735093355657,0.9893529893529893,0.9764072847682119,1.003391267486223,0.9814110688635403,1.0116229014205769,0.9225531914893617,1.0235240313653136,1.027940422355096,1.031126744021339,0.9778911564625851,1.0060869130434782,1.002592999247753,1.0004309482572866,0.9719948286081357,1.0017730940502259,1.0022123893805308,0.9986755408388521,0.9893898324761349,1.008042895801738,0.9898050084133424,0.9793999552171966,1.0461818908924605,0.9982517918816342,1.0083187828371278,0.9874076861742211,0.9973614775725594,1.015432142857143,1.044289967681721,0.9754677744477245,1.0034101450728963,1.0127442220584442,1.0151007130872483,1.0132230986271447,1.019983686786297,0.9916033186725309,0.9665322567150104,1.0271173144396042,1.0134037362549255,1.0040079357111047,0.998403233469191,0.9996001599360256,1.0031999999999999,1.003189792663477,0.9916534578696343,1.0104207611053804,1.011900079805636,1.0176401019208152,0.9965332047971188,1.0100501735581688,0.9739763480281801,0.9842828296941913,0.9972056286309633,0.977982385908727,0.9987720016373312,0.993032786885246,1.0185720181593065,0.9947325364667747,1.0032586559372163,0.971985463742812,0.9941519634857159,0.9899159659628558,0.9974533530328248,0.9795744680851064,0.9474369678540401,0.9949565334688919,0.9566819835630422,1.033718641618497,0.8718546072625633,0.9738107949658362,1.008232821527597,0.9564506828279433,0.9823562891291976,1.0127462340672073,1.0177346109839818,1.0005620010926362,1.0067416295922265,1.0044642857142856,0.9866666666666668,0.9966216779279279,0.9903954807686168,1.00684535043666,1.0141643059490084,1.0,1.0027933519553074,1.0239553189997037,1.0261154529986645,1.0058323432750613,1.0268846086918613,1.030287474332649,1.0124564025909317,0.9852362204724409,1.001997952047952,1.0169492032377467,1.023529362745098,1.003831417808018,1.0033397902356769,1.0,0.9640988604803205,0.9760789642416771,0.997978726731747,1.0162025316455696,0.9850523168908819,1.020232675771371,0.9890927615270203,0.9654134854429332,1.0109033748701972,1.0,1.0118131490402233,0.9784263462727742,0.9878080933852141,0.985294065898421,1.0269189232409381,1.0038931224444911,1.003878024819028,0.9755343818936707,1.0,0.9722808884751379,1.0274232404331665,1.0211416490486258,0.9943063664596273,1.0176991159655968,1.009207212747172,1.0172326406487582,0.9995016940707524,0.9995014954886089,0.9885287276074178,1.0216952573158427,1.014321037037037,1.0160662114865524,0.9851460476690922,1.0194552538645552,0.9444179839894077,0.9527659004799192,1.0026510603048218,1.0285563722897937,0.9686374823322631,1.0196390127388535,0.9875065063772258,1.003162994368107,0.9947450869813407,0.9783412572636028,1.0248380129589634,1.0026344046364593,0.9931686288403243,0.9894180423280424,0.9887700006005347,0.9924283396430504,0.9918256675749318,1.003296648170514,0.9890470427163198,1.0116279629915814,0.9901477832512315,0.9845217799889442,0.9679955624927321,0.9715777262180976,1.0029850149253732,1.019047739229032,1.0023363900504445,1.0023310606060607,1.0558138921038436,0.983480231277533,0.9952407057535998,1.0002813502109704,1.0,0.9966253095261357,0.9932280470218988,1.0176136363636363,1.0100502512562815,0.9950248756218906,1.0294444999999999,1.0,0.9962222344186599,0.9951247017944042,0.9700598274327803,1.0022447250280584,1.0081185885711876,1.0169397399022349,0.9830694146952165,1.001111111111111,0.9789122641509433,0.9937642853607871,1.0102679971324589,0.979107903958662,0.977508708189158,1.0112093208726063,0.9889149351759006,1.003539763802964,1.0005878894767783,0.9935370152761458,1.0112359550561798,1.029824619883041,1.0369107872282348,0.9912376779846659,1.0237569613259667,1.003777603681727,0.9983870967741935,1.0021540656973613,0.9957012361256723,0.9924445767703952,0.9961936376396758,1.021561135371179,1.1995725888324873,0.9692649902331854,0.9485293658088234,0.9631782927896461,0.9723340529343083,1.0118985514743923,0.9861964205621891,1.0012960082272675,1.025109913274144,0.9767677260993801,1.0036194415718718,0.9103554868624422,0.9841538766270513,0.9292697486641603,0.9709158415841583,1.1695347355003187,0.8762942779291552,1.0453979477611943,0.9827484225311375,1.0786924939467313,0.9870931537598204,0.9727118249005117,1.0987725249110154,0.9792553712369878,1.0277023356871267,0.9381606765327695,1.0225352112676056,0.9972451790633611,0.9878452486187845,1.0195750010947986,0.9851891936368623,1.0055679290405306,0.980066554820961,1.0333333314500943,0.9874247136454504,1.0260244754166374,1.0253642188146672,0.9973684736842106,0.9886543541607201,1.0237522805576578,1.0604796663190823,0.9665683382497542,1.015768006103764,0.9932398594511697,1.0186539459870907,1.0294481069042316,0.9879807686529216,1.0209246238892762,1.001906577693041,0.9324452901998098,1.0142856632653061,1.0077968313781103,1.015472872473172,1.0759400381391022,0.9995431703765725,1.0484461630916893,0.9646904113038183,0.9724356517142182,0.9990706319702602,1.0404651627906976,0.9651318299002312,1.0074108383510885,1.0218390804597701,0.9957254893138358,0.9789878887929456,1.0570043361641202,0.996069825327511,0.9903551508266177,0.9991146525011066,1.0429774479397431,0.9885301194337247,1.0120326171035667,0.9885351162859921,0.944158035044758,1.0254777525022747,0.9729369577224065,1.002279981760146,0.9290263876251138,1.0298727228207638,1.023299998892059,1.047862407063197,1.007095343995359,1.0127697495715433,1.0130434347826087,1.0090129188417563,1.0059549128030625,0.9572938266384778,0.9787986298055932,0.9688627707581228,0.9916163014260038,1.0225457481190348,1.0004593936610013,0.994031175664317,1.035565819861432,1.0008921052631579,1.0133689387981757,0.9850483729111698,0.9870536160714286,0.9163274121968606,1.0014807996051331,1.027599752212925,0.9908872901678657,1.0082284607938043,1.098895775324052,0.979467058954437,0.9879571810883139,0.9860045146726862,0.9775641025641026,1.0093676346604215,1.0334107208079222,1.01302195779075,0.9924645386730735,1.0160786519016816,1.0180219780219781,1.0030224525043179,0.9995694791218253,1.0021533592658638,0.8891276751181779,0.9627839070669935,0.9869477911646586,0.9989826551373346,0.9994908350046251,0.993377534048779,1.0215384615384617,1.0281124497991967,0.983398388671875,1.000993098361127,0.9980159226190476,1.0044730614078996,0.9965363679632048,1.0213505968893049,0.987360184735051,1.020187100944712,1.0217181960288704,1.007085498346717,1.0201688555347093,0.9457471264367816,0.960136120563928,1.0065822278481014,1.0238934116646585,0.9710144436256447,1.0043005820541657,1.016624685138539,1.0084241823587712,0.9936117444717445,0.9643917390896013,0.9887179999999999,0.9974065872714427,1.015600676027041,0.9820788027609421,0.9791449947862356,1.0197017561394166,1.0067885639686684,0.9922198136815451,1.0067956616202647,1.0111630321910696,0.9848523748395378,1.0172054223149114,0.9882112250128138,1.0197094906789683,1.0005086469989828,1.0366039145907473,0.982344383636311,1.015476734124976,0.9754178957718781,1.0151209173387097,1.0089374880306599,0.9788385334645668,0.9944696829798734,1.0101111723907397,1.011011061061061,0.9762375259288354,0.9698276353867968,0.9950327320261437,0.9779295860257706,1.007522783045525,0.9738666666666668,0.9841182365826944,1.0127992216360167,1.0192306582840298,1.0846362309776942,0.9515407081739211,0.9793679811961348,0.9850666133333335,1.018949703245788,0.9973432518597236,1.0154501331912626,0.9805877219615803,0.9925092566875733,0.9935310508642076,1.026587086272382,1.0058140063424945,1.0047293744230492,0.9649581608285481,1.035772355784696,1.0225013070381315,1.0220060377683706,1.0100150731104194,0.9970253346554288,1.0059671304839817,1.0059317844784974,1.0073710073710074,1.0531707317073171,0.9847151459008802,0.9990592662276574,1.0588512241054615,1.0369052912405514,0.9914237135506002,1.0173009940613758,1.01573125,0.9912097526667959,0.9945100929054054,1.0560510427197896,0.9895456377343934,1.0016253148465941,0.9574036511156188,0.9716101694915253,0.9856083733100742,0.9818584513274335,0.9936907618886544,1.0081633110278145,0.982905982905983,1.032494233409611,0.997340469740269,1.037777777777778,1.0111349464668093,0.936891150491692,1.0257685340972633,0.9731158672051182,0.9859601449275363,1.0183739090491504,0.9896256653134866,1.0100273012749637,0.9936823104693141,1.0081744323342416,1.0927927435678946,0.9515663231657048,0.9802902308984289,1.0114891741709753,1.0096112717173995,1.0350497172198305,0.9903846571906353,1.048543645059365,0.999194847020934,0.9730056406124092,0.9900621118012423,0.9912171058134672,1.0341771715537058,0.9991840065279477,0.9840751327072276,1.0112033609958504,0.9624537971910629,0.9592837348113409,1.0302222222222222,0.9887834339948232,0.9877835514834205,0.9958039309100677,1.0268352184519849,0.9913607343412528,0.9769062755160665,1.0280998661909009,1.0186551418071645,1.011925042589438,1.041245791245791,0.9894907033144705,1.0396242238562092,1.0632612155889503,1.0332594247324252,0.9924893058830224,1.0111711351351351,0.9387028132110767,1.0197418754745635,1.017125799809166,1.0010980966325036,0.9703839488117001,0.9928409573157138,1.0091081593927893,0.9838285069575028,1.003440366972477,1.0156190476190476,1.027381807951988,1.0175247176898399,0.9978470757858962,0.9931679968776697,1.0025343952739176,0.9747200803640275,0.9651722489811042,1.0046065644762598,1.0057317539166986,1.001899734042553,1.0003791429511133,0.9901441239630069,0.9846859883351461,1.005054471425135,1.0054158607350097,1.0101961908426318,1.0116168353310544,0.9928464605740384,1.0064467195128284,0.9886962702073748,0.9794207698170733,0.9852139694469273,0.9881516587677724,0.9936051558752999,0.9867256642507777,1.0069302891589773,1.0295546141880723,1.0047187966968147,0.971037180862512,0.9850867386169583,1.0384614550547688,1.0283688348451077,1.0057471264367817,1.004952342857143,1.015163078664256,0.9977594474324329,1.0160928523986845,0.9845303867403316,1.0254395809951364,1.0131338927398759,0.98487576521426,0.9802559049360147,1.0391645669214684,1.0122038760874417,1.0106382620341041,1.0221052280701755,1.0075523861157702,0.9904599659284498,1.023391812865497,0.9989915630252101,0.9932705583200052,0.9901761517615176,1.008210708176531,0.9911774683127745,0.9976035603424704,1.0048044613865634,1.0095627728974463,1.0067659339230695,1.0026881720430108,1.0123994302949062,1.0033101623075196,1.0046190037815574,0.9954022333201238,0.9970306828449582,1.015221741072857,1.0071707953063884,1.0077669579288027,0.9897238596571567,1.0074626541207008,0.9919484699500313,1.0019481169463675,0.9883343814538438,0.9822950491803278,1.0063418226415828,0.9887230182421228,1.0231466294245766,1.0006557377049181,1.0016382699868938,1.011122015047432,0.9977353607246846,1.0,1.0265888456549934,1.0028427037271004,0.9918110236220472,0.9939663067640521,1.0057508308546592,0.9980940279542567,1.005092297899427,1.0202660227992402,1.0068279948222223,0.9972256164372878,0.9987636166159887,0.9975239555083888,0.9968973316785604,0.9744786189082285,0.9878633340103268,1.0016165535079211,0.9728857004519045,1.0152621438374965,1.0098039215686274,0.9983818770226538,1.0012965640194489,0.9944966006635352,1.013997428841062,1.0025682182985554,1.015369804674992,1.006622548300932,1.0065789786967418,1.0080920632402097,0.9740660689739447,1.0047544217037851,1.0126182014946938,0.9822430830057995,0.990802378978675,0.9820742637644047,1.0071707953063884,1.0051779611650487,0.9884095939603861,0.9807817595836561,1.0056459646082376,1.009907496370294,1.0225637671680838,1.0086345059162136,0.9850982566550965,0.9530093659478597,0.9875041881964137,0.9993159712722299,1.0075291583685542,0.9456521417917072,1.0082614942528736,1.006768792304952,1.024769957537155,0.9844613599606824,0.9989477376359172,1.0168538974719101,0.9979282112544271,1.0304498615916955,1.0171255870676432,0.9831627605426622,1.014774949134488,0.9930509924901056,1.0176608130623126,0.9927963001703897,1.0201187335092348,0.9841578079534432,0.9855453027087614,1.0076666666666667,1.0086007277538869,0.9990160380452607,0.988837885385354,1.0199202516626744,1.0094401370260462,0.8968074492099323,1.0118662355938954,1.0138593466190244,0.9533824061204905,0.9871323166495473,1.005214152700186,0.9859207484253428,0.9808342359701527,1.0007663218390803,0.9812403529387309,0.9765900107916508,0.9776267687724025,1.0020433592988705,1.0004078711256117,0.9922543419382658,1.0250616680361544,0.9863727460371645]}],                        {\"plot_bgcolor\":\"white\",\"template\":{\"data\":{\"bar\":[{\"error_x\":{\"color\":\"#2a3f5f\"},\"error_y\":{\"color\":\"#2a3f5f\"},\"marker\":{\"line\":{\"color\":\"#E5ECF6\",\"width\":0.5},\"pattern\":{\"fillmode\":\"overlay\",\"size\":10,\"solidity\":0.2}},\"type\":\"bar\"}],\"barpolar\":[{\"marker\":{\"line\":{\"color\":\"#E5ECF6\",\"width\":0.5},\"pattern\":{\"fillmode\":\"overlay\",\"size\":10,\"solidity\":0.2}},\"type\":\"barpolar\"}],\"carpet\":[{\"aaxis\":{\"endlinecolor\":\"#2a3f5f\",\"gridcolor\":\"white\",\"linecolor\":\"white\",\"minorgridcolor\":\"white\",\"startlinecolor\":\"#2a3f5f\"},\"baxis\":{\"endlinecolor\":\"#2a3f5f\",\"gridcolor\":\"white\",\"linecolor\":\"white\",\"minorgridcolor\":\"white\",\"startlinecolor\":\"#2a3f5f\"},\"type\":\"carpet\"}],\"choropleth\":[{\"colorbar\":{\"outlinewidth\":0,\"ticks\":\"\"},\"type\":\"choropleth\"}],\"contour\":[{\"colorbar\":{\"outlinewidth\":0,\"ticks\":\"\"},\"colorscale\":[[0.0,\"#0d0887\"],[0.1111111111111111,\"#46039f\"],[0.2222222222222222,\"#7201a8\"],[0.3333333333333333,\"#9c179e\"],[0.4444444444444444,\"#bd3786\"],[0.5555555555555556,\"#d8576b\"],[0.6666666666666666,\"#ed7953\"],[0.7777777777777778,\"#fb9f3a\"],[0.8888888888888888,\"#fdca26\"],[1.0,\"#f0f921\"]],\"type\":\"contour\"}],\"contourcarpet\":[{\"colorbar\":{\"outlinewidth\":0,\"ticks\":\"\"},\"type\":\"contourcarpet\"}],\"heatmap\":[{\"colorbar\":{\"outlinewidth\":0,\"ticks\":\"\"},\"colorscale\":[[0.0,\"#0d0887\"],[0.1111111111111111,\"#46039f\"],[0.2222222222222222,\"#7201a8\"],[0.3333333333333333,\"#9c179e\"],[0.4444444444444444,\"#bd3786\"],[0.5555555555555556,\"#d8576b\"],[0.6666666666666666,\"#ed7953\"],[0.7777777777777778,\"#fb9f3a\"],[0.8888888888888888,\"#fdca26\"],[1.0,\"#f0f921\"]],\"type\":\"heatmap\"}],\"heatmapgl\":[{\"colorbar\":{\"outlinewidth\":0,\"ticks\":\"\"},\"colorscale\":[[0.0,\"#0d0887\"],[0.1111111111111111,\"#46039f\"],[0.2222222222222222,\"#7201a8\"],[0.3333333333333333,\"#9c179e\"],[0.4444444444444444,\"#bd3786\"],[0.5555555555555556,\"#d8576b\"],[0.6666666666666666,\"#ed7953\"],[0.7777777777777778,\"#fb9f3a\"],[0.8888888888888888,\"#fdca26\"],[1.0,\"#f0f921\"]],\"type\":\"heatmapgl\"}],\"histogram\":[{\"marker\":{\"pattern\":{\"fillmode\":\"overlay\",\"size\":10,\"solidity\":0.2}},\"type\":\"histogram\"}],\"histogram2d\":[{\"colorbar\":{\"outlinewidth\":0,\"ticks\":\"\"},\"colorscale\":[[0.0,\"#0d0887\"],[0.1111111111111111,\"#46039f\"],[0.2222222222222222,\"#7201a8\"],[0.3333333333333333,\"#9c179e\"],[0.4444444444444444,\"#bd3786\"],[0.5555555555555556,\"#d8576b\"],[0.6666666666666666,\"#ed7953\"],[0.7777777777777778,\"#fb9f3a\"],[0.8888888888888888,\"#fdca26\"],[1.0,\"#f0f921\"]],\"type\":\"histogram2d\"}],\"histogram2dcontour\":[{\"colorbar\":{\"outlinewidth\":0,\"ticks\":\"\"},\"colorscale\":[[0.0,\"#0d0887\"],[0.1111111111111111,\"#46039f\"],[0.2222222222222222,\"#7201a8\"],[0.3333333333333333,\"#9c179e\"],[0.4444444444444444,\"#bd3786\"],[0.5555555555555556,\"#d8576b\"],[0.6666666666666666,\"#ed7953\"],[0.7777777777777778,\"#fb9f3a\"],[0.8888888888888888,\"#fdca26\"],[1.0,\"#f0f921\"]],\"type\":\"histogram2dcontour\"}],\"mesh3d\":[{\"colorbar\":{\"outlinewidth\":0,\"ticks\":\"\"},\"type\":\"mesh3d\"}],\"parcoords\":[{\"line\":{\"colorbar\":{\"outlinewidth\":0,\"ticks\":\"\"}},\"type\":\"parcoords\"}],\"pie\":[{\"automargin\":true,\"type\":\"pie\"}],\"scatter\":[{\"marker\":{\"colorbar\":{\"outlinewidth\":0,\"ticks\":\"\"}},\"type\":\"scatter\"}],\"scatter3d\":[{\"line\":{\"colorbar\":{\"outlinewidth\":0,\"ticks\":\"\"}},\"marker\":{\"colorbar\":{\"outlinewidth\":0,\"ticks\":\"\"}},\"type\":\"scatter3d\"}],\"scattercarpet\":[{\"marker\":{\"colorbar\":{\"outlinewidth\":0,\"ticks\":\"\"}},\"type\":\"scattercarpet\"}],\"scattergeo\":[{\"marker\":{\"colorbar\":{\"outlinewidth\":0,\"ticks\":\"\"}},\"type\":\"scattergeo\"}],\"scattergl\":[{\"marker\":{\"colorbar\":{\"outlinewidth\":0,\"ticks\":\"\"}},\"type\":\"scattergl\"}],\"scattermapbox\":[{\"marker\":{\"colorbar\":{\"outlinewidth\":0,\"ticks\":\"\"}},\"type\":\"scattermapbox\"}],\"scatterpolar\":[{\"marker\":{\"colorbar\":{\"outlinewidth\":0,\"ticks\":\"\"}},\"type\":\"scatterpolar\"}],\"scatterpolargl\":[{\"marker\":{\"colorbar\":{\"outlinewidth\":0,\"ticks\":\"\"}},\"type\":\"scatterpolargl\"}],\"scatterternary\":[{\"marker\":{\"colorbar\":{\"outlinewidth\":0,\"ticks\":\"\"}},\"type\":\"scatterternary\"}],\"surface\":[{\"colorbar\":{\"outlinewidth\":0,\"ticks\":\"\"},\"colorscale\":[[0.0,\"#0d0887\"],[0.1111111111111111,\"#46039f\"],[0.2222222222222222,\"#7201a8\"],[0.3333333333333333,\"#9c179e\"],[0.4444444444444444,\"#bd3786\"],[0.5555555555555556,\"#d8576b\"],[0.6666666666666666,\"#ed7953\"],[0.7777777777777778,\"#fb9f3a\"],[0.8888888888888888,\"#fdca26\"],[1.0,\"#f0f921\"]],\"type\":\"surface\"}],\"table\":[{\"cells\":{\"fill\":{\"color\":\"#EBF0F8\"},\"line\":{\"color\":\"white\"}},\"header\":{\"fill\":{\"color\":\"#C8D4E3\"},\"line\":{\"color\":\"white\"}},\"type\":\"table\"}]},\"layout\":{\"annotationdefaults\":{\"arrowcolor\":\"#2a3f5f\",\"arrowhead\":0,\"arrowwidth\":1},\"autotypenumbers\":\"strict\",\"coloraxis\":{\"colorbar\":{\"outlinewidth\":0,\"ticks\":\"\"}},\"colorscale\":{\"diverging\":[[0,\"#8e0152\"],[0.1,\"#c51b7d\"],[0.2,\"#de77ae\"],[0.3,\"#f1b6da\"],[0.4,\"#fde0ef\"],[0.5,\"#f7f7f7\"],[0.6,\"#e6f5d0\"],[0.7,\"#b8e186\"],[0.8,\"#7fbc41\"],[0.9,\"#4d9221\"],[1,\"#276419\"]],\"sequential\":[[0.0,\"#0d0887\"],[0.1111111111111111,\"#46039f\"],[0.2222222222222222,\"#7201a8\"],[0.3333333333333333,\"#9c179e\"],[0.4444444444444444,\"#bd3786\"],[0.5555555555555556,\"#d8576b\"],[0.6666666666666666,\"#ed7953\"],[0.7777777777777778,\"#fb9f3a\"],[0.8888888888888888,\"#fdca26\"],[1.0,\"#f0f921\"]],\"sequentialminus\":[[0.0,\"#0d0887\"],[0.1111111111111111,\"#46039f\"],[0.2222222222222222,\"#7201a8\"],[0.3333333333333333,\"#9c179e\"],[0.4444444444444444,\"#bd3786\"],[0.5555555555555556,\"#d8576b\"],[0.6666666666666666,\"#ed7953\"],[0.7777777777777778,\"#fb9f3a\"],[0.8888888888888888,\"#fdca26\"],[1.0,\"#f0f921\"]]},\"colorway\":[\"#636efa\",\"#EF553B\",\"#00cc96\",\"#ab63fa\",\"#FFA15A\",\"#19d3f3\",\"#FF6692\",\"#B6E880\",\"#FF97FF\",\"#FECB52\"],\"font\":{\"color\":\"#2a3f5f\"},\"geo\":{\"bgcolor\":\"white\",\"lakecolor\":\"white\",\"landcolor\":\"#E5ECF6\",\"showlakes\":true,\"showland\":true,\"subunitcolor\":\"white\"},\"hoverlabel\":{\"align\":\"left\"},\"hovermode\":\"closest\",\"mapbox\":{\"style\":\"light\"},\"paper_bgcolor\":\"white\",\"plot_bgcolor\":\"#E5ECF6\",\"polar\":{\"angularaxis\":{\"gridcolor\":\"white\",\"linecolor\":\"white\",\"ticks\":\"\"},\"bgcolor\":\"#E5ECF6\",\"radialaxis\":{\"gridcolor\":\"white\",\"linecolor\":\"white\",\"ticks\":\"\"}},\"scene\":{\"xaxis\":{\"backgroundcolor\":\"#E5ECF6\",\"gridcolor\":\"white\",\"gridwidth\":2,\"linecolor\":\"white\",\"showbackground\":true,\"ticks\":\"\",\"zerolinecolor\":\"white\"},\"yaxis\":{\"backgroundcolor\":\"#E5ECF6\",\"gridcolor\":\"white\",\"gridwidth\":2,\"linecolor\":\"white\",\"showbackground\":true,\"ticks\":\"\",\"zerolinecolor\":\"white\"},\"zaxis\":{\"backgroundcolor\":\"#E5ECF6\",\"gridcolor\":\"white\",\"gridwidth\":2,\"linecolor\":\"white\",\"showbackground\":true,\"ticks\":\"\",\"zerolinecolor\":\"white\"}},\"shapedefaults\":{\"line\":{\"color\":\"#2a3f5f\"}},\"ternary\":{\"aaxis\":{\"gridcolor\":\"white\",\"linecolor\":\"white\",\"ticks\":\"\"},\"baxis\":{\"gridcolor\":\"white\",\"linecolor\":\"white\",\"ticks\":\"\"},\"bgcolor\":\"#E5ECF6\",\"caxis\":{\"gridcolor\":\"white\",\"linecolor\":\"white\",\"ticks\":\"\"}},\"title\":{\"x\":0.05},\"xaxis\":{\"automargin\":true,\"gridcolor\":\"white\",\"linecolor\":\"white\",\"ticks\":\"\",\"title\":{\"standoff\":15},\"zerolinecolor\":\"white\",\"zerolinewidth\":2},\"yaxis\":{\"automargin\":true,\"gridcolor\":\"white\",\"linecolor\":\"white\",\"ticks\":\"\",\"title\":{\"standoff\":15},\"zerolinecolor\":\"white\",\"zerolinewidth\":2}}},\"title\":{\"font\":{\"size\":16},\"text\":\"Drew Houston Tweets Sentiment Change vs Dropbox's Stock Price Change\"},\"xaxis\":{\"title\":{\"font\":{\"size\":16},\"text\":\"Sentiment Change\"}},\"yaxis\":{\"title\":{\"font\":{\"size\":16},\"text\":\"Stock Price Change\"}}},                        {\"responsive\": true}                    ).then(function(){\n",
       "                            \n",
       "var gd = document.getElementById('fb144866-9df0-452d-86ea-40c236c43bec');\n",
       "var x = new MutationObserver(function (mutations, observer) {{\n",
       "        var display = window.getComputedStyle(gd).display;\n",
       "        if (!display || display === 'none') {{\n",
       "            console.log([gd, 'removed!']);\n",
       "            Plotly.purge(gd);\n",
       "            observer.disconnect();\n",
       "        }}\n",
       "}});\n",
       "\n",
       "// Listen for the removal of the full notebook cells\n",
       "var notebookContainer = gd.closest('#notebook-container');\n",
       "if (notebookContainer) {{\n",
       "    x.observe(notebookContainer, {childList: true});\n",
       "}}\n",
       "\n",
       "// Listen for the clearing of the current output cell\n",
       "var outputEl = gd.closest('.output');\n",
       "if (outputEl) {{\n",
       "    x.observe(outputEl, {childList: true});\n",
       "}}\n",
       "\n",
       "                        })                };                });            </script>        </div>"
      ]
     },
     "metadata": {},
     "output_type": "display_data"
    }
   ],
   "source": [
    "import plotly.graph_objects as go\n",
    "\n",
    "fig = go.Figure()\n",
    "_ = fig.add_trace(go.Scatter(\n",
    "    x= df1[\"polarity\"],\n",
    "    y= dfs['var'],\n",
    "    mode=\"markers\",\n",
    "    marker={\"size\": df1['favorite_count'], \"sizemode\": \"area\",\n",
    "                                    \"sizeref\": 2*max(df1['favorite_count']/1000)},\n",
    "    hovertemplate= \"Polarity of Tweets: %{x:.1f}<br>\" +\n",
    "    \"Stock Price Change: %{y:.1f}<br>\" +\n",
    "    \"Number of Likes: %{marker.size:,}\" +\n",
    "    \"<extra></extra>\"\n",
    "))\n",
    "fig.update_layout(\n",
    "    plot_bgcolor=\"white\",\n",
    "    # hovermode=\"x\",\n",
    "    xaxis={\"title\": {\"text\": \"Sentiment Change\", \"font\": {\"size\": 16}}},\n",
    "    yaxis={\"title\": {\"text\": \"Stock Price Change\", \"font\": {\"size\": 16}}},\n",
    "    title={'text': \"Drew Houston Tweets Sentiment Change vs Dropbox's Stock Price Change\", \"font\": {\"size\": 16}}\n",
    ")\n",
    "fig.show()"
   ]
  },
  {
   "cell_type": "code",
   "execution_count": 185,
   "id": "02fc8261-deb5-41f2-942a-aa92a497bcd7",
   "metadata": {
    "collapsed": true,
    "jupyter": {
     "outputs_hidden": true
    },
    "tags": []
   },
   "outputs": [
    {
     "ename": "TypeError",
     "evalue": "sequence item 0: expected str instance, float found",
     "output_type": "error",
     "traceback": [
      "\u001b[0;31m---------------------------------------------------------------------------\u001b[0m",
      "\u001b[0;31mTypeError\u001b[0m                                 Traceback (most recent call last)",
      "\u001b[0;32m/var/folders/fy/7mfyb97n7q12tbfy_b8cwnwr0000gn/T/ipykernel_851/4490883.py\u001b[0m in \u001b[0;36m<module>\u001b[0;34m\u001b[0m\n\u001b[1;32m      1\u001b[0m \u001b[0;32mimport\u001b[0m \u001b[0mmatplotlib\u001b[0m\u001b[0;34m.\u001b[0m\u001b[0mpyplot\u001b[0m \u001b[0;32mas\u001b[0m \u001b[0mplt\u001b[0m\u001b[0;34m\u001b[0m\u001b[0;34m\u001b[0m\u001b[0m\n\u001b[1;32m      2\u001b[0m \u001b[0;32mfrom\u001b[0m \u001b[0mwordcloud\u001b[0m \u001b[0;32mimport\u001b[0m \u001b[0mWordCloud\u001b[0m\u001b[0;34m\u001b[0m\u001b[0;34m\u001b[0m\u001b[0m\n\u001b[0;32m----> 3\u001b[0;31m \u001b[0mallwords\u001b[0m \u001b[0;34m=\u001b[0m \u001b[0;34m\" \"\u001b[0m\u001b[0;34m.\u001b[0m\u001b[0mjoin\u001b[0m\u001b[0;34m(\u001b[0m\u001b[0;34m[\u001b[0m\u001b[0mtwts\u001b[0m \u001b[0;32mfor\u001b[0m \u001b[0mtwts\u001b[0m \u001b[0;32min\u001b[0m \u001b[0mdf\u001b[0m\u001b[0;34m[\u001b[0m\u001b[0;34m'Tweets'\u001b[0m\u001b[0;34m]\u001b[0m\u001b[0;34m]\u001b[0m\u001b[0;34m)\u001b[0m\u001b[0;34m\u001b[0m\u001b[0;34m\u001b[0m\u001b[0m\n\u001b[0m\u001b[1;32m      4\u001b[0m \u001b[0mwordCloud\u001b[0m \u001b[0;34m=\u001b[0m \u001b[0mWordCloud\u001b[0m\u001b[0;34m(\u001b[0m\u001b[0mwidth\u001b[0m \u001b[0;34m=\u001b[0m \u001b[0;36m1000\u001b[0m\u001b[0;34m,\u001b[0m \u001b[0mheight\u001b[0m \u001b[0;34m=\u001b[0m \u001b[0;36m1000\u001b[0m\u001b[0;34m,\u001b[0m \u001b[0mrandom_state\u001b[0m \u001b[0;34m=\u001b[0m \u001b[0;36m21\u001b[0m\u001b[0;34m,\u001b[0m \u001b[0mmax_font_size\u001b[0m \u001b[0;34m=\u001b[0m \u001b[0;36m119\u001b[0m\u001b[0;34m)\u001b[0m\u001b[0;34m.\u001b[0m\u001b[0mgenerate\u001b[0m\u001b[0;34m(\u001b[0m\u001b[0mallwords\u001b[0m\u001b[0;34m)\u001b[0m\u001b[0;34m\u001b[0m\u001b[0;34m\u001b[0m\u001b[0m\n\u001b[1;32m      5\u001b[0m \u001b[0mplt\u001b[0m\u001b[0;34m.\u001b[0m\u001b[0mfigure\u001b[0m\u001b[0;34m(\u001b[0m\u001b[0mfigsize\u001b[0m\u001b[0;34m=\u001b[0m\u001b[0;34m(\u001b[0m\u001b[0;36m20\u001b[0m\u001b[0;34m,\u001b[0m \u001b[0;36m20\u001b[0m\u001b[0;34m)\u001b[0m\u001b[0;34m,\u001b[0m \u001b[0mdpi\u001b[0m\u001b[0;34m=\u001b[0m\u001b[0;36m80\u001b[0m\u001b[0;34m)\u001b[0m\u001b[0;34m\u001b[0m\u001b[0;34m\u001b[0m\u001b[0m\n",
      "\u001b[0;31mTypeError\u001b[0m: sequence item 0: expected str instance, float found"
     ]
    }
   ],
   "source": [
    "import matplotlib.pyplot as plt\n",
    "from wordcloud import WordCloud\n",
    "allwords = \" \".join([twts for twts in df['Tweets']])\n",
    "wordCloud = WordCloud(width = 1000, height = 1000, random_state = 21, max_font_size = 119).generate(allwords)\n",
    "plt.figure(figsize=(20, 20), dpi=80)\n",
    "plt.imshow(wordCloud, interpolation = \"bilinear\")\n",
    "plt.axis(\"off\")\n",
    "plt.show()"
   ]
  },
  {
   "cell_type": "code",
   "execution_count": 186,
   "id": "43791cff-e68d-4c25-b65f-815126cb67e4",
   "metadata": {},
   "outputs": [
    {
     "data": {
      "text/plain": [
       "Date                 datetime64[ns]\n",
       "Close                       float64\n",
       "Return                      float64\n",
       "Tweets                       object\n",
       "Agg_count                   float64\n",
       "Agg_retweet                 float64\n",
       "Agg_favorite                float64\n",
       "Subjectivity_mean           float64\n",
       "Polarity_mean               float64\n",
       "Polarity_chg                float64\n",
       "dtype: object"
      ]
     },
     "execution_count": 186,
     "metadata": {},
     "output_type": "execute_result"
    }
   ],
   "source": [
    "df.dtypes"
   ]
  },
  {
   "cell_type": "code",
   "execution_count": null,
   "id": "e057333c-c802-48d7-9d61-286c8991cfc6",
   "metadata": {},
   "outputs": [],
   "source": []
  }
 ],
 "metadata": {
  "kernelspec": {
   "display_name": "twitter",
   "language": "python",
   "name": "twitter"
  },
  "language_info": {
   "codemirror_mode": {
    "name": "ipython",
    "version": 3
   },
   "file_extension": ".py",
   "mimetype": "text/x-python",
   "name": "python",
   "nbconvert_exporter": "python",
   "pygments_lexer": "ipython3",
   "version": "3.9.7"
  }
 },
 "nbformat": 4,
 "nbformat_minor": 5
}
