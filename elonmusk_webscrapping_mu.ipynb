{
 "cells": [
  {
   "cell_type": "code",
   "execution_count": 19,
   "id": "f58fbf32-c60b-459f-924a-237e93ff7bea",
   "metadata": {},
   "outputs": [],
   "source": [
    "import requests\n",
    "from bs4 import BeautifulSoup\n",
    "import re # a library to do regular expression matching\n",
    "import pandas as pd\n",
    "from tqdm.notebook import tqdm #conda install -c conda-forge ipywidgets\n",
    "from time import sleep\n",
    "import numpy as np\n",
    "import matplotlib.pyplot as plt\n",
    "import matplotlib.colors as mcolors\n",
    "from urllib.request import urlopen\n"
   ]
  },
  {
   "cell_type": "code",
   "execution_count": 20,
   "id": "47e3f925-835d-4b75-941d-52cb48ecd436",
   "metadata": {},
   "outputs": [],
   "source": [
    "url = \"https://twitter.com/elonmusk\"\n",
    "html = urlopen(url)\n",
    "soup = BeautifulSoup(html, \"html.parser\")\n",
    "soup"
   ]
  }
 ],
 "metadata": {
  "kernelspec": {
   "display_name": "ds_toolkit",
   "language": "python",
   "name": "ds_toolkit"
  },
  "language_info": {
   "codemirror_mode": {
    "name": "ipython",
    "version": 3
   },
   "file_extension": ".py",
   "mimetype": "text/x-python",
   "name": "python",
   "nbconvert_exporter": "python",
   "pygments_lexer": "ipython3",
   "version": "3.8.12"
  }
 },
 "nbformat": 4,
 "nbformat_minor": 5
}
