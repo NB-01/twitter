{
 "cells": [
  {
   "cell_type": "markdown",
   "id": "11316ea8-5ac9-4643-849c-fb9351e4b361",
   "metadata": {},
   "source": [
    "## CEOs Twitter Presence"
   ]
  },
  {
   "cell_type": "code",
   "execution_count": 19,
   "id": "9e812381-6b40-425c-b697-bf057279b06a",
   "metadata": {},
   "outputs": [],
   "source": [
    "# Packages:\n",
    "import pandas as pd\n",
    "import matplotlib.pyplot as plt\n",
    "import plotly.express as px\n",
    "import plotly.graph_objects as go\n",
    "import datetime\n",
    "import numpy as np\n",
    "import warnings\n",
    "from textblob import TextBlob\n",
    "from plotly.subplots import make_subplots\n",
    "import seaborn as sns\n",
    "warnings.filterwarnings('ignore')"
   ]
  },
  {
   "cell_type": "markdown",
   "id": "e81ae508-7280-4500-9144-f08f331e4c65",
   "metadata": {},
   "source": [
    "### Preparing Dataframe with all CEOs in analysis:"
   ]
  },
  {
   "cell_type": "code",
   "execution_count": 20,
   "id": "0386de3c-59fb-4529-8e0a-9641166a9e89",
   "metadata": {},
   "outputs": [],
   "source": [
    "def sentiment_analysis(ds):\n",
    "        sentiment = TextBlob(ds['Tweets']).sentiment\n",
    "        return pd.Series([sentiment.subjectivity, sentiment.polarity])"
   ]
  },
  {
   "cell_type": "code",
   "execution_count": 32,
   "id": "759020f1-0d95-49dd-9017-420df65e7b66",
   "metadata": {},
   "outputs": [],
   "source": [
    "def ceo_df(name):\n",
    "    ceo_raw = pd.read_csv(\"../data/raw/\"+name+\".csv\")\n",
    "    \n",
    "    ceo_raw[\"created_at\"] = pd.to_datetime(ceo_raw[\"created_at\"]).dt.date\n",
    "    ceo_raw[\"created_at\"] = pd.to_datetime(ceo_raw[\"created_at\"])\n",
    "    ceo_raw['full_text'] = ceo_raw['full_text'].astype(str)\n",
    "\n",
    "    # Aggregating Tweets by date:\n",
    "    ceo_cleaned = (    \n",
    "        ceo_raw.groupby([\"created_at\"])\n",
    "        .agg(\n",
    "            Tweets=(\"full_text\", \"sum\"),\n",
    "            Agg_count=(\"full_text\", \"count\"),\n",
    "            Agg_retweet=(\"retweet_count\", \"sum\"),\n",
    "            Agg_favorite=(\"favorite_count\", \"sum\")\n",
    "        )\n",
    "        .reset_index())\n",
    "    ceo_cleaned['ceo'] = name\n",
    "    ceo_raw['ceo'] = name\n",
    "    ceo_cleaned['Tweets'] = ceo_cleaned['Tweets'].astype(str)\n",
    "    \n",
    "    \n",
    "    # Aggregating Tweets by CEO name:\n",
    "    ceo_pol = (    \n",
    "        ceo_cleaned.groupby([\"ceo\"])\n",
    "        .agg(\n",
    "            Tweets=(\"Tweets\", \"sum\"),\n",
    "            Agg_count=(\"Agg_count\", \"count\"),\n",
    "            Agg_retweet=(\"Agg_retweet\", \"sum\"),\n",
    "            Agg_favorite=(\"Agg_favorite\", \"sum\")\n",
    "        )\n",
    "        .reset_index())\n",
    "    \n",
    "    # Adding Subjectivity & Polarity\n",
    "    ceo_pol[[\"subjectivity\", \"polarity\"]] = ceo_pol.apply(sentiment_analysis, axis=1)\n",
    "    \n",
    "    return ceo_raw, ceo_pol"
   ]
  },
  {
   "cell_type": "code",
   "execution_count": 74,
   "id": "2792ef65-c754-4f9b-accb-d6c0737146d7",
   "metadata": {},
   "outputs": [],
   "source": [
    "# CEOs csv files names:\n",
    "ceo_names = ['sundar','albert','benioff','branson','dorsey','drewhouston','elonmusk','JeffBezos','timcook','switter']\n",
    "\n",
    "sundar_raw, sundar_pol = ceo_df('sundar')\n",
    "albert_raw,albert_pol = ceo_df('albert')\n",
    "benioff_raw, benioff_pol  = ceo_df('benioff')\n",
    "branson_raw, branson_pol = ceo_df('branson')\n",
    "dorsey_raw, dorsey_pol = ceo_df('dorsey')\n",
    "drewhouston_raw, drewhouston_pol = ceo_df('drewhouston')\n",
    "elonmusk_raw, elonmusk_pol = ceo_df('elonmusk')\n",
    "JeffBezos_raw, JeffBezos_pol = ceo_df('JeffBezos')\n",
    "timcook_raw, timcook_pol = ceo_df('timcook')\n",
    "switter_raw, switter_pol = ceo_df('switter')"
   ]
  },
  {
   "cell_type": "code",
   "execution_count": 79,
   "id": "a8a25579-2219-4fa5-a44b-fde356b7631c",
   "metadata": {},
   "outputs": [],
   "source": [
    "# Merging DFs:\n",
    "ceos_raw = [sundar_raw,albert_raw,benioff_raw,branson_raw,dorsey_raw,drewhouston_raw,elonmusk_raw,JeffBezos_raw,timcook_raw]\n",
    "ceos_pol = [sundar_pol,albert_pol,benioff_pol,branson_pol,dorsey_pol,drewhouston_pol,elonmusk_pol,JeffBezos_pol,timcook_pol]\n",
    "\n",
    "dfs_ceos_raw = pd.concat(ceos_raw, ignore_index=True)\n",
    "dfs_ceos_polarity = pd.concat(ceos_pol, ignore_index=True)"
   ]
  },
  {
   "cell_type": "code",
   "execution_count": 82,
   "id": "1ccbe026-1678-4598-96a7-16431b3be687",
   "metadata": {},
   "outputs": [],
   "source": [
    "# Fixing CEOs Names:\n",
    "ceo_names_rev = ['Sundar Pachai','Albert Bourla','Marc Benioff','Richard Branson','Jack Dorsey','Drew Houston','Elon Musk','Jeff Bezos','Tim Cook','Switter']\n",
    "\n",
    "for old_n, new_n in zip(ceo_names, ceo_names_rev):\n",
    "    dfs_ceos_raw = dfs_ceos_raw.replace(old_n,new_n)\n",
    "    dfs_ceos_polarity = dfs_ceos_polarity.replace(old_n,new_n)\n",
    "    \n",
    "dfs_ceos_raw = dfs_ceos_raw.sort_values(by='ceo',ascending=True)    \n",
    "dfs_ceos_polarity = dfs_ceos_polarity.sort_values(by='ceo',ascending=True)    "
   ]
  },
  {
   "cell_type": "code",
   "execution_count": 83,
   "id": "b44bcd69-6578-4492-920c-9ceb7f1146ff",
   "metadata": {},
   "outputs": [
    {
     "data": {
      "application/vnd.plotly.v1+json": {
       "config": {
        "plotlyServerURL": "https://plot.ly"
       },
       "data": [
        {
         "marker": {
          "color": [
           "#a50026",
           "#d73027",
           "#f46d43",
           "#fdae61",
           "#fee090",
           "#abd9e9",
           "#74add1",
           "#4575b4",
           "#313695",
           "#1a1e74"
          ]
         },
         "type": "bar",
         "x": [
          "Albert Bourla",
          "Drew Houston",
          "Elon Musk",
          "Jack Dorsey",
          "Jeff Bezos",
          "Marc Benioff",
          "Richard Branson",
          "Sundar Pachai",
          "Tim Cook"
         ],
         "xaxis": "x",
         "y": [
          576,
          468,
          1644,
          3232,
          271,
          3240,
          3249,
          1644,
          1261
         ],
         "yaxis": "y"
        },
        {
         "marker": {
          "color": [
           "#d73027"
          ]
         },
         "mode": "lines",
         "type": "scatter",
         "x": [
          "Albert Bourla",
          "Drew Houston",
          "Elon Musk",
          "Jack Dorsey",
          "Jeff Bezos",
          "Marc Benioff",
          "Richard Branson",
          "Sundar Pachai",
          "Tim Cook"
         ],
         "xaxis": "x",
         "y": [
          1731.6666666666667,
          1731.6666666666667,
          1731.6666666666667,
          1731.6666666666667,
          1731.6666666666667,
          1731.6666666666667,
          1731.6666666666667,
          1731.6666666666667,
          1731.6666666666667
         ],
         "yaxis": "y"
        },
        {
         "marker": {
          "color": [
           "#a50026",
           "#d73027",
           "#f46d43",
           "#fdae61",
           "#fee090",
           "#abd9e9",
           "#74add1",
           "#4575b4",
           "#313695",
           "#1a1e74"
          ]
         },
         "type": "bar",
         "x": [
          "Albert Bourla",
          "Drew Houston",
          "Elon Musk",
          "Jack Dorsey",
          "Jeff Bezos",
          "Marc Benioff",
          "Richard Branson",
          "Sundar Pachai",
          "Tim Cook"
         ],
         "xaxis": "x2",
         "y": [
          0.21827228497044965,
          0.2502407911448399,
          0.2801605341866462,
          0.2079602017703769,
          0.31695368018944736,
          0.21263525210323383,
          0.28325729574391784,
          0.2801605341866462,
          0.3547360497984787
         ],
         "yaxis": "y2"
        },
        {
         "marker": {
          "color": "#d73027"
         },
         "mode": "lines",
         "type": "scatter",
         "x": [
          "Albert Bourla",
          "Drew Houston",
          "Elon Musk",
          "Jack Dorsey",
          "Jeff Bezos",
          "Marc Benioff",
          "Richard Branson",
          "Sundar Pachai",
          "Tim Cook"
         ],
         "xaxis": "x2",
         "y": [
          0.2671529582326707,
          0.2671529582326707,
          0.2671529582326707,
          0.2671529582326707,
          0.2671529582326707,
          0.2671529582326707,
          0.2671529582326707,
          0.2671529582326707,
          0.2671529582326707
         ],
         "yaxis": "y2"
        },
        {
         "marker": {
          "color": [
           "#a50026",
           "#d73027",
           "#f46d43",
           "#fdae61",
           "#fee090",
           "#abd9e9",
           "#74add1",
           "#4575b4",
           "#313695",
           "#1a1e74"
          ]
         },
         "type": "bar",
         "x": [
          "Albert Bourla",
          "Drew Houston",
          "Elon Musk",
          "Jack Dorsey",
          "Jeff Bezos",
          "Marc Benioff",
          "Richard Branson",
          "Sundar Pachai",
          "Tim Cook"
         ],
         "xaxis": "x3",
         "y": [
          26494,
          1639909,
          1255146,
          10472945,
          388293,
          1770330,
          256244,
          1255146,
          2050070
         ],
         "yaxis": "y3"
        },
        {
         "marker": {
          "color": "#d73027"
         },
         "mode": "lines",
         "type": "scatter",
         "x": [
          "Albert Bourla",
          "Drew Houston",
          "Elon Musk",
          "Jack Dorsey",
          "Jeff Bezos",
          "Marc Benioff",
          "Richard Branson",
          "Sundar Pachai",
          "Tim Cook"
         ],
         "xaxis": "x3",
         "y": [
          2123841.888888889,
          2123841.888888889,
          2123841.888888889,
          2123841.888888889,
          2123841.888888889,
          2123841.888888889,
          2123841.888888889,
          2123841.888888889,
          2123841.888888889
         ],
         "yaxis": "y3"
        },
        {
         "marker": {
          "color": [
           "#a50026",
           "#d73027",
           "#f46d43",
           "#fdae61",
           "#fee090",
           "#abd9e9",
           "#74add1",
           "#4575b4",
           "#313695",
           "#1a1e74"
          ]
         },
         "type": "bar",
         "x": [
          "Albert Bourla",
          "Drew Houston",
          "Elon Musk",
          "Jack Dorsey",
          "Jeff Bezos",
          "Marc Benioff",
          "Richard Branson",
          "Sundar Pachai",
          "Tim Cook"
         ],
         "xaxis": "x4",
         "y": [
          151538,
          24115,
          3180916,
          8741049,
          2243610,
          248952,
          1487883,
          3180916,
          9456502
         ],
         "yaxis": "y4"
        },
        {
         "marker": {
          "color": "#d73027"
         },
         "mode": "lines",
         "type": "scatter",
         "x": [
          "Albert Bourla",
          "Drew Houston",
          "Elon Musk",
          "Jack Dorsey",
          "Jeff Bezos",
          "Marc Benioff",
          "Richard Branson",
          "Sundar Pachai",
          "Tim Cook"
         ],
         "xaxis": "x4",
         "y": [
          3190609,
          3190609,
          3190609,
          3190609,
          3190609,
          3190609,
          3190609,
          3190609,
          3190609
         ],
         "yaxis": "y4"
        }
       ],
       "layout": {
        "annotations": [
         {
          "font": {
           "size": 16
          },
          "showarrow": false,
          "text": "Sample number of Tweets",
          "x": 0.225,
          "xanchor": "center",
          "xref": "paper",
          "y": 1,
          "yanchor": "bottom",
          "yref": "paper"
         },
         {
          "font": {
           "size": 16
          },
          "showarrow": false,
          "text": "Tweets Overall Polarity",
          "x": 0.775,
          "xanchor": "center",
          "xref": "paper",
          "y": 1,
          "yanchor": "bottom",
          "yref": "paper"
         },
         {
          "font": {
           "size": 16
          },
          "showarrow": false,
          "text": "Retweets",
          "x": 0.225,
          "xanchor": "center",
          "xref": "paper",
          "y": 0.375,
          "yanchor": "bottom",
          "yref": "paper"
         },
         {
          "font": {
           "size": 16
          },
          "showarrow": false,
          "text": "Likes",
          "x": 0.775,
          "xanchor": "center",
          "xref": "paper",
          "y": 0.375,
          "yanchor": "bottom",
          "yref": "paper"
         }
        ],
        "height": 600,
        "showlegend": false,
        "template": {
         "data": {
          "bar": [
           {
            "error_x": {
             "color": "#2a3f5f"
            },
            "error_y": {
             "color": "#2a3f5f"
            },
            "marker": {
             "line": {
              "color": "#E5ECF6",
              "width": 0.5
             },
             "pattern": {
              "fillmode": "overlay",
              "size": 10,
              "solidity": 0.2
             }
            },
            "type": "bar"
           }
          ],
          "barpolar": [
           {
            "marker": {
             "line": {
              "color": "#E5ECF6",
              "width": 0.5
             },
             "pattern": {
              "fillmode": "overlay",
              "size": 10,
              "solidity": 0.2
             }
            },
            "type": "barpolar"
           }
          ],
          "carpet": [
           {
            "aaxis": {
             "endlinecolor": "#2a3f5f",
             "gridcolor": "white",
             "linecolor": "white",
             "minorgridcolor": "white",
             "startlinecolor": "#2a3f5f"
            },
            "baxis": {
             "endlinecolor": "#2a3f5f",
             "gridcolor": "white",
             "linecolor": "white",
             "minorgridcolor": "white",
             "startlinecolor": "#2a3f5f"
            },
            "type": "carpet"
           }
          ],
          "choropleth": [
           {
            "colorbar": {
             "outlinewidth": 0,
             "ticks": ""
            },
            "type": "choropleth"
           }
          ],
          "contour": [
           {
            "colorbar": {
             "outlinewidth": 0,
             "ticks": ""
            },
            "colorscale": [
             [
              0,
              "#0d0887"
             ],
             [
              0.1111111111111111,
              "#46039f"
             ],
             [
              0.2222222222222222,
              "#7201a8"
             ],
             [
              0.3333333333333333,
              "#9c179e"
             ],
             [
              0.4444444444444444,
              "#bd3786"
             ],
             [
              0.5555555555555556,
              "#d8576b"
             ],
             [
              0.6666666666666666,
              "#ed7953"
             ],
             [
              0.7777777777777778,
              "#fb9f3a"
             ],
             [
              0.8888888888888888,
              "#fdca26"
             ],
             [
              1,
              "#f0f921"
             ]
            ],
            "type": "contour"
           }
          ],
          "contourcarpet": [
           {
            "colorbar": {
             "outlinewidth": 0,
             "ticks": ""
            },
            "type": "contourcarpet"
           }
          ],
          "heatmap": [
           {
            "colorbar": {
             "outlinewidth": 0,
             "ticks": ""
            },
            "colorscale": [
             [
              0,
              "#0d0887"
             ],
             [
              0.1111111111111111,
              "#46039f"
             ],
             [
              0.2222222222222222,
              "#7201a8"
             ],
             [
              0.3333333333333333,
              "#9c179e"
             ],
             [
              0.4444444444444444,
              "#bd3786"
             ],
             [
              0.5555555555555556,
              "#d8576b"
             ],
             [
              0.6666666666666666,
              "#ed7953"
             ],
             [
              0.7777777777777778,
              "#fb9f3a"
             ],
             [
              0.8888888888888888,
              "#fdca26"
             ],
             [
              1,
              "#f0f921"
             ]
            ],
            "type": "heatmap"
           }
          ],
          "heatmapgl": [
           {
            "colorbar": {
             "outlinewidth": 0,
             "ticks": ""
            },
            "colorscale": [
             [
              0,
              "#0d0887"
             ],
             [
              0.1111111111111111,
              "#46039f"
             ],
             [
              0.2222222222222222,
              "#7201a8"
             ],
             [
              0.3333333333333333,
              "#9c179e"
             ],
             [
              0.4444444444444444,
              "#bd3786"
             ],
             [
              0.5555555555555556,
              "#d8576b"
             ],
             [
              0.6666666666666666,
              "#ed7953"
             ],
             [
              0.7777777777777778,
              "#fb9f3a"
             ],
             [
              0.8888888888888888,
              "#fdca26"
             ],
             [
              1,
              "#f0f921"
             ]
            ],
            "type": "heatmapgl"
           }
          ],
          "histogram": [
           {
            "marker": {
             "pattern": {
              "fillmode": "overlay",
              "size": 10,
              "solidity": 0.2
             }
            },
            "type": "histogram"
           }
          ],
          "histogram2d": [
           {
            "colorbar": {
             "outlinewidth": 0,
             "ticks": ""
            },
            "colorscale": [
             [
              0,
              "#0d0887"
             ],
             [
              0.1111111111111111,
              "#46039f"
             ],
             [
              0.2222222222222222,
              "#7201a8"
             ],
             [
              0.3333333333333333,
              "#9c179e"
             ],
             [
              0.4444444444444444,
              "#bd3786"
             ],
             [
              0.5555555555555556,
              "#d8576b"
             ],
             [
              0.6666666666666666,
              "#ed7953"
             ],
             [
              0.7777777777777778,
              "#fb9f3a"
             ],
             [
              0.8888888888888888,
              "#fdca26"
             ],
             [
              1,
              "#f0f921"
             ]
            ],
            "type": "histogram2d"
           }
          ],
          "histogram2dcontour": [
           {
            "colorbar": {
             "outlinewidth": 0,
             "ticks": ""
            },
            "colorscale": [
             [
              0,
              "#0d0887"
             ],
             [
              0.1111111111111111,
              "#46039f"
             ],
             [
              0.2222222222222222,
              "#7201a8"
             ],
             [
              0.3333333333333333,
              "#9c179e"
             ],
             [
              0.4444444444444444,
              "#bd3786"
             ],
             [
              0.5555555555555556,
              "#d8576b"
             ],
             [
              0.6666666666666666,
              "#ed7953"
             ],
             [
              0.7777777777777778,
              "#fb9f3a"
             ],
             [
              0.8888888888888888,
              "#fdca26"
             ],
             [
              1,
              "#f0f921"
             ]
            ],
            "type": "histogram2dcontour"
           }
          ],
          "mesh3d": [
           {
            "colorbar": {
             "outlinewidth": 0,
             "ticks": ""
            },
            "type": "mesh3d"
           }
          ],
          "parcoords": [
           {
            "line": {
             "colorbar": {
              "outlinewidth": 0,
              "ticks": ""
             }
            },
            "type": "parcoords"
           }
          ],
          "pie": [
           {
            "automargin": true,
            "type": "pie"
           }
          ],
          "scatter": [
           {
            "marker": {
             "colorbar": {
              "outlinewidth": 0,
              "ticks": ""
             }
            },
            "type": "scatter"
           }
          ],
          "scatter3d": [
           {
            "line": {
             "colorbar": {
              "outlinewidth": 0,
              "ticks": ""
             }
            },
            "marker": {
             "colorbar": {
              "outlinewidth": 0,
              "ticks": ""
             }
            },
            "type": "scatter3d"
           }
          ],
          "scattercarpet": [
           {
            "marker": {
             "colorbar": {
              "outlinewidth": 0,
              "ticks": ""
             }
            },
            "type": "scattercarpet"
           }
          ],
          "scattergeo": [
           {
            "marker": {
             "colorbar": {
              "outlinewidth": 0,
              "ticks": ""
             }
            },
            "type": "scattergeo"
           }
          ],
          "scattergl": [
           {
            "marker": {
             "colorbar": {
              "outlinewidth": 0,
              "ticks": ""
             }
            },
            "type": "scattergl"
           }
          ],
          "scattermapbox": [
           {
            "marker": {
             "colorbar": {
              "outlinewidth": 0,
              "ticks": ""
             }
            },
            "type": "scattermapbox"
           }
          ],
          "scatterpolar": [
           {
            "marker": {
             "colorbar": {
              "outlinewidth": 0,
              "ticks": ""
             }
            },
            "type": "scatterpolar"
           }
          ],
          "scatterpolargl": [
           {
            "marker": {
             "colorbar": {
              "outlinewidth": 0,
              "ticks": ""
             }
            },
            "type": "scatterpolargl"
           }
          ],
          "scatterternary": [
           {
            "marker": {
             "colorbar": {
              "outlinewidth": 0,
              "ticks": ""
             }
            },
            "type": "scatterternary"
           }
          ],
          "surface": [
           {
            "colorbar": {
             "outlinewidth": 0,
             "ticks": ""
            },
            "colorscale": [
             [
              0,
              "#0d0887"
             ],
             [
              0.1111111111111111,
              "#46039f"
             ],
             [
              0.2222222222222222,
              "#7201a8"
             ],
             [
              0.3333333333333333,
              "#9c179e"
             ],
             [
              0.4444444444444444,
              "#bd3786"
             ],
             [
              0.5555555555555556,
              "#d8576b"
             ],
             [
              0.6666666666666666,
              "#ed7953"
             ],
             [
              0.7777777777777778,
              "#fb9f3a"
             ],
             [
              0.8888888888888888,
              "#fdca26"
             ],
             [
              1,
              "#f0f921"
             ]
            ],
            "type": "surface"
           }
          ],
          "table": [
           {
            "cells": {
             "fill": {
              "color": "#EBF0F8"
             },
             "line": {
              "color": "white"
             }
            },
            "header": {
             "fill": {
              "color": "#C8D4E3"
             },
             "line": {
              "color": "white"
             }
            },
            "type": "table"
           }
          ]
         },
         "layout": {
          "annotationdefaults": {
           "arrowcolor": "#2a3f5f",
           "arrowhead": 0,
           "arrowwidth": 1
          },
          "autotypenumbers": "strict",
          "coloraxis": {
           "colorbar": {
            "outlinewidth": 0,
            "ticks": ""
           }
          },
          "colorscale": {
           "diverging": [
            [
             0,
             "#8e0152"
            ],
            [
             0.1,
             "#c51b7d"
            ],
            [
             0.2,
             "#de77ae"
            ],
            [
             0.3,
             "#f1b6da"
            ],
            [
             0.4,
             "#fde0ef"
            ],
            [
             0.5,
             "#f7f7f7"
            ],
            [
             0.6,
             "#e6f5d0"
            ],
            [
             0.7,
             "#b8e186"
            ],
            [
             0.8,
             "#7fbc41"
            ],
            [
             0.9,
             "#4d9221"
            ],
            [
             1,
             "#276419"
            ]
           ],
           "sequential": [
            [
             0,
             "#0d0887"
            ],
            [
             0.1111111111111111,
             "#46039f"
            ],
            [
             0.2222222222222222,
             "#7201a8"
            ],
            [
             0.3333333333333333,
             "#9c179e"
            ],
            [
             0.4444444444444444,
             "#bd3786"
            ],
            [
             0.5555555555555556,
             "#d8576b"
            ],
            [
             0.6666666666666666,
             "#ed7953"
            ],
            [
             0.7777777777777778,
             "#fb9f3a"
            ],
            [
             0.8888888888888888,
             "#fdca26"
            ],
            [
             1,
             "#f0f921"
            ]
           ],
           "sequentialminus": [
            [
             0,
             "#0d0887"
            ],
            [
             0.1111111111111111,
             "#46039f"
            ],
            [
             0.2222222222222222,
             "#7201a8"
            ],
            [
             0.3333333333333333,
             "#9c179e"
            ],
            [
             0.4444444444444444,
             "#bd3786"
            ],
            [
             0.5555555555555556,
             "#d8576b"
            ],
            [
             0.6666666666666666,
             "#ed7953"
            ],
            [
             0.7777777777777778,
             "#fb9f3a"
            ],
            [
             0.8888888888888888,
             "#fdca26"
            ],
            [
             1,
             "#f0f921"
            ]
           ]
          },
          "colorway": [
           "#636efa",
           "#EF553B",
           "#00cc96",
           "#ab63fa",
           "#FFA15A",
           "#19d3f3",
           "#FF6692",
           "#B6E880",
           "#FF97FF",
           "#FECB52"
          ],
          "font": {
           "color": "#2a3f5f"
          },
          "geo": {
           "bgcolor": "white",
           "lakecolor": "white",
           "landcolor": "#E5ECF6",
           "showlakes": true,
           "showland": true,
           "subunitcolor": "white"
          },
          "hoverlabel": {
           "align": "left"
          },
          "hovermode": "closest",
          "mapbox": {
           "style": "light"
          },
          "paper_bgcolor": "white",
          "plot_bgcolor": "#E5ECF6",
          "polar": {
           "angularaxis": {
            "gridcolor": "white",
            "linecolor": "white",
            "ticks": ""
           },
           "bgcolor": "#E5ECF6",
           "radialaxis": {
            "gridcolor": "white",
            "linecolor": "white",
            "ticks": ""
           }
          },
          "scene": {
           "xaxis": {
            "backgroundcolor": "#E5ECF6",
            "gridcolor": "white",
            "gridwidth": 2,
            "linecolor": "white",
            "showbackground": true,
            "ticks": "",
            "zerolinecolor": "white"
           },
           "yaxis": {
            "backgroundcolor": "#E5ECF6",
            "gridcolor": "white",
            "gridwidth": 2,
            "linecolor": "white",
            "showbackground": true,
            "ticks": "",
            "zerolinecolor": "white"
           },
           "zaxis": {
            "backgroundcolor": "#E5ECF6",
            "gridcolor": "white",
            "gridwidth": 2,
            "linecolor": "white",
            "showbackground": true,
            "ticks": "",
            "zerolinecolor": "white"
           }
          },
          "shapedefaults": {
           "line": {
            "color": "#2a3f5f"
           }
          },
          "ternary": {
           "aaxis": {
            "gridcolor": "white",
            "linecolor": "white",
            "ticks": ""
           },
           "baxis": {
            "gridcolor": "white",
            "linecolor": "white",
            "ticks": ""
           },
           "bgcolor": "#E5ECF6",
           "caxis": {
            "gridcolor": "white",
            "linecolor": "white",
            "ticks": ""
           }
          },
          "title": {
           "x": 0.05
          },
          "xaxis": {
           "automargin": true,
           "gridcolor": "white",
           "linecolor": "white",
           "ticks": "",
           "title": {
            "standoff": 15
           },
           "zerolinecolor": "white",
           "zerolinewidth": 2
          },
          "yaxis": {
           "automargin": true,
           "gridcolor": "white",
           "linecolor": "white",
           "ticks": "",
           "title": {
            "standoff": 15
           },
           "zerolinecolor": "white",
           "zerolinewidth": 2
          }
         }
        },
        "title": {
         "text": "CEOs Activity on Twitter"
        },
        "width": 800,
        "xaxis": {
         "anchor": "y",
         "autorange": true,
         "domain": [
          0,
          0.45
         ],
         "range": [
          -0.5,
          8.5
         ],
         "type": "category"
        },
        "xaxis2": {
         "anchor": "y2",
         "autorange": true,
         "domain": [
          0.55,
          1
         ],
         "range": [
          -0.5,
          8.5
         ],
         "type": "category"
        },
        "xaxis3": {
         "anchor": "y3",
         "autorange": true,
         "domain": [
          0,
          0.45
         ],
         "range": [
          -0.5,
          8.5
         ],
         "type": "category"
        },
        "xaxis4": {
         "anchor": "y4",
         "autorange": true,
         "domain": [
          0.55,
          1
         ],
         "range": [
          -0.5,
          8.5
         ],
         "type": "category"
        },
        "yaxis": {
         "anchor": "x",
         "autorange": true,
         "domain": [
          0.625,
          1
         ],
         "range": [
          0,
          3420
         ],
         "type": "linear"
        },
        "yaxis2": {
         "anchor": "x2",
         "autorange": true,
         "domain": [
          0.625,
          1
         ],
         "range": [
          0,
          0.373406368208925
         ],
         "type": "linear"
        },
        "yaxis3": {
         "anchor": "x3",
         "autorange": true,
         "domain": [
          0,
          0.375
         ],
         "range": [
          0,
          11024152.631578948
         ],
         "type": "linear"
        },
        "yaxis4": {
         "anchor": "x4",
         "autorange": true,
         "domain": [
          0,
          0.375
         ],
         "range": [
          0,
          9954212.631578946
         ],
         "type": "linear"
        }
       }
      },
      "image/png": "[encoded data removed]",
      "text/html": [
       "<div>                            <div id=\"196665a0-1642-4f7d-b5bf-e383b54c7577\" class=\"plotly-graph-div\" style=\"height:600px; width:800px;\"></div>            <script type=\"text/javascript\">                require([\"plotly\"], function(Plotly) {                    window.PLOTLYENV=window.PLOTLYENV || {};                                    if (document.getElementById(\"196665a0-1642-4f7d-b5bf-e383b54c7577\")) {                    Plotly.newPlot(                        \"196665a0-1642-4f7d-b5bf-e383b54c7577\",                        [{\"marker\":{\"color\":[\"#a50026\",\"#d73027\",\"#f46d43\",\"#fdae61\",\"#fee090\",\"#abd9e9\",\"#74add1\",\"#4575b4\",\"#313695\",\"#1a1e74\"]},\"x\":[\"Albert Bourla\",\"Drew Houston\",\"Elon Musk\",\"Jack Dorsey\",\"Jeff Bezos\",\"Marc Benioff\",\"Richard Branson\",\"Sundar Pachai\",\"Tim Cook\"],\"y\":[576,468,1644,3232,271,3240,3249,1644,1261],\"type\":\"bar\",\"xaxis\":\"x\",\"yaxis\":\"y\"},{\"marker\":{\"color\":[\"#d73027\"]},\"mode\":\"lines\",\"x\":[\"Albert Bourla\",\"Drew Houston\",\"Elon Musk\",\"Jack Dorsey\",\"Jeff Bezos\",\"Marc Benioff\",\"Richard Branson\",\"Sundar Pachai\",\"Tim Cook\"],\"y\":[1731.6666666666667,1731.6666666666667,1731.6666666666667,1731.6666666666667,1731.6666666666667,1731.6666666666667,1731.6666666666667,1731.6666666666667,1731.6666666666667],\"type\":\"scatter\",\"xaxis\":\"x\",\"yaxis\":\"y\"},{\"marker\":{\"color\":[\"#a50026\",\"#d73027\",\"#f46d43\",\"#fdae61\",\"#fee090\",\"#abd9e9\",\"#74add1\",\"#4575b4\",\"#313695\",\"#1a1e74\"]},\"x\":[\"Albert Bourla\",\"Drew Houston\",\"Elon Musk\",\"Jack Dorsey\",\"Jeff Bezos\",\"Marc Benioff\",\"Richard Branson\",\"Sundar Pachai\",\"Tim Cook\"],\"y\":[0.21827228497044965,0.2502407911448399,0.2801605341866462,0.2079602017703769,0.31695368018944736,0.21263525210323383,0.28325729574391784,0.2801605341866462,0.3547360497984787],\"type\":\"bar\",\"xaxis\":\"x2\",\"yaxis\":\"y2\"},{\"marker\":{\"color\":\"#d73027\"},\"mode\":\"lines\",\"x\":[\"Albert Bourla\",\"Drew Houston\",\"Elon Musk\",\"Jack Dorsey\",\"Jeff Bezos\",\"Marc Benioff\",\"Richard Branson\",\"Sundar Pachai\",\"Tim Cook\"],\"y\":[0.2671529582326707,0.2671529582326707,0.2671529582326707,0.2671529582326707,0.2671529582326707,0.2671529582326707,0.2671529582326707,0.2671529582326707,0.2671529582326707],\"type\":\"scatter\",\"xaxis\":\"x2\",\"yaxis\":\"y2\"},{\"marker\":{\"color\":[\"#a50026\",\"#d73027\",\"#f46d43\",\"#fdae61\",\"#fee090\",\"#abd9e9\",\"#74add1\",\"#4575b4\",\"#313695\",\"#1a1e74\"]},\"x\":[\"Albert Bourla\",\"Drew Houston\",\"Elon Musk\",\"Jack Dorsey\",\"Jeff Bezos\",\"Marc Benioff\",\"Richard Branson\",\"Sundar Pachai\",\"Tim Cook\"],\"y\":[26494,1639909,1255146,10472945,388293,1770330,256244,1255146,2050070],\"type\":\"bar\",\"xaxis\":\"x3\",\"yaxis\":\"y3\"},{\"marker\":{\"color\":\"#d73027\"},\"mode\":\"lines\",\"x\":[\"Albert Bourla\",\"Drew Houston\",\"Elon Musk\",\"Jack Dorsey\",\"Jeff Bezos\",\"Marc Benioff\",\"Richard Branson\",\"Sundar Pachai\",\"Tim Cook\"],\"y\":[2123841.888888889,2123841.888888889,2123841.888888889,2123841.888888889,2123841.888888889,2123841.888888889,2123841.888888889,2123841.888888889,2123841.888888889],\"type\":\"scatter\",\"xaxis\":\"x3\",\"yaxis\":\"y3\"},{\"marker\":{\"color\":[\"#a50026\",\"#d73027\",\"#f46d43\",\"#fdae61\",\"#fee090\",\"#abd9e9\",\"#74add1\",\"#4575b4\",\"#313695\",\"#1a1e74\"]},\"x\":[\"Albert Bourla\",\"Drew Houston\",\"Elon Musk\",\"Jack Dorsey\",\"Jeff Bezos\",\"Marc Benioff\",\"Richard Branson\",\"Sundar Pachai\",\"Tim Cook\"],\"y\":[151538,24115,3180916,8741049,2243610,248952,1487883,3180916,9456502],\"type\":\"bar\",\"xaxis\":\"x4\",\"yaxis\":\"y4\"},{\"marker\":{\"color\":\"#d73027\"},\"mode\":\"lines\",\"x\":[\"Albert Bourla\",\"Drew Houston\",\"Elon Musk\",\"Jack Dorsey\",\"Jeff Bezos\",\"Marc Benioff\",\"Richard Branson\",\"Sundar Pachai\",\"Tim Cook\"],\"y\":[3190609.0,3190609.0,3190609.0,3190609.0,3190609.0,3190609.0,3190609.0,3190609.0,3190609.0],\"type\":\"scatter\",\"xaxis\":\"x4\",\"yaxis\":\"y4\"}],                        {\"template\":{\"data\":{\"bar\":[{\"error_x\":{\"color\":\"#2a3f5f\"},\"error_y\":{\"color\":\"#2a3f5f\"},\"marker\":{\"line\":{\"color\":\"#E5ECF6\",\"width\":0.5},\"pattern\":{\"fillmode\":\"overlay\",\"size\":10,\"solidity\":0.2}},\"type\":\"bar\"}],\"barpolar\":[{\"marker\":{\"line\":{\"color\":\"#E5ECF6\",\"width\":0.5},\"pattern\":{\"fillmode\":\"overlay\",\"size\":10,\"solidity\":0.2}},\"type\":\"barpolar\"}],\"carpet\":[{\"aaxis\":{\"endlinecolor\":\"#2a3f5f\",\"gridcolor\":\"white\",\"linecolor\":\"white\",\"minorgridcolor\":\"white\",\"startlinecolor\":\"#2a3f5f\"},\"baxis\":{\"endlinecolor\":\"#2a3f5f\",\"gridcolor\":\"white\",\"linecolor\":\"white\",\"minorgridcolor\":\"white\",\"startlinecolor\":\"#2a3f5f\"},\"type\":\"carpet\"}],\"choropleth\":[{\"colorbar\":{\"outlinewidth\":0,\"ticks\":\"\"},\"type\":\"choropleth\"}],\"contour\":[{\"colorbar\":{\"outlinewidth\":0,\"ticks\":\"\"},\"colorscale\":[[0.0,\"#0d0887\"],[0.1111111111111111,\"#46039f\"],[0.2222222222222222,\"#7201a8\"],[0.3333333333333333,\"#9c179e\"],[0.4444444444444444,\"#bd3786\"],[0.5555555555555556,\"#d8576b\"],[0.6666666666666666,\"#ed7953\"],[0.7777777777777778,\"#fb9f3a\"],[0.8888888888888888,\"#fdca26\"],[1.0,\"#f0f921\"]],\"type\":\"contour\"}],\"contourcarpet\":[{\"colorbar\":{\"outlinewidth\":0,\"ticks\":\"\"},\"type\":\"contourcarpet\"}],\"heatmap\":[{\"colorbar\":{\"outlinewidth\":0,\"ticks\":\"\"},\"colorscale\":[[0.0,\"#0d0887\"],[0.1111111111111111,\"#46039f\"],[0.2222222222222222,\"#7201a8\"],[0.3333333333333333,\"#9c179e\"],[0.4444444444444444,\"#bd3786\"],[0.5555555555555556,\"#d8576b\"],[0.6666666666666666,\"#ed7953\"],[0.7777777777777778,\"#fb9f3a\"],[0.8888888888888888,\"#fdca26\"],[1.0,\"#f0f921\"]],\"type\":\"heatmap\"}],\"heatmapgl\":[{\"colorbar\":{\"outlinewidth\":0,\"ticks\":\"\"},\"colorscale\":[[0.0,\"#0d0887\"],[0.1111111111111111,\"#46039f\"],[0.2222222222222222,\"#7201a8\"],[0.3333333333333333,\"#9c179e\"],[0.4444444444444444,\"#bd3786\"],[0.5555555555555556,\"#d8576b\"],[0.6666666666666666,\"#ed7953\"],[0.7777777777777778,\"#fb9f3a\"],[0.8888888888888888,\"#fdca26\"],[1.0,\"#f0f921\"]],\"type\":\"heatmapgl\"}],\"histogram\":[{\"marker\":{\"pattern\":{\"fillmode\":\"overlay\",\"size\":10,\"solidity\":0.2}},\"type\":\"histogram\"}],\"histogram2d\":[{\"colorbar\":{\"outlinewidth\":0,\"ticks\":\"\"},\"colorscale\":[[0.0,\"#0d0887\"],[0.1111111111111111,\"#46039f\"],[0.2222222222222222,\"#7201a8\"],[0.3333333333333333,\"#9c179e\"],[0.4444444444444444,\"#bd3786\"],[0.5555555555555556,\"#d8576b\"],[0.6666666666666666,\"#ed7953\"],[0.7777777777777778,\"#fb9f3a\"],[0.8888888888888888,\"#fdca26\"],[1.0,\"#f0f921\"]],\"type\":\"histogram2d\"}],\"histogram2dcontour\":[{\"colorbar\":{\"outlinewidth\":0,\"ticks\":\"\"},\"colorscale\":[[0.0,\"#0d0887\"],[0.1111111111111111,\"#46039f\"],[0.2222222222222222,\"#7201a8\"],[0.3333333333333333,\"#9c179e\"],[0.4444444444444444,\"#bd3786\"],[0.5555555555555556,\"#d8576b\"],[0.6666666666666666,\"#ed7953\"],[0.7777777777777778,\"#fb9f3a\"],[0.8888888888888888,\"#fdca26\"],[1.0,\"#f0f921\"]],\"type\":\"histogram2dcontour\"}],\"mesh3d\":[{\"colorbar\":{\"outlinewidth\":0,\"ticks\":\"\"},\"type\":\"mesh3d\"}],\"parcoords\":[{\"line\":{\"colorbar\":{\"outlinewidth\":0,\"ticks\":\"\"}},\"type\":\"parcoords\"}],\"pie\":[{\"automargin\":true,\"type\":\"pie\"}],\"scatter\":[{\"marker\":{\"colorbar\":{\"outlinewidth\":0,\"ticks\":\"\"}},\"type\":\"scatter\"}],\"scatter3d\":[{\"line\":{\"colorbar\":{\"outlinewidth\":0,\"ticks\":\"\"}},\"marker\":{\"colorbar\":{\"outlinewidth\":0,\"ticks\":\"\"}},\"type\":\"scatter3d\"}],\"scattercarpet\":[{\"marker\":{\"colorbar\":{\"outlinewidth\":0,\"ticks\":\"\"}},\"type\":\"scattercarpet\"}],\"scattergeo\":[{\"marker\":{\"colorbar\":{\"outlinewidth\":0,\"ticks\":\"\"}},\"type\":\"scattergeo\"}],\"scattergl\":[{\"marker\":{\"colorbar\":{\"outlinewidth\":0,\"ticks\":\"\"}},\"type\":\"scattergl\"}],\"scattermapbox\":[{\"marker\":{\"colorbar\":{\"outlinewidth\":0,\"ticks\":\"\"}},\"type\":\"scattermapbox\"}],\"scatterpolar\":[{\"marker\":{\"colorbar\":{\"outlinewidth\":0,\"ticks\":\"\"}},\"type\":\"scatterpolar\"}],\"scatterpolargl\":[{\"marker\":{\"colorbar\":{\"outlinewidth\":0,\"ticks\":\"\"}},\"type\":\"scatterpolargl\"}],\"scatterternary\":[{\"marker\":{\"colorbar\":{\"outlinewidth\":0,\"ticks\":\"\"}},\"type\":\"scatterternary\"}],\"surface\":[{\"colorbar\":{\"outlinewidth\":0,\"ticks\":\"\"},\"colorscale\":[[0.0,\"#0d0887\"],[0.1111111111111111,\"#46039f\"],[0.2222222222222222,\"#7201a8\"],[0.3333333333333333,\"#9c179e\"],[0.4444444444444444,\"#bd3786\"],[0.5555555555555556,\"#d8576b\"],[0.6666666666666666,\"#ed7953\"],[0.7777777777777778,\"#fb9f3a\"],[0.8888888888888888,\"#fdca26\"],[1.0,\"#f0f921\"]],\"type\":\"surface\"}],\"table\":[{\"cells\":{\"fill\":{\"color\":\"#EBF0F8\"},\"line\":{\"color\":\"white\"}},\"header\":{\"fill\":{\"color\":\"#C8D4E3\"},\"line\":{\"color\":\"white\"}},\"type\":\"table\"}]},\"layout\":{\"annotationdefaults\":{\"arrowcolor\":\"#2a3f5f\",\"arrowhead\":0,\"arrowwidth\":1},\"autotypenumbers\":\"strict\",\"coloraxis\":{\"colorbar\":{\"outlinewidth\":0,\"ticks\":\"\"}},\"colorscale\":{\"diverging\":[[0,\"#8e0152\"],[0.1,\"#c51b7d\"],[0.2,\"#de77ae\"],[0.3,\"#f1b6da\"],[0.4,\"#fde0ef\"],[0.5,\"#f7f7f7\"],[0.6,\"#e6f5d0\"],[0.7,\"#b8e186\"],[0.8,\"#7fbc41\"],[0.9,\"#4d9221\"],[1,\"#276419\"]],\"sequential\":[[0.0,\"#0d0887\"],[0.1111111111111111,\"#46039f\"],[0.2222222222222222,\"#7201a8\"],[0.3333333333333333,\"#9c179e\"],[0.4444444444444444,\"#bd3786\"],[0.5555555555555556,\"#d8576b\"],[0.6666666666666666,\"#ed7953\"],[0.7777777777777778,\"#fb9f3a\"],[0.8888888888888888,\"#fdca26\"],[1.0,\"#f0f921\"]],\"sequentialminus\":[[0.0,\"#0d0887\"],[0.1111111111111111,\"#46039f\"],[0.2222222222222222,\"#7201a8\"],[0.3333333333333333,\"#9c179e\"],[0.4444444444444444,\"#bd3786\"],[0.5555555555555556,\"#d8576b\"],[0.6666666666666666,\"#ed7953\"],[0.7777777777777778,\"#fb9f3a\"],[0.8888888888888888,\"#fdca26\"],[1.0,\"#f0f921\"]]},\"colorway\":[\"#636efa\",\"#EF553B\",\"#00cc96\",\"#ab63fa\",\"#FFA15A\",\"#19d3f3\",\"#FF6692\",\"#B6E880\",\"#FF97FF\",\"#FECB52\"],\"font\":{\"color\":\"#2a3f5f\"},\"geo\":{\"bgcolor\":\"white\",\"lakecolor\":\"white\",\"landcolor\":\"#E5ECF6\",\"showlakes\":true,\"showland\":true,\"subunitcolor\":\"white\"},\"hoverlabel\":{\"align\":\"left\"},\"hovermode\":\"closest\",\"mapbox\":{\"style\":\"light\"},\"paper_bgcolor\":\"white\",\"plot_bgcolor\":\"#E5ECF6\",\"polar\":{\"angularaxis\":{\"gridcolor\":\"white\",\"linecolor\":\"white\",\"ticks\":\"\"},\"bgcolor\":\"#E5ECF6\",\"radialaxis\":{\"gridcolor\":\"white\",\"linecolor\":\"white\",\"ticks\":\"\"}},\"scene\":{\"xaxis\":{\"backgroundcolor\":\"#E5ECF6\",\"gridcolor\":\"white\",\"gridwidth\":2,\"linecolor\":\"white\",\"showbackground\":true,\"ticks\":\"\",\"zerolinecolor\":\"white\"},\"yaxis\":{\"backgroundcolor\":\"#E5ECF6\",\"gridcolor\":\"white\",\"gridwidth\":2,\"linecolor\":\"white\",\"showbackground\":true,\"ticks\":\"\",\"zerolinecolor\":\"white\"},\"zaxis\":{\"backgroundcolor\":\"#E5ECF6\",\"gridcolor\":\"white\",\"gridwidth\":2,\"linecolor\":\"white\",\"showbackground\":true,\"ticks\":\"\",\"zerolinecolor\":\"white\"}},\"shapedefaults\":{\"line\":{\"color\":\"#2a3f5f\"}},\"ternary\":{\"aaxis\":{\"gridcolor\":\"white\",\"linecolor\":\"white\",\"ticks\":\"\"},\"baxis\":{\"gridcolor\":\"white\",\"linecolor\":\"white\",\"ticks\":\"\"},\"bgcolor\":\"#E5ECF6\",\"caxis\":{\"gridcolor\":\"white\",\"linecolor\":\"white\",\"ticks\":\"\"}},\"title\":{\"x\":0.05},\"xaxis\":{\"automargin\":true,\"gridcolor\":\"white\",\"linecolor\":\"white\",\"ticks\":\"\",\"title\":{\"standoff\":15},\"zerolinecolor\":\"white\",\"zerolinewidth\":2},\"yaxis\":{\"automargin\":true,\"gridcolor\":\"white\",\"linecolor\":\"white\",\"ticks\":\"\",\"title\":{\"standoff\":15},\"zerolinecolor\":\"white\",\"zerolinewidth\":2}}},\"xaxis\":{\"anchor\":\"y\",\"domain\":[0.0,0.45]},\"yaxis\":{\"anchor\":\"x\",\"domain\":[0.625,1.0]},\"xaxis2\":{\"anchor\":\"y2\",\"domain\":[0.55,1.0]},\"yaxis2\":{\"anchor\":\"x2\",\"domain\":[0.625,1.0]},\"xaxis3\":{\"anchor\":\"y3\",\"domain\":[0.0,0.45]},\"yaxis3\":{\"anchor\":\"x3\",\"domain\":[0.0,0.375]},\"xaxis4\":{\"anchor\":\"y4\",\"domain\":[0.55,1.0]},\"yaxis4\":{\"anchor\":\"x4\",\"domain\":[0.0,0.375]},\"annotations\":[{\"font\":{\"size\":16},\"showarrow\":false,\"text\":\"Sample number of Tweets\",\"x\":0.225,\"xanchor\":\"center\",\"xref\":\"paper\",\"y\":1.0,\"yanchor\":\"bottom\",\"yref\":\"paper\"},{\"font\":{\"size\":16},\"showarrow\":false,\"text\":\"Tweets Overall Polarity\",\"x\":0.775,\"xanchor\":\"center\",\"xref\":\"paper\",\"y\":1.0,\"yanchor\":\"bottom\",\"yref\":\"paper\"},{\"font\":{\"size\":16},\"showarrow\":false,\"text\":\"Retweets\",\"x\":0.225,\"xanchor\":\"center\",\"xref\":\"paper\",\"y\":0.375,\"yanchor\":\"bottom\",\"yref\":\"paper\"},{\"font\":{\"size\":16},\"showarrow\":false,\"text\":\"Likes\",\"x\":0.775,\"xanchor\":\"center\",\"xref\":\"paper\",\"y\":0.375,\"yanchor\":\"bottom\",\"yref\":\"paper\"}],\"title\":{\"text\":\"CEOs Activity on Twitter\"},\"height\":600,\"width\":800,\"showlegend\":false},                        {\"responsive\": true}                    ).then(function(){\n",
       "                            \n",
       "var gd = document.getElementById('196665a0-1642-4f7d-b5bf-e383b54c7577');\n",
       "var x = new MutationObserver(function (mutations, observer) {{\n",
       "        var display = window.getComputedStyle(gd).display;\n",
       "        if (!display || display === 'none') {{\n",
       "            console.log([gd, 'removed!']);\n",
       "            Plotly.purge(gd);\n",
       "            observer.disconnect();\n",
       "        }}\n",
       "}});\n",
       "\n",
       "// Listen for the removal of the full notebook cells\n",
       "var notebookContainer = gd.closest('#notebook-container');\n",
       "if (notebookContainer) {{\n",
       "    x.observe(notebookContainer, {childList: true});\n",
       "}}\n",
       "\n",
       "// Listen for the clearing of the current output cell\n",
       "var outputEl = gd.closest('.output');\n",
       "if (outputEl) {{\n",
       "    x.observe(outputEl, {childList: true});\n",
       "}}\n",
       "\n",
       "                        })                };                });            </script>        </div>"
      ]
     },
     "metadata": {},
     "output_type": "display_data"
    }
   ],
   "source": [
    "dfs_ceos_raw_plot = dfs_ceos_raw.groupby('ceo').count().reset_index()\n",
    "\n",
    "#Calculating Means:\n",
    "dfs_ceos_raw_plot['Avg_Tweets'] = dfs_ceos_raw_plot['full_text'].mean()\n",
    "dfs_ceos_polarity['Avg_Pol'] = dfs_ceos_polarity['polarity'].mean()\n",
    "dfs_ceos_polarity['Avg_Likes'] = dfs_ceos_polarity['Agg_favorite'].mean()\n",
    "dfs_ceos_polarity['Avg_Retweets'] = dfs_ceos_polarity['Agg_retweet'].mean()\n",
    "colors = {'color':[\"#a50026\",\"#d73027\",\"#f46d43\",\"#fdae61\",\"#fee090\",\"#abd9e9\",\"#74add1\",\"#4575b4\",\"#313695\",\"#1a1e74\"]}\n",
    "  \n",
    "\n",
    "# Plotting:\n",
    "fig = make_subplots(rows=2, cols=2,\n",
    "                   subplot_titles=(\"Sample number of Tweets\", \"Tweets Overall Polarity\", \"Retweets\",\"Likes\"))\n",
    "fig.add_trace(go.Bar(x=dfs_ceos_raw_plot['ceo'], y=dfs_ceos_raw_plot['full_text'],marker=colors), row=1, col=1)\n",
    "fig.add_trace(go.Scatter(x=dfs_ceos_raw_plot['ceo'], y=dfs_ceos_raw_plot['Avg_Tweets'],mode='lines',marker=dict(color=[\"#d73027\"])), row=1, col=1)\n",
    "\n",
    "fig.add_trace(go.Bar(x=dfs_ceos_polarity['ceo'], y=dfs_ceos_polarity['polarity'],marker=colors), row=1, col=2)\n",
    "fig.add_trace(go.Scatter(x=dfs_ceos_polarity['ceo'], y=dfs_ceos_polarity['Avg_Pol'],mode='lines',marker=dict(color=\"#d73027\")), row=1, col=2)\n",
    "\n",
    "fig.add_trace(go.Bar(x=dfs_ceos_polarity['ceo'], y=dfs_ceos_polarity['Agg_retweet'],marker=colors), row=2, col=1)\n",
    "fig.add_trace(go.Scatter(x=dfs_ceos_polarity['ceo'], y=dfs_ceos_polarity['Avg_Retweets'],mode='lines',marker=dict(color=\"#d73027\")), row=2, col=1)\n",
    "\n",
    "fig.add_trace(go.Bar(x=dfs_ceos_polarity['ceo'], y=dfs_ceos_polarity['Agg_favorite'],marker=colors), row=2, col=2)\n",
    "fig.add_trace(go.Scatter(x=dfs_ceos_polarity['ceo'], y=dfs_ceos_polarity['Avg_Likes'],mode='lines',marker=dict(color=\"#d73027\")), row=2, col=2)\n",
    "    \n",
    "fig.update_layout(height=600, width=800,title_text=\"CEOs Activity on Twitter\", showlegend=False)\n",
    "fig.show()\n"
   ]
  }
 ],
 "metadata": {
  "kernelspec": {
   "display_name": "TWT",
   "language": "python",
   "name": "twt"
  },
  "language_info": {
   "codemirror_mode": {
    "name": "ipython",
    "version": 3
   },
   "file_extension": ".py",
   "mimetype": "text/x-python",
   "name": "python",
   "nbconvert_exporter": "python",
   "pygments_lexer": "ipython3",
   "version": "3.8.5"
  }
 },
 "nbformat": 4,
 "nbformat_minor": 5
}
