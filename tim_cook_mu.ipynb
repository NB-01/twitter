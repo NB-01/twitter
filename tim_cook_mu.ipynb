{
 "cells": [
  {
   "cell_type": "code",
   "execution_count": 42,
   "id": "40d32e2a-7e3f-4d2e-b2a0-c861e96166a0",
   "metadata": {},
   "outputs": [],
   "source": [
    "import json\n",
    "from twython import Twython\n",
    "import pandas as pd\n",
    "\n",
    "with open(\"twitter_credentials.json\") as infile:\n",
    "    credentials = json.load(infile)\n",
    "\n",
    "twitter_client = Twython(credentials[\"consumer_key\"],\n",
    "                         credentials[\"consumer_secret\"],\n",
    "                         credentials[\"access_token\"],\n",
    "                         credentials[\"access_token_secret\"])"
   ]
  },
  {
   "cell_type": "code",
   "execution_count": 54,
   "id": "f344402a-714d-4f87-a649-fb2550b53997",
   "metadata": {},
   "outputs": [],
   "source": [
    "def load_ext_user_timeline(twitter_client, screen_name):\n",
    "    tweets = []\n",
    "    try:\n",
    "        user_timeline = twitter_client.get_user_timeline(screen_name=screen_name,count=200, tweet_mode='extended')\n",
    "    except TwythonError as e:\n",
    "        print(e)\n",
    "    for tweet in user_timeline:\n",
    "        # Add whatever you want from the tweet, here we just add the text\n",
    "        tweets.append(tweet)\n",
    "    # Count could be less than 200, see:\n",
    "    # https://dev.twitter.com/discussions/7513\n",
    "    while len(user_timeline) != 0:\n",
    "        try:\n",
    "            user_timeline = twitter_client.get_user_timeline(\n",
    "                screen_name=screen_name,count=200,max_id=user_timeline[len(user_timeline)-1]['id']-1, tweet_mode='extended')\n",
    "        except TwythonError as e:\n",
    "            print(e)\n",
    "        for tweet in user_timeline:\n",
    "            # Add whatever you want from the tweet, here we just add the text\n",
    "            tweets.append(tweet)\n",
    "    # Number of tweets the user has made\n",
    "    print(len(tweets))\n",
    "    return tweets\n"
   ]
  },
  {
   "cell_type": "code",
   "execution_count": 44,
   "id": "a1d697a1-2fb4-4eb6-a060-38b17eea43d9",
   "metadata": {},
   "outputs": [],
   "source": [
    "screen_name = 'tim_cook'"
   ]
  },
  {
   "cell_type": "code",
   "execution_count": 52,
   "id": "595e90e0-65b3-4d0a-8fe3-1c8e54a5b9a6",
   "metadata": {},
   "outputs": [
    {
     "name": "stdout",
     "output_type": "stream",
     "text": [
      "1261\n"
     ]
    }
   ],
   "source": [
    "tweets = load_ext_user_timeline(twitter_client, screen_name)"
   ]
  },
  {
   "cell_type": "code",
   "execution_count": 57,
   "id": "499338cb-2598-419c-8b4e-37e660e6edc5",
   "metadata": {},
   "outputs": [],
   "source": [
    "dict_timcook = pd.json_normalize(tweets)"
   ]
  },
  {
   "cell_type": "code",
   "execution_count": 61,
   "id": "830f6416-1b84-45c8-84e5-7bba7eca041a",
   "metadata": {},
   "outputs": [],
   "source": [
    "dict_timcook.to_csv('timcook.csv', index=False)"
   ]
  },
  {
   "cell_type": "code",
   "execution_count": null,
   "id": "8337be0f-9e1f-4e76-89ba-a751b2ebe94b",
   "metadata": {},
   "outputs": [],
   "source": []
  }
 ],
 "metadata": {
  "kernelspec": {
   "display_name": "TWT",
   "language": "python",
   "name": "twt"
  },
  "language_info": {
   "codemirror_mode": {
    "name": "ipython",
    "version": 3
   },
   "file_extension": ".py",
   "mimetype": "text/x-python",
   "name": "python",
   "nbconvert_exporter": "python",
   "pygments_lexer": "ipython3",
   "version": "3.8.5"
  }
 },
 "nbformat": 4,
 "nbformat_minor": 5
}
