{
 "cells": [
  {
   "cell_type": "code",
   "execution_count": 1,
   "id": "40d32e2a-7e3f-4d2e-b2a0-c861e96166a0",
   "metadata": {},
   "outputs": [],
   "source": [
    "import json\n",
    "from twython import Twython\n",
    "import pandas as pd\n",
    "from pandas import json_normalize\n",
    "\n",
    "with open(\"../../credentials/twitter_credentials.json\") as infile:\n",
    "    credentials = json.load(infile)\n",
    "\n",
    "twitter_client = Twython(credentials[\"consumer_key\"],\n",
    "                         credentials[\"consumer_secret\"],\n",
    "                         credentials[\"access_token\"],\n",
    "                         credentials[\"access_token_secret\"])"
   ]
  },
  {
   "cell_type": "code",
   "execution_count": 2,
   "id": "f344402a-714d-4f87-a649-fb2550b53997",
   "metadata": {},
   "outputs": [],
   "source": [
    "def load_ext_user_timeline(twitter_client, screen_name):\n",
    "    tweets = []\n",
    "    try:\n",
    "        user_timeline = twitter_client.get_user_timeline(screen_name=screen_name,count=200, tweet_mode='extended')\n",
    "    except TwythonError as e:\n",
    "        print(e)\n",
    "    for tweet in user_timeline:\n",
    "        # Add whatever you want from the tweet, here we just add the text\n",
    "        tweets.append(tweet)\n",
    "    # Count could be less than 200, see:\n",
    "    # https://dev.twitter.com/discussions/7513\n",
    "    while len(user_timeline) != 0:\n",
    "        try:\n",
    "            user_timeline = twitter_client.get_user_timeline(\n",
    "                screen_name=screen_name,count=200,max_id=user_timeline[len(user_timeline)-1]['id']-1, tweet_mode='extended')\n",
    "        except TwythonError as e:\n",
    "            print(e)\n",
    "        for tweet in user_timeline:\n",
    "            # Add whatever you want from the tweet, here we just add the text\n",
    "            tweets.append(tweet)\n",
    "    # Number of tweets the user has made\n",
    "    print(len(tweets))\n",
    "    return tweets\n"
   ]
  },
  {
   "cell_type": "code",
   "execution_count": 4,
   "id": "d241b456-7468-40c8-8f3c-8a02d93c18f3",
   "metadata": {},
   "outputs": [
    {
     "name": "stdout",
     "output_type": "stream",
     "text": [
      "271\n"
     ]
    }
   ],
   "source": [
    "screen_name = 'JeffBezos'\n",
    "tweets = load_ext_user_timeline(twitter_client, screen_name)\n",
    "dict_ceo = pd.json_normalize(tweets)\n",
    "dict_ceo.to_csv('/data/raw/screen_name+'.csv', index=False)"
   ]
  },
  {
   "cell_type": "code",
   "execution_count": null,
   "id": "5c70a602-96fa-420a-a3f5-b347ea66d5ba",
   "metadata": {},
   "outputs": [],
   "source": []
  }
 ],
 "metadata": {
  "kernelspec": {
   "display_name": "TWT",
   "language": "python",
   "name": "twt"
  },
  "language_info": {
   "codemirror_mode": {
    "name": "ipython",
    "version": 3
   },
   "file_extension": ".py",
   "mimetype": "text/x-python",
   "name": "python",
   "nbconvert_exporter": "python",
   "pygments_lexer": "ipython3",
   "version": "3.8.5"
  }
 },
 "nbformat": 4,
 "nbformat_minor": 5
}
